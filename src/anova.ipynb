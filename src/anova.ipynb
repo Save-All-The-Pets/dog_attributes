{
 "cells": [
  {
   "cell_type": "code",
   "execution_count": 2,
   "metadata": {},
   "outputs": [],
   "source": [
    "from pprint import pprint\n",
    "import pandas as pd\n",
    "import numpy as np\n",
    "from scipy import stats\n",
    "import matplotlib.pyplot as plt\n",
    "import itertools\n",
    "import seaborn as sns\n",
    "\n",
    "# Import the data\n",
    "nyc_registry = pd.read_csv('../dogdata/NYC_Dog_Licensing_Dataset_2016-edit.csv')\n",
    "coren = pd.read_csv('../dogdata/coren-edit.csv')\n",
    "nyc_census = pd.read_csv('../censusdata/ACS_16_1YR_S0201_with_ann-edit.csv') # use 2016 data\n",
    "edmonton_registry = pd.read_csv('../dogdata/Edmonton_Pet_Licenses_by_Neighbourhood_2018-edit.csv')\n",
    "adelaide_registry = pd.read_csv('../dogdata/Dog_Registrations_Adelaide_2016-edit.csv')\n",
    "wiki = pd.read_csv('../dogdata/wiki-edit.csv')\n",
    "turcsan = pd.read_csv('../dogdata/turcsan.csv')"
   ]
  },
  {
   "cell_type": "code",
   "execution_count": 14,
   "metadata": {},
   "outputs": [
    {
     "data": {
      "text/html": [
       "<div>\n",
       "<style scoped>\n",
       "    .dataframe tbody tr th:only-of-type {\n",
       "        vertical-align: middle;\n",
       "    }\n",
       "\n",
       "    .dataframe tbody tr th {\n",
       "        vertical-align: top;\n",
       "    }\n",
       "\n",
       "    .dataframe thead th {\n",
       "        text-align: right;\n",
       "    }\n",
       "</style>\n",
       "<table border=\"1\" class=\"dataframe\">\n",
       "  <thead>\n",
       "    <tr style=\"text-align: right;\">\n",
       "      <th></th>\n",
       "      <th>Calm</th>\n",
       "      <th>Trainable</th>\n",
       "      <th>Sociable</th>\n",
       "      <th>Bold</th>\n",
       "    </tr>\n",
       "  </thead>\n",
       "  <tbody>\n",
       "    <tr>\n",
       "      <th>Calm</th>\n",
       "      <td>1.000000</td>\n",
       "      <td>-0.596697</td>\n",
       "      <td>0.864370</td>\n",
       "      <td>0.753806</td>\n",
       "    </tr>\n",
       "    <tr>\n",
       "      <th>Trainable</th>\n",
       "      <td>-0.596697</td>\n",
       "      <td>1.000000</td>\n",
       "      <td>-0.331093</td>\n",
       "      <td>-0.409075</td>\n",
       "    </tr>\n",
       "    <tr>\n",
       "      <th>Sociable</th>\n",
       "      <td>0.864370</td>\n",
       "      <td>-0.331093</td>\n",
       "      <td>1.000000</td>\n",
       "      <td>0.815936</td>\n",
       "    </tr>\n",
       "    <tr>\n",
       "      <th>Bold</th>\n",
       "      <td>0.753806</td>\n",
       "      <td>-0.409075</td>\n",
       "      <td>0.815936</td>\n",
       "      <td>1.000000</td>\n",
       "    </tr>\n",
       "  </tbody>\n",
       "</table>\n",
       "</div>"
      ],
      "text/plain": [
       "               Calm  Trainable  Sociable      Bold\n",
       "Calm       1.000000  -0.596697  0.864370  0.753806\n",
       "Trainable -0.596697   1.000000 -0.331093 -0.409075\n",
       "Sociable   0.864370  -0.331093  1.000000  0.815936\n",
       "Bold       0.753806  -0.409075  0.815936  1.000000"
      ]
     },
     "execution_count": 14,
     "metadata": {},
     "output_type": "execute_result"
    }
   ],
   "source": [
    "turcsan.corr()"
   ]
  },
  {
   "cell_type": "code",
   "execution_count": 5,
   "metadata": {},
   "outputs": [],
   "source": [
    "# Strip out dirty values\n",
    "nyc_registry['Borough'] = nyc_registry['Borough'].map(lambda x: None if x not in {'Brooklyn', 'Bronx', 'Staten Island', 'Manhattan', 'Queens'} else x)\n",
    "nyc_registry['BreedName'] = nyc_registry['BreedName'].map(lambda x: None if x == 'Unknown' else x)\n",
    "nyc_registry.dropna(inplace=True)"
   ]
  },
  {
   "cell_type": "code",
   "execution_count": 6,
   "metadata": {},
   "outputs": [
    {
     "data": {
      "text/html": [
       "<div>\n",
       "<style scoped>\n",
       "    .dataframe tbody tr th:only-of-type {\n",
       "        vertical-align: middle;\n",
       "    }\n",
       "\n",
       "    .dataframe tbody tr th {\n",
       "        vertical-align: top;\n",
       "    }\n",
       "\n",
       "    .dataframe thead th {\n",
       "        text-align: right;\n",
       "    }\n",
       "</style>\n",
       "<table border=\"1\" class=\"dataframe\">\n",
       "  <thead>\n",
       "    <tr style=\"text-align: right;\">\n",
       "      <th></th>\n",
       "      <th>Calm</th>\n",
       "      <th>Trainable</th>\n",
       "      <th>Sociable</th>\n",
       "      <th>Bold</th>\n",
       "      <th>Obedient</th>\n",
       "    </tr>\n",
       "    <tr>\n",
       "      <th>Borough</th>\n",
       "      <th></th>\n",
       "      <th></th>\n",
       "      <th></th>\n",
       "      <th></th>\n",
       "      <th></th>\n",
       "    </tr>\n",
       "  </thead>\n",
       "  <tbody>\n",
       "    <tr>\n",
       "      <th>Bronx</th>\n",
       "      <td>0.378205</td>\n",
       "      <td>0.370192</td>\n",
       "      <td>0.381410</td>\n",
       "      <td>0.586538</td>\n",
       "      <td>0.505029</td>\n",
       "    </tr>\n",
       "    <tr>\n",
       "      <th>Brooklyn</th>\n",
       "      <td>0.458333</td>\n",
       "      <td>0.419643</td>\n",
       "      <td>0.462054</td>\n",
       "      <td>0.604167</td>\n",
       "      <td>0.484541</td>\n",
       "    </tr>\n",
       "    <tr>\n",
       "      <th>Manhattan</th>\n",
       "      <td>0.490585</td>\n",
       "      <td>0.467790</td>\n",
       "      <td>0.506442</td>\n",
       "      <td>0.617939</td>\n",
       "      <td>0.524446</td>\n",
       "    </tr>\n",
       "    <tr>\n",
       "      <th>Queens</th>\n",
       "      <td>0.401709</td>\n",
       "      <td>0.402564</td>\n",
       "      <td>0.415385</td>\n",
       "      <td>0.576923</td>\n",
       "      <td>0.513731</td>\n",
       "    </tr>\n",
       "    <tr>\n",
       "      <th>Staten Island</th>\n",
       "      <td>0.565359</td>\n",
       "      <td>0.436275</td>\n",
       "      <td>0.568627</td>\n",
       "      <td>0.681373</td>\n",
       "      <td>0.541384</td>\n",
       "    </tr>\n",
       "  </tbody>\n",
       "</table>\n",
       "</div>"
      ],
      "text/plain": [
       "                   Calm  Trainable  Sociable      Bold  Obedient\n",
       "Borough                                                         \n",
       "Bronx          0.378205   0.370192  0.381410  0.586538  0.505029\n",
       "Brooklyn       0.458333   0.419643  0.462054  0.604167  0.484541\n",
       "Manhattan      0.490585   0.467790  0.506442  0.617939  0.524446\n",
       "Queens         0.401709   0.402564  0.415385  0.576923  0.513731\n",
       "Staten Island  0.565359   0.436275  0.568627  0.681373  0.541384"
      ]
     },
     "execution_count": 6,
     "metadata": {},
     "output_type": "execute_result"
    }
   ],
   "source": [
    "attrib = coren.set_index('Breed').join(turcsan.set_index('Breed'), how='outer')\n",
    "nyc_attrib = nyc_registry.set_index('BreedName').join(attrib, how='left')\n",
    "nyc_attrib = nyc_attrib[['Borough','Calm', 'Trainable', 'Sociable', 'Bold', 'Obedient']]\n",
    "nyc_attrib_g = nyc_attrib.groupby('Borough')\n",
    "nyc_attrib_g_mean = nyc_attrib_g.mean()\n",
    "nyc_attrib_g_mean"
   ]
  },
  {
   "cell_type": "code",
   "execution_count": 13,
   "metadata": {},
   "outputs": [
    {
     "data": {
      "text/plain": [
       "array([0.37820513, 0.37019231, 0.38141026, 0.58653846, 0.50502874])"
      ]
     },
     "execution_count": 13,
     "metadata": {},
     "output_type": "execute_result"
    }
   ],
   "source": [
    "nyc_attrib_g_mean.iloc[0].values"
   ]
  },
  {
   "cell_type": "code",
   "execution_count": 14,
   "metadata": {},
   "outputs": [
    {
     "name": "stdout",
     "output_type": "stream",
     "text": [
      "One-way ANOVA\n",
      "=============\n",
      "F value: 1.6768563660187459\n",
      "P value: 0.1947447193366099 \n",
      "\n"
     ]
    }
   ],
   "source": [
    "f, p = stats.f_oneway(nyc_attrib_g_mean.iloc[0].values,\n",
    "                      nyc_attrib_g_mean.iloc[1].values,\n",
    "                      nyc_attrib_g_mean.iloc[2].values,\n",
    "                      nyc_attrib_g_mean.iloc[3].values,\n",
    "                      nyc_attrib_g_mean.iloc[4].values)\n",
    " \n",
    "print ('One-way ANOVA')\n",
    "print ('=============')\n",
    "print ('F value:', f)\n",
    "print ('P value:', p, '\\n')"
   ]
  },
  {
   "cell_type": "markdown",
   "metadata": {},
   "source": [
    "## P-value > 0.05, so I fail to reject the null hypothesis"
   ]
  },
  {
   "cell_type": "code",
   "execution_count": null,
   "metadata": {},
   "outputs": [],
   "source": []
  }
 ],
 "metadata": {
  "kernelspec": {
   "display_name": "Python 3",
   "language": "python",
   "name": "python3"
  },
  "language_info": {
   "codemirror_mode": {
    "name": "ipython",
    "version": 3
   },
   "file_extension": ".py",
   "mimetype": "text/x-python",
   "name": "python",
   "nbconvert_exporter": "python",
   "pygments_lexer": "ipython3",
   "version": "3.7.2"
  }
 },
 "nbformat": 4,
 "nbformat_minor": 2
}
