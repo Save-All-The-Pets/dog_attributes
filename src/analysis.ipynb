{
 "cells": [
  {
   "cell_type": "markdown",
   "metadata": {},
   "source": [
    "Open question: Many of the dogs in NYC are coded as American Pit Bull Mix or Bull Terrier. However, in Coren and Turcsán's study, only American Staffordshire Terriers and Staffordshire Bull Terriers are listed. Is it fair to call an American Pit Bull an American Staffordshire Terrier and a Bull Terrier a Staffordshire Bull Terrier?\n",
    "\n",
    "Other cities with pet licensing: San Francisco (https://www.sfanimalcare.org/services/licensing-your-pet/), LA (http://animalcare.lacounty.gov/), Houston, Dallas, Chicago (http://www.chicityclerk.com/dogs), Boston (https://www.cityofboston.gov/animals/licenseapp/), Philadelphia (http://license.acctphilly.org/), Phoenix (https://www.maricopa.gov/226/Dog-License), San Diego (https://www.sdhumane.org/services/licensing/), Miami - $5 (https://www8.miamidade.gov/global/license.page), San Jose (http://www.sanjoseca.gov/index.aspx?NID=1388), Jacksonville (http://www.coj.net/departments/neighborhoods/animal-care-protective-services/license-your-pet), Columbus (https://www.franklincountyauditor.com/dogs/dog-licensing), DC (https://dchealth.dc.gov/dog-licensing), Fort Worth (req if not microchipped, http://fortworthtexas.gov/animals/licenses/), Charlotte (https://www.petdata.com/for-pet-owners/chr/license-online), Denver (https://www.denvergov.org/content/denvergov/en/denver-animal-shelter/pet-services/pet-licensing.html), Portland (https://multcopets.org/licensing-information)\n",
    "\n",
    "No: Austin, San Antonio (elim 2015), Indianapolis (elim 1998)\n",
    "\n",
    "Stopped at #20 https://en.wikipedia.org/wiki/List_of_United_States_cities_by_population\n",
    "\n",
    "World: \n",
    "Berlin (120 euros first dog, https://service.berlin.de/dienstleistung/121494/), London - abolished 1980s, Ireland (everyone, https://www.anpost.ie/AnPost/MainContent/Personal+Customers/More+from+An+Post/Dog+Licence/dog_licence.htm)\n",
    "\n",
    "All EU countries: https://www.carodog.eu/identification-and-registration/"
   ]
  },
  {
   "cell_type": "code",
   "execution_count": 51,
   "metadata": {},
   "outputs": [],
   "source": [
    "from pprint import pprint\n",
    "import pandas as pd\n",
    "import numpy as np\n",
    "from scipy import stats\n",
    "import matplotlib.pyplot as plt\n",
    "from mpl_toolkits.mplot3d import Axes3D\n",
    "import itertools\n",
    "from statsmodels.stats.multicomp import pairwise_tukeyhsd\n",
    "from statsmodels.stats.multicomp import MultiComparison\n",
    "import seaborn as sns\n",
    "\n",
    "\n",
    "import warnings\n",
    "warnings.filterwarnings('ignore')\n",
    "\n",
    "pd.options.display.max_rows = 200\n",
    "\n",
    "# Import the data\n",
    "nyc_registry = pd.read_csv('../dogdata/NYC_Dog_Licensing_Dataset_2015-edit.csv')\n",
    "coren = pd.read_csv('../dogdata/coren-edit.csv')\n",
    "# nyc_census = pd.read_csv('../censusdata/ACS_16_1YR_S0201_with_ann-edit.csv') # use 2016 data\n",
    "edmonton_registry = pd.read_csv('../dogdata/Edmonton_Pet_Licenses_by_Neighbourhood_2018-edit.csv')\n",
    "adelaide_registry = pd.read_csv('../dogdata/Dog_Registrations_Adelaide_2016-edit.csv')\n",
    "seattle_registry = pd.read_csv('../dogdata/Seattle_Pet_Licenses-2018-edit2.csv')\n",
    "wiki = pd.read_csv('../dogdata/wiki-edit.csv')\n",
    "turcsan = pd.read_csv('../dogdata/turcsan.csv')\n",
    "\n",
    "# List of attributes\n",
    "lst = ['Trainable', 'Obedient', 'Bold', 'Calm','Sociable']\n",
    "borough = ['Bronx','Brooklyn','Manhattan','Queens','Staten Island']\n",
    "# Pare down the Coren data\n",
    "coren = coren[['Breed', 'Obedient']]\n",
    "# Combine the Coren and Turcsan datasets\n",
    "attrib = coren.set_index('Breed').join(turcsan.set_index('Breed'), how='outer')\n",
    "\n",
    "\n",
    "def describe(df, categ, filename=None, display=True):\n",
    "    \"\"\"Show the mean and standard deviation of the data and optionally plot. Optionally save a file of the plot.\n",
    "    \n",
    "    Arguments:\n",
    "        df {DataFrame} -- DataFrame to describe\n",
    "        categ {str} -- Display category\n",
    "    \n",
    "    Keyword Arguments:\n",
    "        filename {str} -- Name of file to save to (default: {None})\n",
    "        display {bool} -- Whether or not to display a plot (default: {True})\n",
    "    \"\"\"\n",
    "    print('\\n'+categ+' Mean')\n",
    "    attrib_mean = df[lst].mean()\n",
    "    print(attrib_mean.round(decimals=2))\n",
    "    print('\\n'+categ+' Standard Deviation')\n",
    "    print(attrib[lst].std().round(decimals=2))\n",
    "\n",
    "    plt.title(categ+' Overall Attributes')\n",
    "    plt.bar(attrib_mean.index, attrib_mean.values)\n",
    "    plt.ylim([0,0.75])\n",
    "    if filename is not None:\n",
    "        plt.savefig('../plots/'+filename)\n",
    "    if display:\n",
    "        plt.show()\n",
    "\n",
    "def describe_breeds(save=False):\n",
    "    '''Show the intersection of different breeds of dogs according to which dataset they come from. For example, Dogue de Bordeaux is in the Turcsan set but not in the Wiki scraped set.\n",
    "\n",
    "    Returns:\n",
    "        None\n",
    "    '''\n",
    "    wiki_breeds = set(wiki['Breed'].tolist())\n",
    "    coren_breeds = set(coren['Breed'].tolist())\n",
    "    turcsan_breeds = set(turcsan['Breed'].tolist())\n",
    "\n",
    "    print('\\nIntersection, Wiki and Turcsan')\n",
    "    print(wiki_breeds & turcsan_breeds)\n",
    "    print('\\nIntersection, Wiki and Coren')\n",
    "    print(wiki_breeds & coren_breeds)\n",
    "    print('\\nDifference, Wiki - Turcsan')\n",
    "    print(wiki_breeds - turcsan_breeds)\n",
    "    print('\\nDifference, Turcsan - Wiki')\n",
    "    print(turcsan_breeds - wiki_breeds)\n",
    "    print('\\nDifference, Wiki - Coren')\n",
    "    print(wiki_breeds - coren_breeds)\n",
    "    print('\\nDifference, Coren - Wiki')\n",
    "    print(coren_breeds - wiki_breeds)\n",
    "\n",
    "def plot_by_attrib(df, categ,label, filename=None, display=True):\n",
    "    \"\"\"Plot a graph by the attributes provided.\n",
    "    \n",
    "    Arguments:\n",
    "        df {DataFrame} -- DF to plot\n",
    "        categ {list} -- Categories to plot\n",
    "        label {str} -- Label for what the data is describing\n",
    "    \n",
    "    Keyword Arguments:\n",
    "        filename {str} -- Name of the file to optionally save (default: {None})\n",
    "        display {bool} -- Whether or not to display the plot (default: {True})\n",
    "    \"\"\"\n",
    "    fig, ax = plt.subplots()\n",
    "    plt.setp(ax.xaxis.get_majorticklabels(), rotation=45, ha='right', rotation_mode='anchor')\n",
    "    for item in categ:\n",
    "        ax.plot(df.index, df[item])\n",
    "\n",
    "    plt.gcf().subplots_adjust(bottom=0.3, right=.75)\n",
    "    plt.legend(loc=(1.04,0.6))\n",
    "    plt.title('Scores by '+ label)\n",
    "    ax.set_ylabel('Score')\n",
    "    ax.set_xlabel(label)\n",
    "    if filename is not None:\n",
    "        plt.savefig('../plots/'+filename)\n",
    "    if display:\n",
    "        plt.show()\n",
    "\n",
    "\n",
    "def splitDataFrameList(df,target_column,separator):\n",
    "    \"\"\"Thanks to James Allen, https://gist.github.com/jlln/338b4b0b55bd6984f883\n",
    "    \n",
    "    Arguments:\n",
    "        df {DataFrame} -- DataFrame to split,\n",
    "        target_column {string} -- The column containing the values to split\n",
    "        separator {str} -- The symbol used to perform the split\n",
    "    \n",
    "    Returns:\n",
    "        DataFrame -- A dataframe with each entry for the target column separated, with each element moved into a new row. \n",
    "    The values in the other columns are duplicated across the newly divided rows.\n",
    "    \"\"\"\n",
    "    def splitListToRows(row,row_accumulator,target_column,separator):\n",
    "        split_row = row[target_column].split(separator)\n",
    "        for s in split_row:\n",
    "            new_row = row.to_dict()\n",
    "            new_row[target_column] = s\n",
    "            row_accumulator.append(new_row)\n",
    "    new_rows = []\n",
    "    df.apply(splitListToRows,axis=1,args = (new_rows,target_column,separator))\n",
    "    new_df = pd.DataFrame(new_rows)\n",
    "    return new_df"
   ]
  },
  {
   "cell_type": "code",
   "execution_count": 2,
   "metadata": {},
   "outputs": [
    {
     "name": "stdout",
     "output_type": "stream",
     "text": [
      "Note: for a 1-year period varying from 2015-2018\n",
      "New York total dogs:  121950\n",
      "Seattle total dogs:   18227\n",
      "Edmonton total dogs:  59266\n",
      "Adelaide total dogs:  16075\n"
     ]
    }
   ],
   "source": [
    "print('Note: for a 1-year period varying from 2015-2018')\n",
    "print('New York total dogs: ',nyc_registry.shape[0])\n",
    "print('Seattle total dogs:  ',seattle_registry.shape[0])\n",
    "print('Edmonton total dogs: ',edmonton_registry.shape[0])\n",
    "print('Adelaide total dogs: ',adelaide_registry.shape[0])"
   ]
  },
  {
   "cell_type": "code",
   "execution_count": 27,
   "metadata": {},
   "outputs": [
    {
     "data": {
      "text/html": [
       "<div>\n",
       "<style scoped>\n",
       "    .dataframe tbody tr th:only-of-type {\n",
       "        vertical-align: middle;\n",
       "    }\n",
       "\n",
       "    .dataframe tbody tr th {\n",
       "        vertical-align: top;\n",
       "    }\n",
       "\n",
       "    .dataframe thead th {\n",
       "        text-align: right;\n",
       "    }\n",
       "</style>\n",
       "<table border=\"1\" class=\"dataframe\">\n",
       "  <thead>\n",
       "    <tr style=\"text-align: right;\">\n",
       "      <th></th>\n",
       "      <th>Unique_ID</th>\n",
       "      <th>AnimalName</th>\n",
       "      <th>AnimalClass</th>\n",
       "      <th>AnimalBreed</th>\n",
       "      <th>AnimalColour</th>\n",
       "      <th>AnimalGender</th>\n",
       "      <th>AnimalDesexed</th>\n",
       "      <th>locality</th>\n",
       "      <th>OBJECTID</th>\n",
       "    </tr>\n",
       "  </thead>\n",
       "  <tbody>\n",
       "    <tr>\n",
       "      <th>0</th>\n",
       "      <td>1000</td>\n",
       "      <td>Scruff</td>\n",
       "      <td>Desexed/Pension/Microchipped</td>\n",
       "      <td>Shih Tzu</td>\n",
       "      <td>Black &amp; White</td>\n",
       "      <td>M</td>\n",
       "      <td>Y</td>\n",
       "      <td>KLEMZIG</td>\n",
       "      <td>0</td>\n",
       "    </tr>\n",
       "    <tr>\n",
       "      <th>1</th>\n",
       "      <td>1001</td>\n",
       "      <td>Rusty</td>\n",
       "      <td>Pension</td>\n",
       "      <td>Kelpie</td>\n",
       "      <td>Black &amp; Brown &amp; White</td>\n",
       "      <td>M</td>\n",
       "      <td>N</td>\n",
       "      <td>KLEMZIG</td>\n",
       "      <td>1</td>\n",
       "    </tr>\n",
       "    <tr>\n",
       "      <th>2</th>\n",
       "      <td>1002</td>\n",
       "      <td>Flute</td>\n",
       "      <td>Standard</td>\n",
       "      <td>Blue Heeler</td>\n",
       "      <td>Blue</td>\n",
       "      <td>F</td>\n",
       "      <td>N</td>\n",
       "      <td>KLEMZIG</td>\n",
       "      <td>2</td>\n",
       "    </tr>\n",
       "    <tr>\n",
       "      <th>3</th>\n",
       "      <td>1003</td>\n",
       "      <td>Max</td>\n",
       "      <td>Pension</td>\n",
       "      <td>Blue Heeler</td>\n",
       "      <td>Unknown</td>\n",
       "      <td>M</td>\n",
       "      <td>N</td>\n",
       "      <td>KLEMZIG</td>\n",
       "      <td>3</td>\n",
       "    </tr>\n",
       "    <tr>\n",
       "      <th>4</th>\n",
       "      <td>1004</td>\n",
       "      <td>Milo</td>\n",
       "      <td>Desexed</td>\n",
       "      <td>Spoodle</td>\n",
       "      <td>Chocolate</td>\n",
       "      <td>M</td>\n",
       "      <td>Y</td>\n",
       "      <td>KLEMZIG</td>\n",
       "      <td>4</td>\n",
       "    </tr>\n",
       "  </tbody>\n",
       "</table>\n",
       "</div>"
      ],
      "text/plain": [
       "   Unique_ID AnimalName                   AnimalClass  AnimalBreed  \\\n",
       "0       1000     Scruff  Desexed/Pension/Microchipped     Shih Tzu   \n",
       "1       1001      Rusty                       Pension       Kelpie   \n",
       "2       1002      Flute                      Standard  Blue Heeler   \n",
       "3       1003        Max                       Pension  Blue Heeler   \n",
       "4       1004       Milo                       Desexed      Spoodle   \n",
       "\n",
       "            AnimalColour AnimalGender AnimalDesexed locality  OBJECTID  \n",
       "0          Black & White            M             Y  KLEMZIG         0  \n",
       "1  Black & Brown & White            M             N  KLEMZIG         1  \n",
       "2                   Blue            F             N  KLEMZIG         2  \n",
       "3                Unknown            M             N  KLEMZIG         3  \n",
       "4              Chocolate            M             Y  KLEMZIG         4  "
      ]
     },
     "execution_count": 27,
     "metadata": {},
     "output_type": "execute_result"
    }
   ],
   "source": [
    "adelaide_registry.head()"
   ]
  },
  {
   "cell_type": "markdown",
   "metadata": {},
   "source": [
    "There is something wrong with the Seattle dataset. For example, in 2015 there were only approx 206 dogs registered."
   ]
  },
  {
   "cell_type": "code",
   "execution_count": 3,
   "metadata": {
    "scrolled": true
   },
   "outputs": [
    {
     "name": "stdout",
     "output_type": "stream",
     "text": [
      "New York ownership/reporting percentage:  1.421\n",
      "Seattle ownership/reporting percentage:  0.471\n",
      "Edmonton ownership/reporting percentage:  6.135\n",
      "Adelaide ownership/reporting percentage:  1.2\n"
     ]
    }
   ],
   "source": [
    "ny_pop = 8582000\n",
    "seattle_pop = 3870000\n",
    "edmonton_pop = 966000\n",
    "adelaide_pop = 1340000\n",
    "\n",
    "print('New York ownership/reporting percentage: ',round(100*nyc_registry.shape[0]/ny_pop,3))\n",
    "print('Seattle ownership/reporting percentage: ',round(100*seattle_registry.shape[0]/seattle_pop,3))\n",
    "print('Edmonton ownership/reporting percentage: ',round(100*edmonton_registry.shape[0]/edmonton_pop,3))\n",
    "print('Adelaide ownership/reporting percentage: ',round(100*adelaide_registry.shape[0]/adelaide_pop,3))"
   ]
  },
  {
   "cell_type": "code",
   "execution_count": 4,
   "metadata": {},
   "outputs": [
    {
     "name": "stdout",
     "output_type": "stream",
     "text": [
      "Correlation coefficients\n"
     ]
    },
    {
     "data": {
      "text/html": [
       "<div>\n",
       "<style scoped>\n",
       "    .dataframe tbody tr th:only-of-type {\n",
       "        vertical-align: middle;\n",
       "    }\n",
       "\n",
       "    .dataframe tbody tr th {\n",
       "        vertical-align: top;\n",
       "    }\n",
       "\n",
       "    .dataframe thead th {\n",
       "        text-align: right;\n",
       "    }\n",
       "</style>\n",
       "<table border=\"1\" class=\"dataframe\">\n",
       "  <thead>\n",
       "    <tr style=\"text-align: right;\">\n",
       "      <th></th>\n",
       "      <th>Obedient</th>\n",
       "      <th>Calm</th>\n",
       "      <th>Trainable</th>\n",
       "      <th>Sociable</th>\n",
       "      <th>Bold</th>\n",
       "    </tr>\n",
       "  </thead>\n",
       "  <tbody>\n",
       "    <tr>\n",
       "      <th>Obedient</th>\n",
       "      <td>1.000000</td>\n",
       "      <td>-0.249117</td>\n",
       "      <td>0.354953</td>\n",
       "      <td>-0.217504</td>\n",
       "      <td>-0.231250</td>\n",
       "    </tr>\n",
       "    <tr>\n",
       "      <th>Calm</th>\n",
       "      <td>-0.249117</td>\n",
       "      <td>1.000000</td>\n",
       "      <td>-0.596697</td>\n",
       "      <td>0.864370</td>\n",
       "      <td>0.753806</td>\n",
       "    </tr>\n",
       "    <tr>\n",
       "      <th>Trainable</th>\n",
       "      <td>0.354953</td>\n",
       "      <td>-0.596697</td>\n",
       "      <td>1.000000</td>\n",
       "      <td>-0.331093</td>\n",
       "      <td>-0.409075</td>\n",
       "    </tr>\n",
       "    <tr>\n",
       "      <th>Sociable</th>\n",
       "      <td>-0.217504</td>\n",
       "      <td>0.864370</td>\n",
       "      <td>-0.331093</td>\n",
       "      <td>1.000000</td>\n",
       "      <td>0.815936</td>\n",
       "    </tr>\n",
       "    <tr>\n",
       "      <th>Bold</th>\n",
       "      <td>-0.231250</td>\n",
       "      <td>0.753806</td>\n",
       "      <td>-0.409075</td>\n",
       "      <td>0.815936</td>\n",
       "      <td>1.000000</td>\n",
       "    </tr>\n",
       "  </tbody>\n",
       "</table>\n",
       "</div>"
      ],
      "text/plain": [
       "           Obedient      Calm  Trainable  Sociable      Bold\n",
       "Obedient   1.000000 -0.249117   0.354953 -0.217504 -0.231250\n",
       "Calm      -0.249117  1.000000  -0.596697  0.864370  0.753806\n",
       "Trainable  0.354953 -0.596697   1.000000 -0.331093 -0.409075\n",
       "Sociable  -0.217504  0.864370  -0.331093  1.000000  0.815936\n",
       "Bold      -0.231250  0.753806  -0.409075  0.815936  1.000000"
      ]
     },
     "execution_count": 4,
     "metadata": {},
     "output_type": "execute_result"
    }
   ],
   "source": [
    "print('Correlation coefficients')\n",
    "attrib.corr()"
   ]
  },
  {
   "cell_type": "code",
   "execution_count": 21,
   "metadata": {},
   "outputs": [
    {
     "data": {
      "text/html": [
       "<div>\n",
       "<style scoped>\n",
       "    .dataframe tbody tr th:only-of-type {\n",
       "        vertical-align: middle;\n",
       "    }\n",
       "\n",
       "    .dataframe tbody tr th {\n",
       "        vertical-align: top;\n",
       "    }\n",
       "\n",
       "    .dataframe thead th {\n",
       "        text-align: right;\n",
       "    }\n",
       "</style>\n",
       "<table border=\"1\" class=\"dataframe\">\n",
       "  <thead>\n",
       "    <tr style=\"text-align: right;\">\n",
       "      <th></th>\n",
       "      <th>Breed</th>\n",
       "      <th>Obedient</th>\n",
       "    </tr>\n",
       "  </thead>\n",
       "  <tbody>\n",
       "    <tr>\n",
       "      <th>0</th>\n",
       "      <td>Border Collie</td>\n",
       "      <td>0.95</td>\n",
       "    </tr>\n",
       "    <tr>\n",
       "      <th>1</th>\n",
       "      <td>Poodle</td>\n",
       "      <td>0.95</td>\n",
       "    </tr>\n",
       "    <tr>\n",
       "      <th>2</th>\n",
       "      <td>German Shepherd</td>\n",
       "      <td>0.95</td>\n",
       "    </tr>\n",
       "    <tr>\n",
       "      <th>3</th>\n",
       "      <td>Golden Retriever</td>\n",
       "      <td>0.95</td>\n",
       "    </tr>\n",
       "    <tr>\n",
       "      <th>4</th>\n",
       "      <td>Doberman Pinscher</td>\n",
       "      <td>0.95</td>\n",
       "    </tr>\n",
       "  </tbody>\n",
       "</table>\n",
       "</div>"
      ],
      "text/plain": [
       "               Breed  Obedient\n",
       "0      Border Collie      0.95\n",
       "1             Poodle      0.95\n",
       "2    German Shepherd      0.95\n",
       "3   Golden Retriever      0.95\n",
       "4  Doberman Pinscher      0.95"
      ]
     },
     "execution_count": 21,
     "metadata": {},
     "output_type": "execute_result"
    }
   ],
   "source": [
    "coren.head()"
   ]
  },
  {
   "cell_type": "code",
   "execution_count": 5,
   "metadata": {
    "scrolled": true
   },
   "outputs": [
    {
     "name": "stdout",
     "output_type": "stream",
     "text": [
      "\n",
      "Intersection, Wiki and Turcsan\n",
      "{'Shetland Sheepdog', 'Pointer', 'Staffordshire Bull Terrier', 'Lhasa Apso', 'Soft-Coated Wheaten Terrier', 'Briard', 'Jack Russell Terrier', 'Doberman Pinscher', 'Border Terrier', 'Great Dane', 'German Shorthaired Pointer', 'Old English Sheepdog', 'Weimaraner', 'Beauceron', 'Airedale Terrier', 'Giant Schnauzer', 'Poodle', 'Irish Setter', 'Standard Schnauzer', 'Shar Pei', 'Labrador Retriever', 'Alaskan Malamute', 'Bulldog', 'Dachshund', 'Welsh Terrier', 'Pug', 'Dalmatian', 'German Wirehaired Pointer', 'Ibizan Hound', 'Shiba Inu', 'Golden Retriever', 'Australian Shepherd', 'French Bulldog', 'Maltese', 'Pekingese', 'Whippet', 'Bernese Mountain Dog', 'Rottweiler', 'Vizsla', 'Coton de Tulear', 'Shih Tzu', 'Border Collie', 'Greater Swiss Mountain Dog', 'Gordon Setter', 'Beagle', 'Polish Lowland Sheepdog', 'Brittany', 'Bull Terrier', 'Chihuahua', 'Bearded Collie', 'Flat-Coated Retriever', 'Irish Terrier', 'Cairn Terrier', 'Yorkshire Terrier', 'Tibetan Terrier', 'Rhodesian Ridgeback', 'Cavalier King Charles Spaniel', 'Irish Wolfhound', 'Siberian Husky', 'Belgian Malinois', 'Miniature Poodle', 'Saint Bernard', 'German Shepherd', 'American Staffordshire Terrier', 'Boxer', 'English Setter'}\n",
      "\n",
      "Intersection, Wiki and Coren\n",
      "{'Field Spaniel', 'Staffordshire Bull Terrier', 'Soft-Coated Wheaten Terrier', 'Jack Russell Terrier', 'Basenji', 'Tibetan Spaniel', 'Sealyham Terrier', 'Bullmastiff', 'Newfoundland', 'Boston Terrier', 'Puli', 'Irish Water Spaniel', 'Poodle', 'Irish Setter', 'Curly Coated Retriever', 'Kerry Blue Terrier', 'American Foxhound', 'Akita', 'Golden Retriever', 'French Bulldog', 'Maltese', 'Keeshond', 'Chesapeake Bay Retriever', 'Schipperke', 'Gordon Setter', 'Portuguese Water Dog', 'Skye Terrier', 'West Highland White Terrier', 'Fox Terrier', 'Tibetan Terrier', 'Irish Wolfhound', 'Lakeland Terrier', 'Pharaoh Hound', 'Brussels Griffon', 'Petit Basset Griffon Vendeen', 'Afghan Hound', 'Doberman Pinscher', 'Scottish Terrier', 'Giant Schnauzer', 'English Foxhound', 'Affenpinscher', 'Standard Schnauzer', 'Shar Pei', 'Bulldog', 'Welsh Terrier', 'Pug', 'German Wirehaired Pointer', 'Australian Shepherd', 'Whippet', 'Shih Tzu', 'Cairn Terrier', 'Cavalier King Charles Spaniel', 'Clumber Spaniel', 'Black and Tan Coonhound', 'Saint Bernard', 'German Shepherd', 'Cardigan Welsh Corgi', 'Bouvier des Flandres', 'English Setter', 'Cocker Spaniel', 'Shetland Sheepdog', 'Briard', 'Australian Cattle Dog', 'Border Terrier', 'Pomeranian', 'Borzoi', 'Scottish Deerhound', 'Bichon Frise', 'Shiba Inu', 'Belgian Sheepdog', 'Bloodhound', 'Pekingese', 'American Water Spaniel', 'Greyhound', 'Bernese Mountain Dog', 'Vizsla', 'Finnish Spitz', 'Chinese Crested', 'Beagle', 'Basset Hound', 'Bull Terrier', 'Bearded Collie', 'Flat-Coated Retriever', 'Kuvasz', 'Belgian Malinois', 'Manchester Terrier', 'Great Pyrenees', 'Saluki', 'Pointer', 'Lhasa Apso', 'Welsh Springer Spaniel', 'Wirehaired Pointing Griffon', 'Weimaraner', 'German Shorthaired Pointer', 'Norwegian Elkhound', 'Great Dane', 'Old English Sheepdog', 'Airedale Terrier', 'Labrador Retriever', 'Alaskan Malamute', 'Otter Hound', 'Bedlington Terrier', 'Dachshund', 'Dalmatian', 'Ibizan Hound', 'English Springer Spaniel', 'Italian Greyhound', 'Japanese Chin', 'Rottweiler', 'Chow Chow', 'Brittany', 'Chihuahua', 'Irish Terrier', 'Dandie Dinmont Terrier', 'Yorkshire Terrier', 'Rhodesian Ridgeback', 'Siberian Husky', 'Australian Terrier', 'American Staffordshire Terrier', 'Boxer', 'Border Collie'}\n",
      "\n",
      "Difference, Wiki - Turcsan\n",
      "{'Field Spaniel', 'Basenji', 'Tibetan Spaniel', 'Sealyham Terrier', 'Bullmastiff', 'Newfoundland', 'Boston Terrier', 'Puli', 'Irish Water Spaniel', 'Curly Coated Retriever', 'Toy Poodle', 'Kerry Blue Terrier', 'American Foxhound', 'Akita', 'Keeshond', 'Nova Scotia Duck Tolling Retriever', 'Chesapeake Bay Retriever', 'Schipperke', 'Portuguese Water Dog', 'Black Russian Terrier', 'Skye Terrier', 'West Highland White Terrier', 'Fox Terrier', 'Komondor', 'Lakeland Terrier', 'Plott Hound', 'Pharaoh Hound', 'Sussex Spaniel', 'Brussels Griffon', 'Petit Basset Griffon Vendeen', 'Afghan Hound', 'Scottish Terrier', 'Spinone Italiano', 'English Foxhound', 'Affenpinscher', 'Clumber Spaniel', 'Black and Tan Coonhound', 'Cardigan Welsh Corgi', 'Bouvier des Flandres', 'Cocker Spaniel', 'Australian Cattle Dog', 'German Pinscher', 'Pomeranian', 'Borzoi', 'Silky Terrier', 'Scottish Deerhound', 'Bichon Frise', 'Belgian Sheepdog', 'Bloodhound', 'American Water Spaniel', 'Greyhound', 'Finnish Spitz', 'Chinese Crested', 'Basset Hound', 'Fox Terrier Smooth', 'Toy Fox Terrier', 'Kuvasz', 'Manchester Terrier', 'Great Pyrenees', 'English Toy Spaniel', 'Saluki', 'Welsh Springer Spaniel', 'Wirehaired Pointing Griffon', 'Redbone Coonhound', 'Norwegian Elkhound', 'Otter Hound', 'Bedlington Terrier', 'Canaan Dog', 'English Springer Spaniel', 'Italian Greyhound', 'Japanese Chin', 'Chow Chow', 'American Eskimo', 'Dandie Dinmont Terrier', 'Australian Terrier', 'Belgian Tervuren', 'Tibetan Mastiff'}\n",
      "\n",
      "Difference, Turcsan - Wiki\n",
      "{'Miniature Schnauzer', 'White Swiss Shepherd', 'Wirehaired Dachshund', 'Wolfspitz', 'West Highland Wheaten Terrier', 'Eurasier', 'German Spitz', 'Perro de Presa Canario', 'Kromfohrlander', 'Leonberger', 'Miniature Dachshund', 'English Cocker Spaniel', 'Entlebucher Mountain Dog', 'Havanese', 'Hovawart', 'Bavarian Mountain Hound', 'American Cocker Spaniel', 'Dogue de Bordeaux', 'Anatolian Shepherd Dog', 'Collie', 'Miniature Pinscher', 'Parson Russell Terrier', 'Pyrenean Shepherd', 'German Hunting Terrier', 'Small Munsterlander', 'Appenzeller Sennenhund'}\n",
      "\n",
      "Difference, Wiki - Coren\n",
      "{'Redbone Coonhound', 'Spinone Italiano', 'German Pinscher', 'Beauceron', 'Silky Terrier', 'Toy Poodle', 'Canaan Dog', 'Nova Scotia Duck Tolling Retriever', 'Coton de Tulear', 'Greater Swiss Mountain Dog', 'American Eskimo', 'Polish Lowland Sheepdog', 'Black Russian Terrier', 'Fox Terrier Smooth', 'Toy Fox Terrier', 'Komondor', 'Plott Hound', 'Belgian Tervuren', 'Miniature Poodle', 'Sussex Spaniel', 'Tibetan Mastiff', 'English Toy Spaniel'}\n",
      "\n",
      "Difference, Coren - Wiki\n",
      "{'Miniature Schnauzer', 'Wire Fox Terrier', 'King Charles Spaniel', 'Samoyed', 'Belgian Shepherd', 'Norwich Terrier', 'English Cocker Spaniel', 'Pembroke Welsh Corgi', 'Norfolk Terrier', 'Mastiff', 'Collie', 'Papillon', 'Havanese', 'Miniature Pinscher', 'Australian Silky Terrier'}\n"
     ]
    }
   ],
   "source": [
    "# Show which dogs are in each dataset.\n",
    "describe_breeds()"
   ]
  },
  {
   "cell_type": "code",
   "execution_count": 6,
   "metadata": {},
   "outputs": [
    {
     "name": "stdout",
     "output_type": "stream",
     "text": [
      "\n",
      "AKC Mean\n",
      "              Obedient  Calm  Trainable  Sociable  Bold\n",
      "AKC                                                    \n",
      "Herding           0.77  0.30       0.85      0.45  0.30\n",
      "Hound             0.40  0.50       0.67      0.58  0.33\n",
      "Non-Sporting      0.51  0.44       0.67      0.44  0.22\n",
      "Sporting          0.73  0.67       0.62      0.67  0.62\n",
      "Terrier           0.51  0.30       0.75      0.30  0.35\n",
      "Toy               0.40  0.62       0.25      0.56  0.69\n",
      "Working           0.60  0.45       0.73      0.41  0.36\n",
      "\n",
      "AKC Standard Deviation\n",
      "              Obedient  Calm  Trainable  Sociable  Bold\n",
      "AKC                                                    \n",
      "Herding           0.20  0.48       0.24      0.44  0.48\n",
      "Hound             0.21  0.55       0.41      0.38  0.52\n",
      "Non-Sporting      0.26  0.53       0.43      0.39  0.44\n",
      "Sporting          0.15  0.49       0.38      0.44  0.48\n",
      "Terrier           0.17  0.48       0.35      0.48  0.47\n",
      "Toy               0.23  0.52       0.27      0.50  0.37\n",
      "Working           0.22  0.52       0.34      0.49  0.50\n",
      "\n",
      "AKC Count\n",
      "              Obedient  Calm  Trainable  Sociable  Bold\n",
      "AKC                                                    \n",
      "Herding             13    10         10        10    10\n",
      "Hound               21     6          6         6     6\n",
      "Non-Sporting        14     9          9         9     9\n",
      "Sporting            22    12         12        12    12\n",
      "Terrier             20    10         10        10    10\n",
      "Toy                 15     8          8         8     8\n",
      "Working             16    11         11        11    11\n"
     ]
    },
    {
     "data": {
      "image/png": "[encoded data removed]",
      "text/plain": [
       "<Figure size 432x288 with 1 Axes>"
      ]
     },
     "metadata": {
      "needs_background": "light"
     },
     "output_type": "display_data"
    }
   ],
   "source": [
    "# Canine attributes by AKC groupings\n",
    "wiki_akc = wiki[['Breed', 'AKC']]\n",
    "akc_groups_attrib = wiki_akc.set_index('Breed').join(attrib, how='left')\n",
    "print('\\nAKC Mean')\n",
    "akc = akc_groups_attrib.groupby('AKC').mean().round(decimals=2)\n",
    "pprint(akc)\n",
    "print('\\nAKC Standard Deviation')\n",
    "akc_std = akc_groups_attrib.groupby('AKC').std().round(decimals=2)\n",
    "pprint(akc_std)\n",
    "print('\\nAKC Count')\n",
    "akc_count = akc_groups_attrib.groupby('AKC').count()\n",
    "pprint(akc_count)\n",
    "\n",
    "# Plot the AKC grouping data\n",
    "plot_by_attrib(akc, lst, 'AKC Grouping')"
   ]
  },
  {
   "cell_type": "code",
   "execution_count": 22,
   "metadata": {
    "scrolled": false
   },
   "outputs": [
    {
     "name": "stdout",
     "output_type": "stream",
     "text": [
      "\n",
      "NYC Mean:\n",
      "               Calm  Trainable  Sociable  Bold  Obedient\n",
      "Borough                                                 \n",
      "Bronx          0.40       0.35      0.40  0.60      0.48\n",
      "Brooklyn       0.45       0.43      0.46  0.60      0.50\n",
      "Manhattan      0.51       0.47      0.52  0.62      0.53\n",
      "Queens         0.46       0.41      0.47  0.62      0.50\n",
      "Staten Island  0.51       0.44      0.51  0.64      0.53\n",
      "\n",
      "NYC Standard Deviation:\n",
      "               Calm  Trainable  Sociable  Bold  Obedient\n",
      "Borough                                                 \n",
      "Bronx          0.49       0.36      0.48  0.36      0.28\n",
      "Brooklyn       0.50       0.37      0.49  0.40      0.28\n",
      "Manhattan      0.50       0.36      0.49  0.41      0.27\n",
      "Queens         0.50       0.36      0.48  0.39      0.29\n",
      "Staten Island  0.50       0.35      0.49  0.40      0.30\n",
      "\n",
      "NYC Count:\n",
      "                Calm  Trainable  Sociable   Bold  Obedient\n",
      "Borough                                                   \n",
      "Bronx           5827       5827      5827   5827      6645\n",
      "Brooklyn       13079      13079     13079  13079     15597\n",
      "Manhattan      19095      19095     19095  19095     22984\n",
      "Queens         11044      11044     11044  11044     13103\n",
      "Staten Island   4893       4893      4893   4893      5729\n"
     ]
    },
    {
     "data": {
      "image/png": "[encoded data removed]",
      "text/plain": [
       "<Figure size 432x288 with 1 Axes>"
      ]
     },
     "metadata": {
      "needs_background": "light"
     },
     "output_type": "display_data"
    },
    {
     "name": "stdout",
     "output_type": "stream",
     "text": [
      "\n",
      "Top NYC Dogs Count\n",
      "Yorkshire Terrier            7412\n",
      "Shih Tzu                     6835\n",
      "Chihuahua                    5555\n",
      "Maltese                      4117\n",
      "Labrador Retriever           4055\n",
      "Pit Bull Mix                 3279\n",
      "American Pit Bull Terrier    3196\n",
      "Name: BreedName, dtype: int64\n",
      "\n",
      "Top Dogs By Borough\n",
      "\n",
      "Bronx\n",
      "Yorkshire Terrier            1171\n",
      "Shih Tzu                     1046\n",
      "Chihuahua                     830\n",
      "American Pit Bull Terrier     689\n",
      "Pit Bull Mix                  513\n",
      "Maltese                       510\n",
      "Labrador Retriever            246\n",
      "Name: BreedName, dtype: int64\n",
      "\n",
      "Brooklyn\n",
      "Yorkshire Terrier            1923\n",
      "Shih Tzu                     1838\n",
      "Chihuahua                    1456\n",
      "Pit Bull Mix                 1033\n",
      "Labrador Retriever            929\n",
      "Maltese                       926\n",
      "American Pit Bull Terrier     917\n",
      "Name: BreedName, dtype: int64\n",
      "\n",
      "Manhattan\n",
      "Yorkshire Terrier                2017\n",
      "Chihuahua                        1871\n",
      "Shih Tzu                         1768\n",
      "Labrador Retriever               1618\n",
      "Maltese                          1174\n",
      "Havanese                         1161\n",
      "Labrador Retriever Crossbreed     922\n",
      "Name: BreedName, dtype: int64\n",
      "\n",
      "Queens\n",
      "Yorkshire Terrier            1607\n",
      "Shih Tzu                     1496\n",
      "Maltese                      1129\n",
      "Chihuahua                    1057\n",
      "Labrador Retriever            711\n",
      "American Pit Bull Terrier     697\n",
      "Pit Bull Mix                  622\n",
      "Name: BreedName, dtype: int64\n",
      "\n",
      "Staten Island\n",
      "Yorkshire Terrier            694\n",
      "Shih Tzu                     687\n",
      "Labrador Retriever           551\n",
      "Maltese                      378\n",
      "Pit Bull Mix                 355\n",
      "Chihuahua                    341\n",
      "American Pit Bull Terrier    308\n",
      "Name: BreedName, dtype: int64\n"
     ]
    }
   ],
   "source": [
    "# Strip out NYC dirty values\n",
    "nyc_registry['Borough'] = nyc_registry['Borough'].map(lambda x: None if x not in {'Brooklyn', 'Bronx', 'Staten Island', 'Manhattan', 'Queens'} else x)\n",
    "nyc_registry.replace(to_replace='Unknown',value=np.nan, inplace=True)\n",
    "nyc_registry.replace(to_replace='American Pit Bull Mix / Pit Bull Mix',value='Pit Bull Mix', inplace=True)\n",
    "nyc_registry.replace(to_replace='American Pit Bull Terrier/Pit Bull',value='American Pit Bull Terrier', inplace=True)\n",
    "nyc_registry.dropna(inplace=True)\n",
    "\n",
    "# Display breed attributes by NYC borough\n",
    "display = True # Display the graph\n",
    "norm=False # Whether or not to normalize\n",
    "nyc_attrib = nyc_registry.set_index('BreedName').join(attrib, how='left')\n",
    "nyc_attrib = nyc_attrib[['Borough','Calm', 'Trainable', 'Sociable', 'Bold', 'Obedient']]\n",
    "nyc_attrib_g = nyc_attrib.groupby('Borough')\n",
    "print('\\nNYC Mean:')\n",
    "nyc_attrib_g_mean = nyc_attrib_g.mean()\n",
    "pprint(nyc_attrib_g_mean.round(decimals=2))\n",
    "print('\\nNYC Standard Deviation:')\n",
    "pprint(nyc_attrib_g.std().round(decimals=2))\n",
    "print('\\nNYC Count:')\n",
    "pprint(nyc_attrib_g.count())\n",
    "if display:\n",
    "    plot_by_attrib(nyc_attrib_g_mean, lst, 'NYC Borough')\n",
    "\n",
    "nyc_breeds = nyc_registry[['Borough', 'BreedName']]\n",
    "print('\\nTop NYC Dogs Count')\n",
    "pprint(nyc_breeds['BreedName'].value_counts().nlargest(7))\n",
    "nyc_breeds_grp = nyc_breeds.groupby('Borough')\n",
    "print('\\nTop Dogs By Borough')\n",
    "for b in borough:\n",
    "    print('\\n'+b)\n",
    "    print(nyc_breeds_grp.get_group(b)['BreedName'].value_counts(normalize=norm).head(7))"
   ]
  },
  {
   "cell_type": "markdown",
   "metadata": {},
   "source": [
    "## Perform Chi-Squared analysis on NYC data\n",
    "Are the distributions of dogs in NYC statistically significant with respect to which borough one is in? I look at the five most common breeds, pairwise."
   ]
  },
  {
   "cell_type": "code",
   "execution_count": 8,
   "metadata": {},
   "outputs": [
    {
     "name": "stdout",
     "output_type": "stream",
     "text": [
      "\n",
      " ('Yorkshire Terrier', 'Shih Tzu')\n",
      "Test statistic: 6.0\n",
      "P-value: 0.19935815394309653\n",
      "\n",
      " ('Yorkshire Terrier', 'Chihuahua')\n",
      "Test statistic: 98.16\n",
      "P-value: 2.429327716068869e-20\n",
      "\n",
      " ('Yorkshire Terrier', 'Maltese')\n",
      "Test statistic: 72.38\n",
      "P-value: 7.147745625233244e-15\n",
      "\n",
      " ('Yorkshire Terrier', 'Labrador Retriever')\n",
      "Test statistic: 409.12\n",
      "P-value: 2.980385866171689e-87\n",
      "\n",
      " ('Shih Tzu', 'Chihuahua')\n",
      "Test statistic: 133.21\n",
      "P-value: 7.994705402523028e-28\n",
      "\n",
      " ('Shih Tzu', 'Maltese')\n",
      "Test statistic: 76.64\n",
      "P-value: 8.981695413046296e-16\n",
      "\n",
      " ('Shih Tzu', 'Labrador Retriever')\n",
      "Test statistic: 411.94\n",
      "P-value: 7.309724499346304e-88\n",
      "\n",
      " ('Chihuahua', 'Maltese')\n",
      "Test statistic: 147.63\n",
      "P-value: 6.557578045686694e-31\n",
      "\n",
      " ('Chihuahua', 'Labrador Retriever')\n",
      "Test statistic: 343.14\n",
      "P-value: 5.304888286870627e-73\n",
      "\n",
      " ('Maltese', 'Labrador Retriever')\n",
      "Test statistic: 289.52\n",
      "P-value: 1.9691645730782012e-61\n"
     ]
    }
   ],
   "source": [
    "chi2_breed = ['Yorkshire Terrier', 'Shih Tzu','Chihuahua', 'Maltese', 'Labrador Retriever']\n",
    "chi2_breed_com = itertools.combinations(chi2_breed, 2)\n",
    "nyc_breeds_5 = nyc_registry[nyc_registry['BreedName'].isin(chi2_breed)] #top 5 breeds overall\n",
    "for i in chi2_breed_com:\n",
    "    print('\\n',i)\n",
    "    nyc_breeds_2 = nyc_registry[nyc_registry['BreedName'].isin(i)]\n",
    "    contingency_table = pd.crosstab(nyc_breeds_2['BreedName'], nyc_breeds_2['Borough'])\n",
    "    nyc_chi2 = stats.chi2_contingency(contingency_table)\n",
    "    print('Test statistic: {}'.format(nyc_chi2[0].round(2)))\n",
    "    print('P-value: {}'.format(nyc_chi2[1]))"
   ]
  },
  {
   "cell_type": "markdown",
   "metadata": {},
   "source": [
    "The distribution of *all* dog breeds in NYC based on the borough is statistially significant except for the distribution of Yorkshire Terriers vs. Shih Tzus. "
   ]
  },
  {
   "cell_type": "markdown",
   "metadata": {},
   "source": [
    "## Seattle dog attributes\n",
    "Seattle data includes both primary and secondary breeds. Where both are given, scores are the average of both breeds."
   ]
  },
  {
   "cell_type": "code",
   "execution_count": 9,
   "metadata": {},
   "outputs": [],
   "source": [
    "seattle_attrib_pri = seattle_registry.set_index('Primary Breed').join(attrib, how='left')\n",
    "seattle_attrib_sec = seattle_registry.set_index('Secondary Breed').join(attrib, how='left')\n",
    "\n",
    "seattle_attrib_pri.set_index('License Number', inplace=True)\n",
    "seattle_attrib_sec.set_index('License Number', inplace=True)\n",
    "\n",
    "seattle_attrib = seattle_attrib_pri.join(seattle_attrib_sec.drop(columns=['Animal\\'s Name','License Issue Date','Species','ZIP Code']),\\\n",
    "                                         how='left', rsuffix='_sec')\n",
    "\n",
    "# Didn't do Obedient\n",
    "seattle_attrib['Bold2'] = np.where(pd.isnull(seattle_attrib['Bold_sec']), seattle_attrib['Bold'], \\\n",
    "                                  (seattle_attrib['Bold_sec']))\n",
    "seattle_attrib['Bold'] = (seattle_attrib['Bold2'] + seattle_attrib['Bold'])/2\n",
    "seattle_attrib['Calm2'] = np.where(pd.isnull(seattle_attrib['Calm_sec']), seattle_attrib['Calm'], \\\n",
    "                                  (seattle_attrib['Calm_sec']))\n",
    "seattle_attrib['Calm'] = (seattle_attrib['Calm2'] + seattle_attrib['Calm'])/2\n",
    "seattle_attrib['Trainable2'] = np.where(pd.isnull(seattle_attrib['Trainable_sec']), seattle_attrib['Trainable'], \\\n",
    "                                  (seattle_attrib['Trainable_sec']))\n",
    "seattle_attrib['Trainable'] = (seattle_attrib['Trainable2'] + seattle_attrib['Trainable'])/2\n",
    "seattle_attrib['Sociable2'] = np.where(pd.isnull(seattle_attrib['Sociable_sec']), seattle_attrib['Sociable'], \\\n",
    "                                  (seattle_attrib['Sociable_sec']))\n",
    "seattle_attrib['Sociable'] = (seattle_attrib['Sociable2'] + seattle_attrib['Sociable'])/2\n",
    "\n",
    "\n",
    "seattle_attrib.drop(columns=['Bold_sec','Bold2','Sociable_sec','Sociable2','Calm2','Calm_sec','Trainable2'\\\n",
    "                            ,'Trainable_sec'], inplace=True)"
   ]
  },
  {
   "cell_type": "markdown",
   "metadata": {},
   "source": [
    "# Perform hypothesis tests for NYC boroughs"
   ]
  },
  {
   "cell_type": "code",
   "execution_count": 32,
   "metadata": {},
   "outputs": [
    {
     "name": "stdout",
     "output_type": "stream",
     "text": [
      "Alternative Hypothesis: dogs from Staten Island are bolder than other dogs in New York.\n",
      "Ttest_indResult(statistic=4.179055462611695, pvalue=2.9695865415435128e-05)\n",
      "\n",
      "Alternative Hypothesis: dogs from Staten Island are calmer than other dogs in New York.\n",
      "Ttest_indResult(statistic=5.659747231215235, pvalue=1.587337284450656e-08)\n",
      "\n",
      "Alternative Hypothesis: dogs from the Bronx and Queens are less trainable than other dogs in New York.\n",
      "Ttest_indResult(statistic=-18.70824232920792, pvalue=1.091825418661078e-77)\n",
      "\n",
      "Alternative Hypothesis: dogs from the Bronx and Queens are less sociable than other dogs in New York.\n",
      "Ttest_indResult(statistic=10.46366006573242, pvalue=1.3923841632022199e-25)\n",
      "\n",
      "Null Hypothesis: The average boldness of dogs in Brooklyn is the same as the average boldness for other New York dogs.\n",
      "Alternative Hypothesis: The average boldness of Brooklyn and other New York dogs is different.\n",
      "Ttest_indResult(statistic=2.856822730819771, pvalue=0.004293517055006024)\n",
      "\n",
      "Null Hypothesis: The average trainability of dogs in Brooklyn is the same as the average trainability for other New York dogs.\n",
      "Alternative Hypothesis: The average trainability of Brooklyn and other New York dogs is different.\n",
      "Ttest_indResult(statistic=0.5074921030282915, pvalue=0.6118147917491854)\n",
      "\n",
      "Null Hypothesis: The average calmness of dogs in Brooklyn is the same as the average calmness for other New York dogs.\n",
      "Alternative Hypothesis: The average calmness of Brooklyn and other New York dogs is different.\n",
      "Ttest_indResult(statistic=6.303198509306465, pvalue=2.9709015444788364e-10)\n",
      "\n",
      "Null Hypothesis: The average sociability of dogs in Brooklyn is the same as the average sociability for other New York dogs.\n",
      "Alternative Hypothesis: The average sociability of Brooklyn and other New York dogs is different.\n",
      "Ttest_indResult(statistic=6.603521194608863, pvalue=4.106640832074502e-11)\n"
     ]
    }
   ],
   "source": [
    "print('Alternative Hypothesis: dogs from Staten Island are bolder than other dogs in New York.')\n",
    "non_staten = nyc_attrib[nyc_attrib['Borough'].isin(['Manhattan', 'Queens', 'Bronx', 'Brooklyn'])]\n",
    "non_staten.dropna(inplace=True)\n",
    "non_staten_bold = non_staten['Bold']\n",
    "staten = nyc_attrib[nyc_attrib['Borough'] == 'Staten Island']\n",
    "staten.dropna(inplace=True)\n",
    "staten_bold = staten['Bold']\n",
    "print(stats.ttest_ind(staten_bold, non_staten_bold, equal_var = False))\n",
    "\n",
    "print('\\nAlternative Hypothesis: dogs from Staten Island are calmer than other dogs in New York.')\n",
    "non_staten_calm = non_staten['Calm']\n",
    "staten_calm = staten['Calm']\n",
    "print(stats.ttest_ind(staten_calm, non_staten_calm, equal_var = False))\n",
    "\n",
    "print('\\nAlternative Hypothesis: dogs from the Bronx and Queens are less trainable than other dogs in New York.')\n",
    "non_bronxq = nyc_attrib[nyc_attrib['Borough'].isin(['Manhattan', 'Staten Island', 'Brooklyn'])]\n",
    "non_bronxq.dropna(inplace=True)\n",
    "non_bronxq_trainable = non_bronxq['Trainable']\n",
    "bronxq = nyc_attrib[nyc_attrib['Borough'].isin(['Queens', 'Bronx'])]\n",
    "bronxq.dropna(inplace=True)\n",
    "bronxq_trainable = bronxq['Trainable']\n",
    "print(stats.ttest_ind(bronxq_trainable, non_bronxq_trainable, equal_var = False))\n",
    "\n",
    "print('\\nAlternative Hypothesis: dogs from the Bronx and Queens are less sociable than other dogs in New York.')\n",
    "non_bronxq_sociable = non_bronxq['Sociable']\n",
    "bronxq_sociable = bronxq['Sociable']\n",
    "print(stats.ttest_ind(non_bronxq_sociable, bronxq_sociable, equal_var = False))\n",
    "\n",
    "print('\\nNull Hypothesis: The average boldness of dogs in Brooklyn is the same as the average boldness for other New York dogs.')\n",
    "print('Alternative Hypothesis: The average boldness of Brooklyn and other New York dogs is different.')\n",
    "non_brooklyn = nyc_attrib[nyc_attrib['Borough'].isin(['Manhattan', 'Queens', 'Bronx', 'Staten Island'])]\n",
    "non_brooklyn.dropna(inplace=True)\n",
    "non_brooklyn_bold = non_brooklyn['Bold']\n",
    "brooklyn = nyc_attrib[nyc_attrib['Borough'] == 'Brooklyn']\n",
    "brooklyn.dropna(inplace=True)\n",
    "brooklyn_bold = staten['Bold']\n",
    "print(stats.ttest_ind(brooklyn_bold, non_brooklyn_bold, equal_var = False))\n",
    "\n",
    "print('\\nNull Hypothesis: The average trainability of dogs in Brooklyn is the same as the average trainability for other New York dogs.')\n",
    "print('Alternative Hypothesis: The average trainability of Brooklyn and other New York dogs is different.')\n",
    "non_brooklyn_trainable = non_brooklyn['Trainable']\n",
    "brooklyn_trainable = brooklyn['Trainable']\n",
    "print(stats.ttest_ind(non_brooklyn_trainable, brooklyn_trainable, equal_var = False))\n",
    "\n",
    "print('\\nNull Hypothesis: The average calmness of dogs in Brooklyn is the same as the average calmness for other New York dogs.')\n",
    "print('Alternative Hypothesis: The average calmness of Brooklyn and other New York dogs is different.')\n",
    "non_brooklyn_calm = non_brooklyn['Calm']\n",
    "brooklyn_calm = brooklyn['Calm']\n",
    "print(stats.ttest_ind(non_brooklyn_calm, brooklyn_calm, equal_var = False))\n",
    "\n",
    "print('\\nNull Hypothesis: The average sociability of dogs in Brooklyn is the same as the average sociability for other New York dogs.')\n",
    "print('Alternative Hypothesis: The average sociability of Brooklyn and other New York dogs is different.')\n",
    "non_brooklyn_sociable = non_brooklyn['Sociable']\n",
    "brooklyn_sociable = brooklyn['Sociable']\n",
    "print(stats.ttest_ind(non_brooklyn_sociable, brooklyn_sociable, equal_var = False))"
   ]
  },
  {
   "cell_type": "markdown",
   "metadata": {},
   "source": [
    "Note: due to Bonferroni correction, p-value must be lower than .00625.\n",
    "\n",
    "The null hypothesis is rejected in all cases, except: \n",
    "* Since the p-value is greater than 0.00625, we fail to reject the null hypothesis that dogs in Brooklyn are the same average trainability as dogs in other boroughs.\n",
    "\n",
    "Of note, Seattle dogs' attribute calculations include primary and secondary breeds, making it more likely that the distributions will be different than dogs from other cities."
   ]
  },
  {
   "cell_type": "markdown",
   "metadata": {},
   "source": [
    "# Tukey tests"
   ]
  },
  {
   "cell_type": "code",
   "execution_count": 12,
   "metadata": {
    "scrolled": true
   },
   "outputs": [
    {
     "name": "stdout",
     "output_type": "stream",
     "text": [
      "\n",
      "Attribute:  Trainable\n",
      "Multiple Comparison of Means - Tukey HSD,FWER=0.05\n",
      "=================================================\n",
      " group1   group2  meandiff  lower   upper  reject\n",
      "-------------------------------------------------\n",
      "Adelaide Edmonton  0.052    0.0412  0.0627  True \n",
      "Adelaide New York -0.0906  -0.1011 -0.0802  True \n",
      "Adelaide Seattle   0.084    0.0713  0.0966  True \n",
      "Edmonton New York -0.1426  -0.1486 -0.1366  True \n",
      "Edmonton Seattle   0.032    0.0227  0.0413  True \n",
      "New York Seattle   0.1746   0.1656  0.1836  True \n",
      "-------------------------------------------------\n",
      "\n",
      "Attribute:  Obedient\n",
      "Multiple Comparison of Means - Tukey HSD,FWER=0.05\n",
      "=================================================\n",
      " group1   group2  meandiff  lower   upper  reject\n",
      "-------------------------------------------------\n",
      "Adelaide Edmonton  0.0849   0.0767  0.093   True \n",
      "Adelaide New York -0.0117  -0.0197 -0.0038  True \n",
      "Adelaide Seattle   0.1376   0.1279  0.1472  True \n",
      "Edmonton New York -0.0966  -0.1011 -0.0921  True \n",
      "Edmonton Seattle   0.0527   0.0456  0.0598  True \n",
      "New York Seattle   0.1493   0.1424  0.1562  True \n",
      "-------------------------------------------------\n",
      "\n",
      "Attribute:  Bold\n",
      "Multiple Comparison of Means - Tukey HSD,FWER=0.05\n",
      "=================================================\n",
      " group1   group2  meandiff  lower   upper  reject\n",
      "-------------------------------------------------\n",
      "Adelaide Edmonton  0.1147   0.102   0.1275  True \n",
      "Adelaide New York  0.1457   0.1333  0.1582  True \n",
      "Adelaide Seattle   0.1154   0.1004  0.1304  True \n",
      "Edmonton New York  0.031    0.0238  0.0381  True \n",
      "Edmonton Seattle   0.0007  -0.0104  0.0117 False \n",
      "New York Seattle  -0.0303   -0.041 -0.0196  True \n",
      "-------------------------------------------------\n",
      "\n",
      "Attribute:  Calm\n",
      "Multiple Comparison of Means - Tukey HSD,FWER=0.05\n",
      "=================================================\n",
      " group1   group2  meandiff  lower   upper  reject\n",
      "-------------------------------------------------\n",
      "Adelaide Edmonton  0.1717   0.1567  0.1867  True \n",
      "Adelaide New York  0.1214   0.1068  0.136   True \n",
      "Adelaide Seattle   0.1912   0.1736  0.2089  True \n",
      "Edmonton New York -0.0503  -0.0587 -0.0419  True \n",
      "Edmonton Seattle   0.0196   0.0066  0.0325  True \n",
      "New York Seattle   0.0698   0.0573  0.0824  True \n",
      "-------------------------------------------------\n",
      "\n",
      "Attribute:  Sociable\n",
      "Multiple Comparison of Means - Tukey HSD,FWER=0.05\n",
      "================================================\n",
      " group1   group2  meandiff  lower  upper  reject\n",
      "------------------------------------------------\n",
      "Adelaide Edmonton  0.174    0.1594 0.1886  True \n",
      "Adelaide New York  0.1319   0.1176 0.1461  True \n",
      "Adelaide Seattle   0.2254   0.2082 0.2426  True \n",
      "Edmonton New York -0.0421  -0.0503 -0.034  True \n",
      "Edmonton Seattle   0.0514   0.0388 0.064   True \n",
      "New York Seattle   0.0936   0.0813 0.1058  True \n",
      "------------------------------------------------\n"
     ]
    }
   ],
   "source": [
    "# Compare how trainable dogs are across different cities\n",
    "for item in lst:\n",
    "    print('\\nAttribute: ',item)\n",
    "    nyc_item = pd.DataFrame(nyc_attrib[item])\n",
    "    nyc_item['Location'] = 'New York'\n",
    "    seattle_item = pd.DataFrame(seattle_attrib[item])\n",
    "    seattle_item['Location'] = 'Seattle'\n",
    "    edmonton_item = pd.DataFrame(edmonton_attrib[item])\n",
    "    edmonton_item['Location'] = 'Edmonton'\n",
    "    adelaide_item = pd.DataFrame(adelaide_attrib[item])\n",
    "    adelaide_item['Location'] = 'Adelaide'\n",
    "    item_attrib = pd.concat([nyc_item, seattle_item, edmonton_item, adelaide_item])\n",
    "    item_attrib.dropna(inplace=True)\n",
    "    item_attrib.reset_index(inplace=True)\n",
    "\n",
    "    m = MultiComparison(item_attrib[item], item_attrib['Location'])\n",
    "    tukey = m.tukeyhsd()\n",
    "    print(tukey.summary())"
   ]
  },
  {
   "cell_type": "markdown",
   "metadata": {},
   "source": [
    "## Selected findings from Tukey tests\n",
    "\n",
    "* Edmonton dogs and Seattle dogs are more trainable than New York dogs.\n",
    "* Seattle dogs are more obedient than New York dogs. Seattle dogs are more obedient than Adelaide dogs.\n",
    "* Adelaide dogs are less bold than Edmonton, New York, and Seattle dogs.\n",
    "* Adelaide dogs are less calm than Edmonton, New York, and Seattle dogs.\n",
    "* Adelaide dogs are less sociable than Edmonton, New York, and Seattle dogs."
   ]
  },
  {
   "cell_type": "code",
   "execution_count": 34,
   "metadata": {},
   "outputs": [
    {
     "name": "stdout",
     "output_type": "stream",
     "text": [
      "\n",
      "NYC Mean\n",
      "Trainable    0.43\n",
      "Obedient     0.51\n",
      "Bold         0.62\n",
      "Calm         0.47\n",
      "Sociable     0.48\n",
      "dtype: float64\n",
      "\n",
      "NYC Standard Deviation\n",
      "Trainable    0.38\n",
      "Obedient     0.24\n",
      "Bold         0.46\n",
      "Calm         0.50\n",
      "Sociable     0.43\n",
      "dtype: float64\n"
     ]
    },
    {
     "data": {
      "image/png": "[encoded data removed]",
      "text/plain": [
       "<Figure size 432x288 with 1 Axes>"
      ]
     },
     "metadata": {
      "needs_background": "light"
     },
     "output_type": "display_data"
    },
    {
     "name": "stdout",
     "output_type": "stream",
     "text": [
      "\n",
      "Seattle Mean\n",
      "Trainable    0.61\n",
      "Obedient     0.66\n",
      "Bold         0.59\n",
      "Calm         0.54\n",
      "Sociable     0.57\n",
      "dtype: float64\n",
      "\n",
      "Seattle Standard Deviation\n",
      "Trainable    0.38\n",
      "Obedient     0.24\n",
      "Bold         0.46\n",
      "Calm         0.50\n",
      "Sociable     0.43\n",
      "dtype: float64\n"
     ]
    },
    {
     "data": {
      "image/png": "[encoded data removed]",
      "text/plain": [
       "<Figure size 432x288 with 1 Axes>"
      ]
     },
     "metadata": {
      "needs_background": "light"
     },
     "output_type": "display_data"
    },
    {
     "name": "stdout",
     "output_type": "stream",
     "text": [
      "\n",
      "Adelaide Mean\n",
      "Trainable    0.52\n",
      "Obedient     0.52\n",
      "Bold         0.47\n",
      "Calm         0.35\n",
      "Sociable     0.35\n",
      "dtype: float64\n",
      "\n",
      "Adelaide Standard Deviation\n",
      "Trainable    0.38\n",
      "Obedient     0.24\n",
      "Bold         0.46\n",
      "Calm         0.50\n",
      "Sociable     0.43\n",
      "dtype: float64\n"
     ]
    },
    {
     "data": {
      "image/png": "[encoded data removed]",
      "text/plain": [
       "<Figure size 432x288 with 1 Axes>"
      ]
     },
     "metadata": {
      "needs_background": "light"
     },
     "output_type": "display_data"
    },
    {
     "name": "stdout",
     "output_type": "stream",
     "text": [
      "\n",
      "Edmonton Mean\n",
      "Trainable    0.58\n",
      "Obedient     0.61\n",
      "Bold         0.58\n",
      "Calm         0.52\n",
      "Sociable     0.52\n",
      "dtype: float64\n",
      "\n",
      "Edmonton Standard Deviation\n",
      "Trainable    0.38\n",
      "Obedient     0.24\n",
      "Bold         0.46\n",
      "Calm         0.50\n",
      "Sociable     0.43\n",
      "dtype: float64\n"
     ]
    },
    {
     "data": {
      "image/png": "[encoded data removed]",
      "text/plain": [
       "<Figure size 432x288 with 1 Axes>"
      ]
     },
     "metadata": {
      "needs_background": "light"
     },
     "output_type": "display_data"
    },
    {
     "name": "stdout",
     "output_type": "stream",
     "text": [
      "------------------------------\n"
     ]
    },
    {
     "data": {
      "image/png": "[encoded data removed]",
      "text/plain": [
       "<Figure size 432x288 with 1 Axes>"
      ]
     },
     "metadata": {
      "needs_background": "light"
     },
     "output_type": "display_data"
    },
    {
     "data": {
      "image/png": "[encoded data removed]",
      "text/plain": [
       "<Figure size 432x288 with 1 Axes>"
      ]
     },
     "metadata": {
      "needs_background": "light"
     },
     "output_type": "display_data"
    },
    {
     "data": {
      "image/png": "[encoded data removed]",
      "text/plain": [
       "<Figure size 432x288 with 1 Axes>"
      ]
     },
     "metadata": {
      "needs_background": "light"
     },
     "output_type": "display_data"
    },
    {
     "data": {
      "image/png": "[encoded data removed]",
      "text/plain": [
       "<Figure size 432x288 with 1 Axes>"
      ]
     },
     "metadata": {
      "needs_background": "light"
     },
     "output_type": "display_data"
    },
    {
     "data": {
      "image/png": "[encoded data removed]",
      "text/plain": [
       "<Figure size 432x288 with 1 Axes>"
      ]
     },
     "metadata": {
      "needs_background": "light"
     },
     "output_type": "display_data"
    }
   ],
   "source": [
    "# Show data on NYC, Seattle, Adelaide, and Edmonton\n",
    "describe(nyc_attrib, 'NYC')\n",
    "describe(seattle_attrib, 'Seattle')\n",
    "describe(adelaide_attrib, 'Adelaide')\n",
    "describe(edmonton_attrib, 'Edmonton')\n",
    "print('-'*30)\n",
    "\n",
    "adelaide_mean = adelaide_attrib[lst].mean()\n",
    "edmonton_mean = edmonton_attrib[lst].mean()\n",
    "nyc_mean = nyc_attrib[lst].mean()\n",
    "seattle_mean = seattle_attrib[lst].mean()\n",
    "\n",
    "for item in lst:\n",
    "    plt.title(item+' Attribute by City')\n",
    "    plt.bar(['New York','Seattle','Adelaide','Edmonton'], \\\n",
    "            [nyc_mean[item],seattle_mean[item], adelaide_mean[item], edmonton_mean[item]])\n",
    "    plt.show()\n"
   ]
  },
  {
   "cell_type": "markdown",
   "metadata": {},
   "source": [
    "## Ancestral origin: looking at the UK and Ireland"
   ]
  },
  {
   "cell_type": "code",
   "execution_count": 55,
   "metadata": {},
   "outputs": [
    {
     "name": "stdout",
     "output_type": "stream",
     "text": [
      "\n",
      "UK and Ireland Mean\n",
      "          Obedient  Calm  Trainable  Sociable  Bold\n",
      "Origin                                             \n",
      "England       0.51  0.70        0.4      0.65   0.7\n",
      "Ireland       0.62  0.75        0.5      0.62   0.5\n",
      "Scotland      0.59  0.80        0.6      0.80   0.8\n",
      "Wales         0.59  0.00        1.0      0.00   0.0\n",
      "\n",
      "UK and Ireland Standard Deviation\n",
      "          Obedient  Calm  Trainable  Sociable  Bold\n",
      "Origin                                             \n",
      "England       0.21  0.48       0.32      0.47  0.42\n",
      "Ireland       0.15  0.50       0.41      0.48  0.58\n",
      "Scotland      0.25  0.45       0.22      0.45  0.45\n",
      "Wales         0.24   NaN        NaN       NaN   NaN\n",
      "\n",
      "UK and Ireland Count\n",
      "          Obedient  Calm  Trainable  Sociable  Bold\n",
      "Origin                                             \n",
      "England         19    10         10        10    10\n",
      "Ireland          6     4          4         4     4\n",
      "Scotland        10     5          5         5     5\n",
      "Wales            4     1          1         1     1\n"
     ]
    },
    {
     "data": {
      "image/png": "[encoded data removed]",
      "text/plain": [
       "<Figure size 432x288 with 1 Axes>"
      ]
     },
     "metadata": {
      "needs_background": "light"
     },
     "output_type": "display_data"
    },
    {
     "name": "stdout",
     "output_type": "stream",
     "text": [
      "UK breeds:\n",
      "2                         Bloodhound\n",
      "4                        Bullmastiff\n",
      "10                       Otter Hound\n",
      "39                Labrador Retriever\n",
      "59                  Airedale Terrier\n",
      "66                     Border Collie\n",
      "75             Flat-Coated Retriever\n",
      "106                   Border Terrier\n",
      "111    Cavalier King Charles Spaniel\n",
      "115              English Toy Spaniel\n",
      "117                      Fox Terrier\n",
      "Name: Breed, dtype: object\n",
      "Ireland breeds:\n",
      "8                 Irish Wolfhound\n",
      "37                   Irish Setter\n",
      "78                  Irish Terrier\n",
      "79            Irish Water Spaniel\n",
      "81             Kerry Blue Terrier\n",
      "93    Soft-Coated Wheaten Terrier\n",
      "Name: Breed, dtype: object\n"
     ]
    }
   ],
   "source": [
    "ancestral = wiki[['Breed', 'Origin']]\n",
    "ancestral_uk_ire = ancestral.copy()\n",
    "ancestral_uk_ire.dropna(inplace=True)\n",
    "ancestral_uk_ire = ancestral_uk_ire[ancestral_uk_ire['Origin'].isin(['England', 'Scotland', 'Wales', 'Ireland'])]\n",
    "ancestral_uk_ire = ancestral_uk_ire.set_index('Breed').join(attrib, how='inner')\n",
    "ancestral_uk_ire_grp = ancestral_uk_ire.groupby('Origin')\n",
    "ancestral_uk_ire_mean = ancestral_uk_ire_grp.mean()\n",
    "print('\\nUK and Ireland Mean')\n",
    "print(ancestral_uk_ire_grp.mean().round(decimals=2))\n",
    "print('\\nUK and Ireland Standard Deviation')\n",
    "print(ancestral_uk_ire_grp.std().round(decimals=2))\n",
    "print('\\nUK and Ireland Count')\n",
    "\n",
    "print(ancestral_uk_ire_grp.count())\n",
    "\n",
    "# Plot the UK and Ireland data\n",
    "# Remove Wales since it only has one dog for some of the data\n",
    "ancestral_uk_ire_mean.drop('Wales', inplace=True)\n",
    "plot_by_attrib(ancestral_uk_ire_mean, lst, 'UK and Irish Ancestry')\n",
    "\n",
    "# Combining Scotland, Wales, and England as United Kingdom\n",
    "ancestral['Origin'] = ancestral['Origin'].map(lambda x: 'United Kingdom' if x in {'England', 'Wales', 'Scotland'} else x)\n",
    "ancestral_attrib = ancestral.set_index('Breed').join(attrib, how='inner')\n",
    "\n",
    "print('UK breeds:')\n",
    "wiki.fillna('', inplace=True)\n",
    "print(wiki[wiki['Origin'].str.contains(\"United Kingdom\")]['Breed'])\n",
    "\n",
    "print('\\nIreland breeds:')\n",
    "print(wiki[wiki['Origin'].str.contains(\"Ireland\")]['Breed'])"
   ]
  },
  {
   "cell_type": "code",
   "execution_count": 56,
   "metadata": {},
   "outputs": [
    {
     "name": "stdout",
     "output_type": "stream",
     "text": [
      "Alternative Hypothesis: Dogs with ancestry from the UK are bolder than other dogs.\n",
      "Ancestral UK Bold Mean:\n",
      "0.6818181818181818\n",
      "Ancestral Non-UK Bold Mean:\n",
      "0.313953488372093\n",
      "Ttest_indResult(statistic=3.1133301873945967, pvalue=0.00331078574427337)\n"
     ]
    }
   ],
   "source": [
    "print('Alternative Hypothesis: Dogs with ancestry from the UK are bolder than other dogs.')\n",
    "ancestral_uk = ancestral_attrib2[ancestral_attrib2['Origin'] == 'United Kingdom']\n",
    "ancestral_not_uk = ancestral_attrib2[~(ancestral_attrib2['Origin'] == 'United Kingdom')]\n",
    "ancestral_uk_bold = ancestral_uk['Bold']\n",
    "print('Ancestral UK Bold Mean:')\n",
    "print(ancestral_uk_bold.mean())\n",
    "ancestral_uk_bold.dropna(inplace=True)\n",
    "ancestral_not_uk_bold = ancestral_not_uk['Bold']\n",
    "ancestral_not_uk_bold.dropna(inplace=True)\n",
    "print('Ancestral Non-UK Bold Mean:')\n",
    "print(ancestral_not_uk_bold.mean())\n",
    "print(stats.ttest_ind(ancestral_uk_bold, ancestral_not_uk_bold, equal_var = False))"
   ]
  },
  {
   "cell_type": "markdown",
   "metadata": {},
   "source": [
    "The p-value of 0.003 is less than 0.05, so we reject the null hypothesis. UK dogs are bolder than other dogs."
   ]
  },
  {
   "cell_type": "code",
   "execution_count": 17,
   "metadata": {},
   "outputs": [
    {
     "name": "stdout",
     "output_type": "stream",
     "text": [
      "Null Hypothesis: The average obedience of UK dogs is the same as non-UK dogs.\n",
      "Alternative Hypothesis: The average obedience of UK dogs is different from non-UK dogs.\n",
      "Ttest_indResult(statistic=0.22598874581524203, pvalue=0.8223196147677269)\n"
     ]
    }
   ],
   "source": [
    "print('Null Hypothesis: The average obedience of UK dogs is the same as non-UK dogs.')\n",
    "print('Alternative Hypothesis: The average obedience of UK dogs is different from non-UK dogs.')\n",
    "ancestral_uk_obedient = ancestral_uk['Obedient']\n",
    "ancestral_not_uk_obedient = ancestral_not_uk['Obedient']\n",
    "print(stats.ttest_ind(ancestral_uk_obedient, ancestral_not_uk_obedient, equal_var = False))"
   ]
  },
  {
   "cell_type": "markdown",
   "metadata": {},
   "source": [
    "The p-value of 0.822 is greater than 0.05, so we fail to reject the null hypothesis. UK dogs are of average obedience."
   ]
  },
  {
   "cell_type": "markdown",
   "metadata": {},
   "source": [
    "## German dogs"
   ]
  },
  {
   "cell_type": "code",
   "execution_count": 58,
   "metadata": {},
   "outputs": [
    {
     "name": "stdout",
     "output_type": "stream",
     "text": [
      "German breeds:\n",
      "5                       Great Dane\n",
      "11                      Rottweiler\n",
      "22                           Boxer\n",
      "27               Doberman Pinscher\n",
      "30                 German Shepherd\n",
      "31      German Shorthaired Pointer\n",
      "32       German Wirehaired Pointer\n",
      "33                 Giant Schnauzer\n",
      "41                          Poodle\n",
      "42                Miniature Poodle\n",
      "43                      Toy Poodle\n",
      "51                      Pomeranian\n",
      "58                      Weimaraner\n",
      "80                        Keeshond\n",
      "86                     Plott Hound\n",
      "95              Standard Schnauzer\n",
      "99     Wirehaired Pointing Griffon\n",
      "100                American Eskimo\n",
      "113                      Dachshund\n",
      "119                German Pinscher\n",
      "138                  Affenpinscher\n",
      "Name: Breed, dtype: object\n",
      "\n",
      "Alternative Hypothesis: Dogs with German ancestry are more obedient than other dogs.\n",
      "Ancestral Germany Obedient Mean:\n",
      "0.7541666666666668\n",
      "Ancestral Non-Germany Obedient Mean:\n",
      "0.5613207547169812\n",
      "Ttest_indResult(statistic=2.8770141108829277, pvalue=0.009547953620993713)\n"
     ]
    }
   ],
   "source": [
    "print('German breeds:')\n",
    "print(wiki[wiki['Origin'].str.contains(\"Germany\")]['Breed'])\n",
    "\n",
    "print('\\nAlternative Hypothesis: Dogs with German ancestry are more obedient than other dogs.')\n",
    "ancestral_ger = ancestral_attrib2[ancestral_attrib2['Origin'] == 'Germany']\n",
    "ancestral_not_ger = ancestral_attrib2[~(ancestral_attrib2['Origin'] == 'Germany')]\n",
    "ancestral_ger_obedient = ancestral_ger['Obedient']\n",
    "print('Ancestral Germany Obedient Mean:')\n",
    "print(ancestral_ger_obedient.mean())\n",
    "ancestral_ger_obedient.dropna(inplace=True)\n",
    "ancestral_not_ger_obedient = ancestral_not_ger['Obedient']\n",
    "ancestral_not_ger_obedient.dropna(inplace=True)\n",
    "print('Ancestral Non-Germany Obedient Mean:')\n",
    "print(ancestral_not_ger_obedient.mean())\n",
    "print(stats.ttest_ind(ancestral_ger_obedient, ancestral_not_ger_obedient, equal_var = False))"
   ]
  },
  {
   "cell_type": "markdown",
   "metadata": {},
   "source": [
    "The p-value of 0.009 is less than 0.05, so we reject the null hypothesis. German dogs are more obedient than other dogs."
   ]
  },
  {
   "cell_type": "code",
   "execution_count": 19,
   "metadata": {},
   "outputs": [
    {
     "name": "stdout",
     "output_type": "stream",
     "text": [
      "Alternative Hypothesis: Dogs with German ancestry are less calm than other dogs.\n",
      "Ancestral Germany Calm Mean:\n",
      "0.08333333333333333\n",
      "Ancestral Non-Germany Calm Mean:\n",
      "0.5660377358490566\n",
      "Ttest_indResult(statistic=-4.468667004142404, pvalue=0.00011605889988818817)\n"
     ]
    }
   ],
   "source": [
    "print('Alternative Hypothesis: Dogs with German ancestry are less calm than other dogs.')\n",
    "ancestral_ger_calm = ancestral_ger['Calm']\n",
    "print('Ancestral Germany Calm Mean:')\n",
    "print(ancestral_ger_calm.mean())\n",
    "ancestral_ger_calm.dropna(inplace=True)\n",
    "ancestral_not_ger_calm = ancestral_not_ger['Calm']\n",
    "ancestral_not_ger_calm.dropna(inplace=True)\n",
    "print('Ancestral Non-Germany Calm Mean:')\n",
    "print(ancestral_not_ger_calm.mean())\n",
    "print(stats.ttest_ind(ancestral_ger_calm, ancestral_not_ger_calm, equal_var = False))"
   ]
  },
  {
   "cell_type": "markdown",
   "metadata": {},
   "source": [
    "The p-value of 0.0001 is less than 0.05, so we reject the null hypothesis. German dogs are less calm than other dogs."
   ]
  }
 ],
 "metadata": {
  "kernelspec": {
   "display_name": "Python 3",
   "language": "python",
   "name": "python3"
  },
  "language_info": {
   "codemirror_mode": {
    "name": "ipython",
    "version": 3
   },
   "file_extension": ".py",
   "mimetype": "text/x-python",
   "name": "python",
   "nbconvert_exporter": "python",
   "pygments_lexer": "ipython3",
   "version": "3.7.2"
  }
 },
 "nbformat": 4,
 "nbformat_minor": 2
}
