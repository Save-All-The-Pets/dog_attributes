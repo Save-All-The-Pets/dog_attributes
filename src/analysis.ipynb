{
 "cells": [
  {
   "cell_type": "markdown",
   "metadata": {},
   "source": [
    "## Canine attributes study\n",
    "Michael Suttles"
   ]
  },
  {
   "cell_type": "code",
   "execution_count": 1,
   "metadata": {},
   "outputs": [],
   "source": [
    "from pprint import pprint\n",
    "import pandas as pd\n",
    "import numpy as np\n",
    "from scipy import stats\n",
    "import matplotlib.pyplot as plt\n",
    "from mpl_toolkits.mplot3d import Axes3D\n",
    "import itertools\n",
    "from statsmodels.stats.multicomp import pairwise_tukeyhsd\n",
    "from statsmodels.stats.multicomp import MultiComparison\n",
    "\n",
    "import warnings\n",
    "warnings.filterwarnings('ignore')\n",
    "\n",
    "pd.options.display.max_rows = 200"
   ]
  },
  {
   "cell_type": "markdown",
   "metadata": {},
   "source": [
    "## Code: import the data"
   ]
  },
  {
   "cell_type": "code",
   "execution_count": 15,
   "metadata": {},
   "outputs": [],
   "source": [
    "nyc_registry = pd.read_csv('../dogdata/NYC_Dog_Licensing_Dataset_2015-edit.csv')\n",
    "coren = pd.read_csv('../dogdata/coren-edit.csv')\n",
    "# nyc_census = pd.read_csv('../censusdata/ACS_16_1YR_S0201_with_ann-edit.csv') # use 2016 data\n",
    "edmonton_registry = pd.read_csv('../dogdata/Edmonton_Pet_Licenses_by_Neighbourhood_2018-edit.csv')\n",
    "adelaide_registry = pd.read_csv('../dogdata/Dog_Registrations_Adelaide_2016-edit.csv')\n",
    "seattle_registry = pd.read_csv('../dogdata/Seattle_Pet_Licenses-2018-edit2.csv')\n",
    "wiki = pd.read_csv('../dogdata/wiki-edit.csv')\n",
    "turcsan = pd.read_csv('../dogdata/turcsan.csv')\n",
    "\n",
    "# List of attributes\n",
    "# lst = ['Trainable', 'Obedient', 'Bold', 'Calm','Sociable']\n",
    "lst = ['Trainable', 'Bold', 'Calm','Sociable']\n",
    "borough = ['Bronx','Brooklyn','Manhattan','Queens','Staten Island']\n",
    "# Pare down the Coren data\n",
    "coren = coren[['Breed', 'Obedient']]\n",
    "# Combine the Coren and Turcsan datasets\n",
    "attrib = coren.set_index('Breed').join(turcsan.set_index('Breed'), how='outer')"
   ]
  },
  {
   "cell_type": "code",
   "execution_count": 3,
   "metadata": {},
   "outputs": [],
   "source": [
    "adelaide_registry.replace(to_replace='Labrador',value='Labrador Retriever', inplace=True)"
   ]
  },
  {
   "cell_type": "markdown",
   "metadata": {},
   "source": [
    "## Code: functions to display and manage data"
   ]
  },
  {
   "cell_type": "code",
   "execution_count": 4,
   "metadata": {},
   "outputs": [],
   "source": [
    "def describe(df, categ, filename=None, display=True):\n",
    "    \"\"\"Show the mean and standard deviation of the data and optionally plot. Optionally save a file of the plot.\n",
    "    \n",
    "    Arguments:\n",
    "        df {DataFrame} -- DataFrame to describe\n",
    "        categ {str} -- Display category\n",
    "    \n",
    "    Keyword Arguments:\n",
    "        filename {str} -- Name of file to save to (default: {None})\n",
    "        display {bool} -- Whether or not to display a plot (default: {True})\n",
    "    \"\"\"\n",
    "    print('\\n'+categ+' Mean')\n",
    "    attrib_mean = df[lst].mean()\n",
    "    print(attrib_mean.round(decimals=2))\n",
    "    print('\\n'+categ+' Standard Deviation')\n",
    "    print(attrib[lst].std().round(decimals=2))\n",
    "\n",
    "    plt.title(categ+' Overall Attributes')\n",
    "    plt.bar(attrib_mean.index, attrib_mean.values)\n",
    "    plt.ylim([0,0.75])\n",
    "#     fig= plt.figure(figsize=(10,6))\n",
    "    if filename is not None:\n",
    "        plt.savefig('../plots/'+filename)\n",
    "    if display:\n",
    "        plt.show()\n",
    "\n",
    "def describe_breeds(save=False):\n",
    "    '''Show the intersection of different breeds of dogs according to which dataset they come from. For example, Dogue de Bordeaux is in the Turcsan set but not in the Wiki scraped set.\n",
    "\n",
    "    Returns:\n",
    "        None\n",
    "    '''\n",
    "    wiki_breeds = set(wiki['Breed'].tolist())\n",
    "    coren_breeds = set(coren['Breed'].tolist())\n",
    "    turcsan_breeds = set(turcsan['Breed'].tolist())\n",
    "\n",
    "    print('\\nIntersection, Wiki and Turcsan')\n",
    "    print(wiki_breeds & turcsan_breeds)\n",
    "    print('\\nIntersection, Wiki and Coren')\n",
    "    print(wiki_breeds & coren_breeds)\n",
    "    print('\\nDifference, Wiki - Turcsan')\n",
    "    print(wiki_breeds - turcsan_breeds)\n",
    "    print('\\nDifference, Turcsan - Wiki')\n",
    "    print(turcsan_breeds - wiki_breeds)\n",
    "    print('\\nDifference, Wiki - Coren')\n",
    "    print(wiki_breeds - coren_breeds)\n",
    "    print('\\nDifference, Coren - Wiki')\n",
    "    print(coren_breeds - wiki_breeds)\n",
    "\n",
    "def plot_by_attrib(df, categ,label, filename=None, display=True):\n",
    "    \"\"\"Plot a graph by the attributes provided.\n",
    "    \n",
    "    Arguments:\n",
    "        df {DataFrame} -- DF to plot\n",
    "        categ {list} -- Categories to plot\n",
    "        label {str} -- Label for what the data is describing\n",
    "    \n",
    "    Keyword Arguments:\n",
    "        filename {str} -- Name of the file to optionally save (default: {None})\n",
    "        display {bool} -- Whether or not to display the plot (default: {True})\n",
    "    \"\"\"\n",
    "    fig, ax = plt.subplots()\n",
    "    plt.setp(ax.xaxis.get_majorticklabels(), rotation=45, ha='right', rotation_mode='anchor')\n",
    "    for item in categ:\n",
    "        ax.plot(df.index, df[item])\n",
    "\n",
    "    plt.gcf().subplots_adjust(bottom=0.3, right=.75)\n",
    "    plt.legend(loc=(1.04,0.6))\n",
    "    plt.title('Scores by '+ label)\n",
    "    ax.set_ylabel('Score')\n",
    "    ax.set_xlabel(label)\n",
    "    if filename is not None:\n",
    "        plt.savefig('../plots/'+filename)\n",
    "    if display:\n",
    "        plt.show()\n",
    "\n",
    "\n",
    "def splitDataFrameList(df,target_column,separator):\n",
    "    \"\"\"Thanks to James Allen, https://gist.github.com/jlln/338b4b0b55bd6984f883\n",
    "    \n",
    "    Arguments:\n",
    "        df {DataFrame} -- DataFrame to split,\n",
    "        target_column {string} -- The column containing the values to split\n",
    "        separator {str} -- The symbol used to perform the split\n",
    "    \n",
    "    Returns:\n",
    "        DataFrame -- A dataframe with each entry for the target column separated, with each element moved into a new row. \n",
    "    The values in the other columns are duplicated across the newly divided rows.\n",
    "    \"\"\"\n",
    "    def splitListToRows(row,row_accumulator,target_column,separator):\n",
    "        split_row = row[target_column].split(separator)\n",
    "        for s in split_row:\n",
    "            new_row = row.to_dict()\n",
    "            new_row[target_column] = s\n",
    "            row_accumulator.append(new_row)\n",
    "    new_rows = []\n",
    "    df.apply(splitListToRows,axis=1,args = (new_rows,target_column,separator))\n",
    "    new_df = pd.DataFrame(new_rows)\n",
    "    return new_df"
   ]
  },
  {
   "cell_type": "markdown",
   "metadata": {},
   "source": [
    "## Summary statistics"
   ]
  },
  {
   "cell_type": "code",
   "execution_count": 5,
   "metadata": {},
   "outputs": [
    {
     "name": "stdout",
     "output_type": "stream",
     "text": [
      "Note: for a 1-year period varying from 2015-2018\n",
      "New York total dogs:  121950\n",
      "Seattle total dogs:   18227\n",
      "Edmonton total dogs:  59266\n",
      "Adelaide total dogs:  16075\n"
     ]
    }
   ],
   "source": [
    "print('Note: for a 1-year period varying from 2015-2018')\n",
    "print('New York total dogs: ',nyc_registry.shape[0])\n",
    "print('Seattle total dogs:  ',seattle_registry.shape[0])\n",
    "print('Edmonton total dogs: ',edmonton_registry.shape[0])\n",
    "print('Adelaide total dogs: ',adelaide_registry.shape[0])"
   ]
  },
  {
   "cell_type": "markdown",
   "metadata": {},
   "source": [
    "There is something wrong with the Seattle dataset. For example, in 2015 there were only approx 206 dogs registered."
   ]
  },
  {
   "cell_type": "markdown",
   "metadata": {},
   "source": [
    "## Dog ownership by population"
   ]
  },
  {
   "cell_type": "code",
   "execution_count": 6,
   "metadata": {
    "scrolled": true
   },
   "outputs": [
    {
     "name": "stdout",
     "output_type": "stream",
     "text": [
      "New York ownership/reporting percentage:  1.421\n",
      "Seattle ownership/reporting percentage:  0.471\n",
      "Edmonton ownership/reporting percentage:  6.135\n",
      "Adelaide ownership/reporting percentage:  1.2\n"
     ]
    }
   ],
   "source": [
    "ny_pop = 8582000\n",
    "seattle_pop = 3870000\n",
    "edmonton_pop = 966000\n",
    "adelaide_pop = 1340000\n",
    "\n",
    "print('New York ownership/reporting percentage: ',round(100*nyc_registry.shape[0]/ny_pop,3))\n",
    "print('Seattle ownership/reporting percentage: ',round(100*seattle_registry.shape[0]/seattle_pop,3))\n",
    "print('Edmonton ownership/reporting percentage: ',round(100*edmonton_registry.shape[0]/edmonton_pop,3))\n",
    "print('Adelaide ownership/reporting percentage: ',round(100*adelaide_registry.shape[0]/adelaide_pop,3))"
   ]
  },
  {
   "cell_type": "markdown",
   "metadata": {},
   "source": [
    "The widely varying percentages imply there may be a problem with some of the data--especially in Seattle, as noted above. Edmonton has an abnormally high percentage."
   ]
  },
  {
   "cell_type": "markdown",
   "metadata": {},
   "source": [
    "## Correlation coefficients among attributes"
   ]
  },
  {
   "cell_type": "code",
   "execution_count": 7,
   "metadata": {},
   "outputs": [
    {
     "data": {
      "text/html": [
       "<div>\n",
       "<style scoped>\n",
       "    .dataframe tbody tr th:only-of-type {\n",
       "        vertical-align: middle;\n",
       "    }\n",
       "\n",
       "    .dataframe tbody tr th {\n",
       "        vertical-align: top;\n",
       "    }\n",
       "\n",
       "    .dataframe thead th {\n",
       "        text-align: right;\n",
       "    }\n",
       "</style>\n",
       "<table border=\"1\" class=\"dataframe\">\n",
       "  <thead>\n",
       "    <tr style=\"text-align: right;\">\n",
       "      <th></th>\n",
       "      <th>Obedient</th>\n",
       "      <th>Calm</th>\n",
       "      <th>Trainable</th>\n",
       "      <th>Sociable</th>\n",
       "      <th>Bold</th>\n",
       "    </tr>\n",
       "  </thead>\n",
       "  <tbody>\n",
       "    <tr>\n",
       "      <th>Obedient</th>\n",
       "      <td>1.000000</td>\n",
       "      <td>-0.224701</td>\n",
       "      <td>0.363011</td>\n",
       "      <td>-0.187287</td>\n",
       "      <td>-0.200141</td>\n",
       "    </tr>\n",
       "    <tr>\n",
       "      <th>Calm</th>\n",
       "      <td>-0.224701</td>\n",
       "      <td>1.000000</td>\n",
       "      <td>-0.596697</td>\n",
       "      <td>0.864370</td>\n",
       "      <td>0.753806</td>\n",
       "    </tr>\n",
       "    <tr>\n",
       "      <th>Trainable</th>\n",
       "      <td>0.363011</td>\n",
       "      <td>-0.596697</td>\n",
       "      <td>1.000000</td>\n",
       "      <td>-0.331093</td>\n",
       "      <td>-0.409075</td>\n",
       "    </tr>\n",
       "    <tr>\n",
       "      <th>Sociable</th>\n",
       "      <td>-0.187287</td>\n",
       "      <td>0.864370</td>\n",
       "      <td>-0.331093</td>\n",
       "      <td>1.000000</td>\n",
       "      <td>0.815936</td>\n",
       "    </tr>\n",
       "    <tr>\n",
       "      <th>Bold</th>\n",
       "      <td>-0.200141</td>\n",
       "      <td>0.753806</td>\n",
       "      <td>-0.409075</td>\n",
       "      <td>0.815936</td>\n",
       "      <td>1.000000</td>\n",
       "    </tr>\n",
       "  </tbody>\n",
       "</table>\n",
       "</div>"
      ],
      "text/plain": [
       "           Obedient      Calm  Trainable  Sociable      Bold\n",
       "Obedient   1.000000 -0.224701   0.363011 -0.187287 -0.200141\n",
       "Calm      -0.224701  1.000000  -0.596697  0.864370  0.753806\n",
       "Trainable  0.363011 -0.596697   1.000000 -0.331093 -0.409075\n",
       "Sociable  -0.187287  0.864370  -0.331093  1.000000  0.815936\n",
       "Bold      -0.200141  0.753806  -0.409075  0.815936  1.000000"
      ]
     },
     "execution_count": 7,
     "metadata": {},
     "output_type": "execute_result"
    }
   ],
   "source": [
    "attrib.corr()"
   ]
  },
  {
   "cell_type": "markdown",
   "metadata": {},
   "source": [
    "## Show which dogs are in each dataset"
   ]
  },
  {
   "cell_type": "code",
   "execution_count": 8,
   "metadata": {
    "scrolled": true
   },
   "outputs": [
    {
     "name": "stdout",
     "output_type": "stream",
     "text": [
      "\n",
      "Intersection, Wiki and Turcsan\n",
      "{'Great Dane', 'Australian Shepherd', 'French Bulldog', 'Standard Schnauzer', 'Boxer', 'Shetland Sheepdog', 'Bernese Mountain Dog', 'Belgian Malinois', 'Polish Lowland Sheepdog', 'Airedale Terrier', 'Flat-Coated Retriever', 'Irish Terrier', 'Brittany', 'Siberian Husky', 'Cairn Terrier', 'Golden Retriever', 'Border Terrier', 'Whippet', 'Greater Swiss Mountain Dog', 'Shar Pei', 'Soft-Coated Wheaten Terrier', 'English Setter', 'Pug', 'Pointer', 'Yorkshire Terrier', 'Border Collie', 'Coton de Tulear', 'Gordon Setter', 'Bulldog', 'Cavalier King Charles Spaniel', 'Giant Schnauzer', 'Beagle', 'Irish Setter', 'German Wirehaired Pointer', 'Saint Bernard', 'Old English Sheepdog', 'Shiba Inu', 'Dachshund', 'Miniature Poodle', 'Rottweiler', 'German Shorthaired Pointer', 'Lhasa Apso', 'Briard', 'Staffordshire Bull Terrier', 'Alaskan Malamute', 'Chihuahua', 'Poodle', 'Bull Terrier', 'Jack Russell Terrier', 'Dalmatian', 'Maltese', 'Rhodesian Ridgeback', 'Tibetan Terrier', 'Ibizan Hound', 'Irish Wolfhound', 'Welsh Terrier', 'Bearded Collie', 'Beauceron', 'Pekingese', 'Labrador Retriever', 'German Shepherd', 'American Staffordshire Terrier', 'Vizsla', 'Weimaraner', 'Shih Tzu', 'Doberman Pinscher'}\n",
      "\n",
      "Intersection, Wiki and Coren\n",
      "{'Great Dane', 'Australian Shepherd', 'Standard Schnauzer', 'Belgian Malinois', 'Afghan Hound', 'Airedale Terrier', 'Cairn Terrier', 'Sealyham Terrier', 'Italian Greyhound', 'Pug', 'Curly Coated Retriever', 'Great Pyrenees', 'Gordon Setter', 'Cardigan Welsh Corgi', 'Giant Schnauzer', 'American Foxhound', 'Chesapeake Bay Retriever', 'Welsh Springer Spaniel', 'Poodle', 'Jack Russell Terrier', 'Dalmatian', 'Maltese', 'Tibetan Terrier', 'Bullmastiff', 'Dandie Dinmont Terrier', 'Doberman Pinscher', 'Field Spaniel', 'Boxer', 'Shetland Sheepdog', 'Basset Hound', 'Flat-Coated Retriever', 'Chinese Crested', 'Golden Retriever', 'Border Terrier', 'Soft-Coated Wheaten Terrier', 'Lakeland Terrier', 'Border Collie', 'Brussels Griffon', 'Cavalier King Charles Spaniel', 'Bulldog', 'Beagle', 'German Wirehaired Pointer', 'American Water Spaniel', 'Chow Chow', 'English Springer Spaniel', 'Newfoundland', 'Rottweiler', 'Australian Terrier', 'Norwegian Elkhound', 'Lhasa Apso', 'Welsh Terrier', 'Bearded Collie', 'Labrador Retriever', 'German Shepherd', 'Australian Cattle Dog', 'Fox Terrier', 'Irish Water Spaniel', 'Borzoi', 'French Bulldog', 'Bernese Mountain Dog', 'Brittany', 'Shar Pei', 'Kerry Blue Terrier', 'Greyhound', 'Bichon Frise', 'Skye Terrier', 'Irish Setter', 'Wirehaired Pointing Griffon', 'Saint Bernard', 'Clumber Spaniel', 'Shiba Inu', 'Old English Sheepdog', 'Scottish Deerhound', 'Dachshund', 'English Foxhound', 'Basenji', 'Portuguese Water Dog', 'Alaskan Malamute', 'Keeshond', 'Ibizan Hound', 'Affenpinscher', 'Kuvasz', 'Pekingese', 'Pharaoh Hound', 'Vizsla', 'Weimaraner', 'Shih Tzu', 'Boston Terrier', 'Bedlington Terrier', 'Pomeranian', 'Irish Terrier', 'Siberian Husky', 'Otter Hound', 'Whippet', 'Akita', 'Finnish Spitz', 'English Setter', 'Pointer', 'Black and Tan Coonhound', 'Manchester Terrier', 'Yorkshire Terrier', 'Saluki', 'Tibetan Spaniel', 'Scottish Terrier', 'Japanese Chin', 'Puli', 'German Shorthaired Pointer', 'Bloodhound', 'Cocker Spaniel', 'Briard', 'Staffordshire Bull Terrier', 'Chihuahua', 'Bull Terrier', 'Schipperke', 'Rhodesian Ridgeback', 'Belgian Sheepdog', 'Irish Wolfhound', 'Petit Basset Griffon Vendeen', 'Bouvier des Flandres', 'American Staffordshire Terrier', 'West Highland White Terrier'}\n",
      "\n",
      "Difference, Wiki - Turcsan\n",
      "{'Plott Hound', 'Afghan Hound', 'Sealyham Terrier', 'Italian Greyhound', 'Curly Coated Retriever', 'Great Pyrenees', 'Cardigan Welsh Corgi', 'American Foxhound', 'Chesapeake Bay Retriever', 'Nova Scotia Duck Tolling Retriever', 'Welsh Springer Spaniel', 'Spinone Italiano', 'Redbone Coonhound', 'Sussex Spaniel', 'Bullmastiff', 'Dandie Dinmont Terrier', 'Field Spaniel', 'Toy Fox Terrier', 'Basset Hound', 'Silky Terrier', 'Chinese Crested', 'Lakeland Terrier', 'Brussels Griffon', 'American Water Spaniel', 'Chow Chow', 'English Springer Spaniel', 'Newfoundland', 'Australian Terrier', 'Norwegian Elkhound', 'American Eskimo', 'Fox Terrier', 'Australian Cattle Dog', 'Irish Water Spaniel', 'Borzoi', 'Belgian Tervuren', 'German Pinscher', 'Kerry Blue Terrier', 'Greyhound', 'Bichon Frise', 'Black Russian Terrier', 'Skye Terrier', 'Wirehaired Pointing Griffon', 'Clumber Spaniel', 'Scottish Deerhound', 'English Foxhound', 'Basenji', 'Portuguese Water Dog', 'Keeshond', 'Tibetan Mastiff', 'Affenpinscher', 'Kuvasz', 'Pharaoh Hound', 'Boston Terrier', 'Bedlington Terrier', 'Pomeranian', 'Otter Hound', 'Canaan Dog', 'Akita', 'English Toy Spaniel', 'Finnish Spitz', 'Black and Tan Coonhound', 'Manchester Terrier', 'Saluki', 'Tibetan Spaniel', 'Scottish Terrier', 'Japanese Chin', 'Puli', 'Komondor', 'Bloodhound', 'Cocker Spaniel', 'Toy Poodle', 'Schipperke', 'Belgian Sheepdog', 'Fox Terrier Smooth', 'Petit Basset Griffon Vendeen', 'Bouvier des Flandres', 'West Highland White Terrier'}\n",
      "\n",
      "Difference, Turcsan - Wiki\n",
      "{'Kromfohrlander', 'Miniature Schnauzer', 'Miniature Dachshund', 'German Spitz', 'Perro de Presa Canario', 'Anatolian Shepherd Dog', 'Miniature Pinscher', 'White Swiss Shepherd', 'Dogue de Bordeaux', 'West Highland Wheaten Terrier', 'Havanese', 'Eurasier', 'American Cocker Spaniel', 'Leonberger', 'German Hunting Terrier', 'Wolfspitz', 'Collie', 'Small Munsterlander', 'Parson Russell Terrier', 'Entlebucher Mountain Dog', 'Wirehaired Dachshund', 'Hovawart', 'Appenzeller Sennenhund', 'Bavarian Mountain Hound', 'Pyrenean Shepherd', 'English Cocker Spaniel'}\n",
      "\n",
      "Difference, Wiki - Coren\n",
      "{'Belgian Tervuren', 'Toy Fox Terrier', 'Plott Hound', 'Polish Lowland Sheepdog', 'Silky Terrier', 'Canaan Dog', 'Greater Swiss Mountain Dog', 'German Pinscher', 'English Toy Spaniel', 'Black Russian Terrier', 'Coton de Tulear', 'Miniature Poodle', 'Komondor', 'Nova Scotia Duck Tolling Retriever', 'Spinone Italiano', 'Toy Poodle', 'American Eskimo', 'Tibetan Mastiff', 'Fox Terrier Smooth', 'Redbone Coonhound', 'Sussex Spaniel', 'Beauceron'}\n",
      "\n",
      "Difference, Coren - Wiki\n",
      "{'Norfolk Terrier', 'English Cocker Spaniel', 'Miniature Pinscher', 'King Charles Spaniel', 'Pembroke Welsh Corgi', 'Mastiff', 'Wire Fox Terrier', 'Havanese', 'Australian Silky Terrier', 'Miniature Schnauzer', 'Samoyed', 'Collie', 'Norwich Terrier', 'Belgian Shepherd', 'Papillon'}\n"
     ]
    }
   ],
   "source": [
    "describe_breeds()"
   ]
  },
  {
   "cell_type": "markdown",
   "metadata": {},
   "source": [
    "# Attributes by AKC groupings\n",
    "Similar to what Turcsán did in her paper"
   ]
  },
  {
   "cell_type": "code",
   "execution_count": 9,
   "metadata": {},
   "outputs": [
    {
     "name": "stdout",
     "output_type": "stream",
     "text": [
      "\n",
      "AKC Mean\n",
      "              Obedient  Calm  Trainable  Sociable  Bold\n",
      "AKC                                                    \n",
      "Herding           0.77  0.30       0.85      0.45  0.30\n",
      "Hound             0.44  0.50       0.67      0.58  0.33\n",
      "Non-Sporting      0.53  0.44       0.67      0.44  0.22\n",
      "Sporting          0.73  0.67       0.62      0.67  0.62\n",
      "Terrier           0.51  0.30       0.75      0.30  0.35\n",
      "Toy               0.42  0.62       0.25      0.56  0.69\n",
      "Working           0.60  0.45       0.73      0.41  0.36\n",
      "\n",
      "AKC Standard Deviation\n",
      "              Obedient  Calm  Trainable  Sociable  Bold\n",
      "AKC                                                    \n",
      "Herding           0.20  0.48       0.24      0.44  0.48\n",
      "Hound             0.14  0.55       0.41      0.38  0.52\n",
      "Non-Sporting      0.23  0.53       0.43      0.39  0.44\n",
      "Sporting          0.15  0.49       0.38      0.44  0.48\n",
      "Terrier           0.17  0.48       0.35      0.48  0.47\n",
      "Toy               0.21  0.52       0.27      0.50  0.37\n",
      "Working           0.22  0.52       0.34      0.49  0.50\n",
      "\n",
      "AKC Count\n",
      "              Obedient  Calm  Trainable  Sociable  Bold\n",
      "AKC                                                    \n",
      "Herding             13    10         10        10    10\n",
      "Hound               21     6          6         6     6\n",
      "Non-Sporting        14     9          9         9     9\n",
      "Sporting            22    12         12        12    12\n",
      "Terrier             20    10         10        10    10\n",
      "Toy                 15     8          8         8     8\n",
      "Working             16    11         11        11    11\n"
     ]
    },
    {
     "data": {
      "image/png": "[encoded data removed]",
      "text/plain": [
       "<Figure size 432x288 with 1 Axes>"
      ]
     },
     "metadata": {
      "needs_background": "light"
     },
     "output_type": "display_data"
    }
   ],
   "source": [
    "wiki_akc = wiki[['Breed', 'AKC']]\n",
    "akc_groups_attrib = wiki_akc.set_index('Breed').join(attrib, how='left')\n",
    "print('\\nAKC Mean')\n",
    "akc = akc_groups_attrib.groupby('AKC').mean().round(decimals=2)\n",
    "pprint(akc)\n",
    "print('\\nAKC Standard Deviation')\n",
    "akc_std = akc_groups_attrib.groupby('AKC').std().round(decimals=2)\n",
    "pprint(akc_std)\n",
    "print('\\nAKC Count')\n",
    "akc_count = akc_groups_attrib.groupby('AKC').count()\n",
    "pprint(akc_count)\n",
    "\n",
    "# Plot the AKC grouping data\n",
    "plot_by_attrib(akc, lst, 'AKC Grouping')"
   ]
  },
  {
   "cell_type": "markdown",
   "metadata": {},
   "source": [
    "## Display breed attributes by NYC borough"
   ]
  },
  {
   "cell_type": "code",
   "execution_count": 16,
   "metadata": {
    "scrolled": true
   },
   "outputs": [
    {
     "name": "stdout",
     "output_type": "stream",
     "text": [
      "\n",
      "NYC Mean:\n",
      "               Calm  Trainable  Sociable  Bold\n",
      "Borough                                       \n",
      "Bronx          0.36       0.42      0.36  0.54\n",
      "Brooklyn       0.42       0.47      0.43  0.56\n",
      "Manhattan      0.49       0.49      0.50  0.61\n",
      "Queens         0.44       0.45      0.44  0.58\n",
      "Staten Island  0.48       0.48      0.48  0.60\n",
      "\n",
      "NYC Standard Deviation:\n",
      "               Calm  Trainable  Sociable  Bold\n",
      "Borough                                       \n",
      "Bronx          0.48       0.40      0.47  0.39\n",
      "Brooklyn       0.49       0.39      0.48  0.41\n",
      "Manhattan      0.50       0.36      0.49  0.42\n",
      "Queens         0.50       0.38      0.48  0.40\n",
      "Staten Island  0.50       0.37      0.49  0.41\n",
      "\n",
      "NYC Count:\n",
      "                Calm  Trainable  Sociable   Bold\n",
      "Borough                                         \n",
      "Bronx           6516       6516      6516   6516\n",
      "Brooklyn       13996      13996     13996  13996\n",
      "Manhattan      19680      19680     19680  19680\n",
      "Queens         11741      11741     11741  11741\n",
      "Staten Island   5201       5201      5201   5201\n"
     ]
    },
    {
     "data": {
      "image/png": "[encoded data removed]",
      "text/plain": [
       "<Figure size 432x288 with 1 Axes>"
      ]
     },
     "metadata": {
      "needs_background": "light"
     },
     "output_type": "display_data"
    },
    {
     "name": "stdout",
     "output_type": "stream",
     "text": [
      "\n",
      "Top NYC Dogs Count\n",
      "Yorkshire Terrier                 7412\n",
      "Shih Tzu                          6835\n",
      "Chihuahua                         5555\n",
      "Maltese                           4117\n",
      "Labrador Retriever                4055\n",
      "Pit Bull Mix                      3279\n",
      "American Staffordshire Terrier    3196\n",
      "Labrador Retriever Crossbreed     2677\n",
      "Pomeranian                        2107\n",
      "Beagle                            2017\n",
      "Jack Russell Terrier              1962\n",
      "Havanese                          1962\n",
      "Name: BreedName, dtype: int64\n",
      "\n",
      "Top Dogs By Borough\n",
      "\n",
      "Bronx\n",
      "Yorkshire Terrier                 1171\n",
      "Shih Tzu                          1046\n",
      "Chihuahua                          830\n",
      "American Staffordshire Terrier     689\n",
      "Pit Bull Mix                       513\n",
      "Maltese                            510\n",
      "Labrador Retriever                 246\n",
      "Pomeranian                         241\n",
      "German Shepherd Dog                216\n",
      "Shih Tzu Crossbreed                188\n",
      "Jack Russell Terrier               180\n",
      "Labrador Retriever Crossbreed      178\n",
      "Name: BreedName, dtype: int64\n",
      "\n",
      "Brooklyn\n",
      "Yorkshire Terrier                 1923\n",
      "Shih Tzu                          1838\n",
      "Chihuahua                         1456\n",
      "Pit Bull Mix                      1033\n",
      "Labrador Retriever                 929\n",
      "Maltese                            926\n",
      "American Staffordshire Terrier     917\n",
      "Labrador Retriever Crossbreed      791\n",
      "Pomeranian                         545\n",
      "Jack Russell Terrier               530\n",
      "German Shepherd Crossbreed         492\n",
      "Beagle                             489\n",
      "Name: BreedName, dtype: int64\n",
      "\n",
      "Manhattan\n",
      "Yorkshire Terrier                2017\n",
      "Chihuahua                        1871\n",
      "Shih Tzu                         1768\n",
      "Labrador Retriever               1618\n",
      "Maltese                          1174\n",
      "Havanese                         1161\n",
      "Labrador Retriever Crossbreed     922\n",
      "Golden Retriever                  882\n",
      "Cavalier King Charles Spaniel     803\n",
      "Pit Bull Mix                      756\n",
      "Jack Russell Terrier              732\n",
      "French Bulldog                    717\n",
      "Name: BreedName, dtype: int64\n",
      "\n",
      "Queens\n",
      "Yorkshire Terrier                 1607\n",
      "Shih Tzu                          1496\n",
      "Maltese                           1129\n",
      "Chihuahua                         1057\n",
      "Labrador Retriever                 711\n",
      "American Staffordshire Terrier     697\n",
      "Pit Bull Mix                       622\n",
      "German Shepherd Dog                553\n",
      "Beagle                             529\n",
      "Labrador Retriever Crossbreed      528\n",
      "Pomeranian                         500\n",
      "Cocker Spaniel                     438\n",
      "Name: BreedName, dtype: int64\n",
      "\n",
      "Staten Island\n",
      "Yorkshire Terrier                 694\n",
      "Shih Tzu                          687\n",
      "Labrador Retriever                551\n",
      "Maltese                           378\n",
      "Pit Bull Mix                      355\n",
      "Chihuahua                         341\n",
      "American Staffordshire Terrier    308\n",
      "German Shepherd Dog               271\n",
      "Labrador Retriever Crossbreed     258\n",
      "Beagle                            227\n",
      "Boxer                             188\n",
      "Golden Retriever                  185\n",
      "Name: BreedName, dtype: int64\n"
     ]
    }
   ],
   "source": [
    "# Strip out NYC dirty values\n",
    "nyc_registry['Borough'] = nyc_registry['Borough'].map(lambda x: None if x not in {'Brooklyn', 'Bronx', 'Staten Island', 'Manhattan', 'Queens'} else x)\n",
    "nyc_registry.replace(to_replace='Unknown',value=np.nan, inplace=True)\n",
    "nyc_registry.replace(to_replace='American Pit Bull Mix / Pit Bull Mix',value='Pit Bull Mix', inplace=True)\n",
    "nyc_registry.replace(to_replace='American Pit Bull Terrier/Pit Bull',value='American Staffordshire Terrier', inplace=True)\n",
    "nyc_registry.dropna(inplace=True)\n",
    "\n",
    "display = True # Display the graph\n",
    "norm=False # Whether or not to normalize\n",
    "nyc_attrib = nyc_registry.set_index('BreedName').join(attrib, how='left')\n",
    "# nyc_attrib = nyc_attrib[['Borough','Calm', 'Trainable', 'Sociable', 'Bold', 'Obedient']]\n",
    "nyc_attrib = nyc_attrib[['Borough','Calm', 'Trainable', 'Sociable', 'Bold']]\n",
    "nyc_attrib_g = nyc_attrib.groupby('Borough')\n",
    "print('\\nNYC Mean:')\n",
    "nyc_attrib_g_mean = nyc_attrib_g.mean()\n",
    "pprint(nyc_attrib_g_mean.round(decimals=2))\n",
    "print('\\nNYC Standard Deviation:')\n",
    "pprint(nyc_attrib_g.std().round(decimals=2))\n",
    "print('\\nNYC Count:')\n",
    "pprint(nyc_attrib_g.count())\n",
    "if display:\n",
    "    plot_by_attrib(nyc_attrib_g_mean, lst, 'NYC Borough')\n",
    "\n",
    "nyc_breeds = nyc_registry[['Borough', 'BreedName']]\n",
    "print('\\nTop NYC Dogs Count')\n",
    "pprint(nyc_breeds['BreedName'].value_counts().nlargest(12))\n",
    "nyc_breeds_grp = nyc_breeds.groupby('Borough')\n",
    "print('\\nTop Dogs By Borough')\n",
    "for b in borough:\n",
    "    print('\\n'+b)\n",
    "    print(nyc_breeds_grp.get_group(b)['BreedName'].value_counts(normalize=norm).head(12))"
   ]
  },
  {
   "cell_type": "markdown",
   "metadata": {},
   "source": [
    "## Perform Chi-Squared analysis on NYC data\n",
    "Are the distributions of dogs in NYC statistically significant with respect to which borough one is in? I look at the five most common breeds, pairwise."
   ]
  },
  {
   "cell_type": "code",
   "execution_count": null,
   "metadata": {},
   "outputs": [],
   "source": [
    "chi2_breed = ['Yorkshire Terrier', 'Shih Tzu','Chihuahua', 'Maltese', 'Labrador Retriever']\n",
    "chi2_breed_com = itertools.combinations(chi2_breed, 2)\n",
    "nyc_breeds_5 = nyc_registry[nyc_registry['BreedName'].isin(chi2_breed)] #top 5 breeds overall\n",
    "for i in chi2_breed_com:\n",
    "    print('\\n',i)\n",
    "    nyc_breeds_2 = nyc_registry[nyc_registry['BreedName'].isin(i)]\n",
    "    contingency_table = pd.crosstab(nyc_breeds_2['BreedName'], nyc_breeds_2['Borough'])\n",
    "    nyc_chi2 = stats.chi2_contingency(contingency_table)\n",
    "    print('Test statistic: {}'.format(nyc_chi2[0].round(2)))\n",
    "    print('P-value: {}'.format(nyc_chi2[1]))"
   ]
  },
  {
   "cell_type": "markdown",
   "metadata": {},
   "source": [
    "The distribution of *all* dog breeds in NYC based on the borough is statistially significant except for the distribution of Yorkshire Terriers vs. Shih Tzus. "
   ]
  },
  {
   "cell_type": "markdown",
   "metadata": {},
   "source": [
    "## Seattle dog attributes\n",
    "Seattle data includes ONLY dogs with a primary breed. Secondary breeds are excluded."
   ]
  },
  {
   "cell_type": "code",
   "execution_count": null,
   "metadata": {},
   "outputs": [],
   "source": [
    "seattle_attrib = seattle_registry[pd.isnull(seattle_registry['Secondary Breed'])]\n",
    "seattle_attrib = seattle_registry.set_index('Primary Breed').join(attrib, how='left')\n",
    "seattle_attrib"
   ]
  },
  {
   "cell_type": "code",
   "execution_count": null,
   "metadata": {},
   "outputs": [],
   "source": [
    "seattle_attrib.describe()"
   ]
  },
  {
   "cell_type": "markdown",
   "metadata": {},
   "source": [
    "# Perform hypothesis tests for NYC boroughs"
   ]
  },
  {
   "cell_type": "code",
   "execution_count": null,
   "metadata": {},
   "outputs": [],
   "source": [
    "print('Alternative Hypothesis: dogs from Staten Island are bolder than other dogs in New York.')\n",
    "non_staten = nyc_attrib[nyc_attrib['Borough'].isin(['Manhattan', 'Queens', 'Bronx', 'Brooklyn'])]\n",
    "non_staten.dropna(inplace=True)\n",
    "non_staten_bold = non_staten['Bold']\n",
    "print('Non-Staten Island bold mean: ',non_staten_bold.mean())\n",
    "staten = nyc_attrib[nyc_attrib['Borough'] == 'Staten Island']\n",
    "staten.dropna(inplace=True)\n",
    "staten_bold = staten['Bold']\n",
    "print('Staten Island bold mean: ',staten_bold.mean())\n",
    "print(stats.ttest_ind(staten_bold, non_staten_bold, equal_var = False))\n",
    "\n",
    "print('\\nAlternative Hypothesis: dogs from Staten Island are calmer than other dogs in New York.')\n",
    "non_staten_calm = non_staten['Calm']\n",
    "print('Non-Staten Island calm mean: ',non_staten_calm.mean())\n",
    "staten_calm = staten['Calm']\n",
    "print('Staten Island calm mean: ',staten_calm.mean())\n",
    "print(stats.ttest_ind(staten_calm, non_staten_calm, equal_var = False))\n",
    "\n",
    "print('\\nAlternative Hypothesis: dogs from the Bronx and Queens are less trainable than other dogs in New York.')\n",
    "non_bronxq = nyc_attrib[nyc_attrib['Borough'].isin(['Manhattan', 'Staten Island', 'Brooklyn'])]\n",
    "non_bronxq.dropna(inplace=True)\n",
    "non_bronxq_trainable = non_bronxq['Trainable']\n",
    "print('Non-Bronx/Queens trainable mean: ',non_bronxq_trainable.mean())\n",
    "bronxq = nyc_attrib[nyc_attrib['Borough'].isin(['Queens', 'Bronx'])]\n",
    "bronxq.dropna(inplace=True)\n",
    "bronxq_trainable = bronxq['Trainable']\n",
    "print('Bronx/Queens trainable mean: ',bronxq_trainable.mean())\n",
    "print(stats.ttest_ind(bronxq_trainable, non_bronxq_trainable, equal_var = False))\n",
    "\n",
    "print('\\nAlternative Hypothesis: dogs from the Bronx and Queens are less sociable than other dogs in New York.')\n",
    "non_bronxq_sociable = non_bronxq['Sociable']\n",
    "print('Non-Bronx/Queens sociable mean: ',non_bronxq_sociable.mean())\n",
    "bronxq_sociable = bronxq['Sociable']\n",
    "print('Bronx/Queens sociable mean: ',bronxq_sociable.mean())\n",
    "print(stats.ttest_ind(non_bronxq_sociable, bronxq_sociable, equal_var = False))\n",
    "\n",
    "print('\\nNull Hypothesis: The average boldness of dogs in Brooklyn is the same as the average boldness for other New York dogs.')\n",
    "print('Alternative Hypothesis: The average boldness of Brooklyn and other New York dogs is different.')\n",
    "non_brooklyn = nyc_attrib[nyc_attrib['Borough'].isin(['Manhattan', 'Queens', 'Bronx', 'Staten Island'])]\n",
    "non_brooklyn.dropna(inplace=True)\n",
    "non_brooklyn_bold = non_brooklyn['Bold']\n",
    "print('Non-Brooklyn bold mean: ',non_brooklyn_bold.mean())\n",
    "brooklyn = nyc_attrib[nyc_attrib['Borough'] == 'Brooklyn']\n",
    "brooklyn.dropna(inplace=True)\n",
    "brooklyn_bold = staten['Bold']\n",
    "print('Brooklyn bold mean: ',brooklyn_bold.mean())\n",
    "print(stats.ttest_ind(brooklyn_bold, non_brooklyn_bold, equal_var = False))\n",
    "\n",
    "print('\\nNull Hypothesis: The average trainability of dogs in Brooklyn is the same as the average trainability for other New York dogs.')\n",
    "print('Alternative Hypothesis: The average trainability of Brooklyn and other New York dogs is different.')\n",
    "non_brooklyn_trainable = non_brooklyn['Trainable']\n",
    "print('Non-Brooklyn trainable mean: ',non_brooklyn_trainable.mean())\n",
    "brooklyn_trainable = brooklyn['Trainable']\n",
    "print('Brooklyn trainable mean: ',brooklyn_trainable.mean())\n",
    "print(stats.ttest_ind(non_brooklyn_trainable, brooklyn_trainable, equal_var = False))\n",
    "\n",
    "print('\\nNull Hypothesis: The average calmness of dogs in Brooklyn is the same as the average calmness for other New York dogs.')\n",
    "print('Alternative Hypothesis: The average calmness of Brooklyn and other New York dogs is different.')\n",
    "non_brooklyn_calm = non_brooklyn['Calm']\n",
    "print('Non-Brooklyn calm mean: ',non_brooklyn_calm.mean())\n",
    "brooklyn_calm = brooklyn['Calm']\n",
    "print('Brooklyn calm mean: ',brooklyn_calm.mean())\n",
    "print(stats.ttest_ind(non_brooklyn_calm, brooklyn_calm, equal_var = False))\n",
    "\n",
    "print('\\nNull Hypothesis: The average sociability of dogs in Brooklyn is the same as the average sociability for other New York dogs.')\n",
    "print('Alternative Hypothesis: The average sociability of Brooklyn and other New York dogs is different.')\n",
    "non_brooklyn_sociable = non_brooklyn['Sociable']\n",
    "print('Non-Brooklyn sociable mean: ',non_brooklyn_sociable.mean())\n",
    "brooklyn_sociable = brooklyn['Sociable']\n",
    "print('Brooklyn sociable mean: ',brooklyn_sociable.mean())\n",
    "print(stats.ttest_ind(non_brooklyn_sociable, brooklyn_sociable, equal_var = False))\n"
   ]
  },
  {
   "cell_type": "markdown",
   "metadata": {},
   "source": [
    "## DOUBLE CHECK\n",
    "\n",
    "Note: due to Bonferroni correction, p-value must be lower than .00625.\n",
    "\n",
    "The null hypothesis is rejected in all cases, except: \n",
    "* Since the p-value is greater than 0.00625, we fail to reject the null hypothesis that dogs in Brooklyn are the same average trainability as dogs in other boroughs.\n",
    "\n",
    "The differences in the means is still relatively small. I will explore further using a Tukey test, which examines the differences of the means."
   ]
  },
  {
   "cell_type": "markdown",
   "metadata": {},
   "source": [
    "# Tukey tests - within NYC boroughs"
   ]
  },
  {
   "cell_type": "code",
   "execution_count": null,
   "metadata": {},
   "outputs": [],
   "source": [
    "for item in lst:\n",
    "    print('\\nAttribute: ',item)\n",
    "    manhattan_item = pd.DataFrame(nyc_attrib[nyc_attrib['Borough'] == 'Manhattan'][item])\n",
    "    manhattan_item['Borough'] = 'Manhattan'\n",
    "    brooklyn_item = pd.DataFrame(nyc_attrib[nyc_attrib['Borough'] == 'Brooklyn'][item])\n",
    "    brooklyn_item['Borough'] = 'Brooklyn'\n",
    "    bronx_item = pd.DataFrame(nyc_attrib[nyc_attrib['Borough'] == 'Bronx'][item])\n",
    "    bronx_item['Borough'] = 'Bronx'\n",
    "    staten_item = pd.DataFrame(nyc_attrib[nyc_attrib['Borough'] == 'Staten Island'][item])\n",
    "    staten_item['Borough'] = 'Staten Island'\n",
    "    queens_item = pd.DataFrame(nyc_attrib[nyc_attrib['Borough'] == 'Queens'][item])\n",
    "    queens_item['Borough'] = 'Queens'\n",
    "    item_attrib = pd.concat([manhattan_item, brooklyn_item, bronx_item, staten_item, queens_item])\n",
    "    item_attrib.dropna(inplace=True)\n",
    "    item_attrib.reset_index(inplace=True)\n",
    "\n",
    "    m = MultiComparison(item_attrib[item], item_attrib['Borough'])\n",
    "    tukey = m.tukeyhsd()\n",
    "    print(tukey.summary())"
   ]
  },
  {
   "cell_type": "markdown",
   "metadata": {},
   "source": [
    "## Selected findings from Tukey tests\n",
    "There is a statistically significant relationship in most cases, but the mean difference is often small.\n",
    "* Manhattan dogs are more trainable than Bronx dogs.\n",
    "* Differences in the boldness among NYC dogs are minimal.\n",
    "* Differences in the obedience among NYC dogs are also minimal, though most pronounced between Staten Island and Manhattan vs. Bronx dogs.\n",
    "* Staten Island and Manhattan dogs are more sociable and calm than Bronx dogs."
   ]
  },
  {
   "cell_type": "markdown",
   "metadata": {},
   "source": [
    "# Tukey tests - between cities"
   ]
  },
  {
   "cell_type": "code",
   "execution_count": null,
   "metadata": {},
   "outputs": [],
   "source": [
    "seattle_attrib"
   ]
  },
  {
   "cell_type": "code",
   "execution_count": null,
   "metadata": {},
   "outputs": [],
   "source": [
    "adelaide_attrib = adelaide_registry.set_index('AnimalBreed').join(attrib, how='left')\n",
    "edmonton_attrib = edmonton_registry.set_index('BREED').join(attrib, how='left')\n",
    "# CHANGED THIS\n",
    "# seattle_attrib = seattle_attrib.set_index('Primary Breed').join(attrib, how='left')\n"
   ]
  },
  {
   "cell_type": "code",
   "execution_count": null,
   "metadata": {
    "scrolled": true
   },
   "outputs": [],
   "source": [
    "# Compare how trainable dogs are across different cities\n",
    "for item in lst:\n",
    "    print('\\nAttribute: ',item)\n",
    "    nyc_item = pd.DataFrame(nyc_attrib[item])\n",
    "    nyc_item['Location'] = 'New York'\n",
    "    seattle_item = pd.DataFrame(seattle_attrib[item])\n",
    "    seattle_item['Location'] = 'Seattle'\n",
    "    edmonton_item = pd.DataFrame(edmonton_attrib[item])\n",
    "    edmonton_item['Location'] = 'Edmonton'\n",
    "    adelaide_item = pd.DataFrame(adelaide_attrib[item])\n",
    "    adelaide_item['Location'] = 'Adelaide'\n",
    "    item_attrib = pd.concat([nyc_item, seattle_item, edmonton_item, adelaide_item])\n",
    "    item_attrib.dropna(inplace=True)\n",
    "    item_attrib.reset_index(inplace=True)\n",
    "\n",
    "    m = MultiComparison(item_attrib[item], item_attrib['Location'])\n",
    "    tukey = m.tukeyhsd()\n",
    "    print(tukey.summary())"
   ]
  },
  {
   "cell_type": "markdown",
   "metadata": {},
   "source": [
    "# DOUBLE CHECK \n",
    "## Selected findings from Tukey tests\n",
    "\n",
    "* Edmonton dogs and Seattle dogs are more trainable than New York dogs.\n",
    "\n",
    "\n",
    "* Seattle dogs are more obedient than New York dogs. Seattle dogs are more obedient than Adelaide dogs.\n",
    "* Adelaide dogs are less bold than Edmonton, New York, and Seattle dogs.\n",
    "* Adelaide dogs are less calm than Edmonton, New York, and Seattle dogs.\n",
    "* Adelaide dogs are less sociable than Edmonton, New York, and Seattle dogs."
   ]
  },
  {
   "cell_type": "markdown",
   "metadata": {},
   "source": [
    "# Summary by World Cities"
   ]
  },
  {
   "cell_type": "code",
   "execution_count": null,
   "metadata": {
    "scrolled": false
   },
   "outputs": [],
   "source": [
    "# Show data on NYC, Seattle, Adelaide, and Edmonton\n",
    "describe(nyc_attrib, 'NYC')\n",
    "describe(seattle_attrib, 'Seattle')\n",
    "describe(adelaide_attrib, 'Adelaide')\n",
    "describe(edmonton_attrib, 'Edmonton')\n",
    "print('-'*30)    \n",
    "\n",
    "adelaide_mean = adelaide_attrib[lst].mean()\n",
    "edmonton_mean = edmonton_attrib[lst].mean()\n",
    "nyc_mean = nyc_attrib[lst].mean()\n",
    "seattle_mean = seattle_attrib[lst].mean()\n",
    "\n",
    "combined = pd.concat([nyc_mean,seattle_mean,edmonton_mean,adelaide_mean], axis=1)\n",
    "combined.rename(columns={0:'New York', 1:'Seattle', 2:'Edmonton', 3:'Adelaide'}, inplace=True)\n",
    "combined = combined.T\n",
    "print(combined)\n",
    "\n",
    "norm=True\n",
    "\n",
    "print('\\n'+'New York')\n",
    "print(nyc_attrib.index.value_counts(normalize=norm).head(6))\n",
    "print('\\n'+'Seattle')\n",
    "print(seattle_attrib.index.value_counts(normalize=norm).head(6))\n",
    "print('\\n'+'Edmonton')\n",
    "print(edmonton_attrib.index.value_counts(normalize=norm).head(6))\n",
    "print('\\n'+'Adelaide')\n",
    "print(adelaide_attrib.index.value_counts(normalize=norm).head(6))\n",
    "\n",
    "\n",
    "plot_by_attrib(combined, lst, 'City')\n",
    "\n",
    "for item in lst:\n",
    "    plt.title(item+' Attribute by City')\n",
    "    plt.bar(['New York','Seattle','Adelaide','Edmonton'], \\\n",
    "            [nyc_mean[item],seattle_mean[item], adelaide_mean[item], edmonton_mean[item]])\n",
    "    plt.show()\n"
   ]
  },
  {
   "cell_type": "code",
   "execution_count": null,
   "metadata": {},
   "outputs": [],
   "source": [
    "x = np.arange(len(nyc_mean.index))  # the label locations\n",
    "width = 0.35  # the width of the bars\n",
    "\n",
    "fig, ax = plt.subplots()\n",
    "fig.set_size_inches(10, 8)\n",
    "rects1 = ax.bar(x - width/2, nyc_mean, width, label='New York')\n",
    "rects1 = ax.bar(x + width/2, seattle_mean, width, label='Seattle')\n",
    "\n",
    "# Add some text for labels, title and custom x-axis tick labels, etc.\n",
    "ax.set_ylabel('Scores')\n",
    "ax.set_title('Scores for New York and Seattle')\n",
    "ax.set_xticks(x)\n",
    "ax.set_xticklabels(nyc_mean.index)\n",
    "ax.legend(loc='lower left', bbox_to_anchor= (1.05, .85), ncol=1, \n",
    "            borderaxespad=0, frameon=False)\n",
    "\n",
    "plt.show()"
   ]
  },
  {
   "cell_type": "markdown",
   "metadata": {},
   "source": [
    "## Ancestral origin: looking at the UK and Ireland"
   ]
  },
  {
   "cell_type": "code",
   "execution_count": null,
   "metadata": {},
   "outputs": [],
   "source": [
    "ancestral = wiki[['Breed', 'Origin']]\n",
    "ancestral_uk_ire = ancestral.copy()\n",
    "ancestral_uk_ire.dropna(inplace=True)\n",
    "ancestral_uk_ire = ancestral_uk_ire[ancestral_uk_ire['Origin'].isin(['England', 'Scotland', 'Wales', 'Ireland'])]\n",
    "ancestral_uk_ire = ancestral_uk_ire.set_index('Breed').join(attrib, how='inner')\n",
    "ancestral_uk_ire_grp = ancestral_uk_ire.groupby('Origin')\n",
    "ancestral_uk_ire_mean = ancestral_uk_ire_grp.mean()\n",
    "print('\\nUK and Ireland Mean')\n",
    "print(ancestral_uk_ire_grp.mean().round(decimals=2))\n",
    "print('\\nUK and Ireland Standard Deviation')\n",
    "print(ancestral_uk_ire_grp.std().round(decimals=2))\n",
    "print('\\nUK and Ireland Count')\n",
    "\n",
    "print(ancestral_uk_ire_grp.count())\n",
    "\n",
    "# Plot the UK and Ireland data\n",
    "# Remove Wales since it only has one dog for some of the data\n",
    "ancestral_uk_ire_mean.drop('Wales', inplace=True)\n",
    "plot_by_attrib(ancestral_uk_ire_mean, lst, 'UK and Irish Ancestry')\n",
    "\n",
    "# Combining Scotland, Wales, and England as United Kingdom\n",
    "ancestral['Origin'] = ancestral['Origin'].map(lambda x: 'United Kingdom' if x in {'England', 'Wales', 'Scotland'} else x)\n",
    "ancestral_attrib = ancestral.set_index('Breed').join(attrib, how='inner')\n",
    "\n",
    "print('UK breeds:')\n",
    "wiki.fillna('', inplace=True)\n",
    "print(wiki[wiki['Origin'].str.contains(\"United Kingdom\")]['Breed'])\n",
    "\n",
    "print('\\nIreland breeds:')\n",
    "print(wiki[wiki['Origin'].str.contains(\"Ireland\")]['Breed'])"
   ]
  },
  {
   "cell_type": "markdown",
   "metadata": {},
   "source": [
    "## Hypothesis testing"
   ]
  },
  {
   "cell_type": "code",
   "execution_count": null,
   "metadata": {},
   "outputs": [],
   "source": [
    "ancestral_attrib.dropna(inplace=True)\n",
    "ancestral_attrib2 = splitDataFrameList(ancestral_attrib,'Origin', '/')\n",
    "ancestral_attrib2['Origin'] = ancestral_attrib2['Origin'].map(lambda x: 'China' if x == 'Tibet (China)' else x)\n",
    "\n",
    "\n",
    "print('Alternative Hypothesis: Dogs with ancestry from the UK are bolder than other dogs.')\n",
    "ancestral_uk = ancestral_attrib2[ancestral_attrib2['Origin'] == 'United Kingdom']\n",
    "ancestral_not_uk = ancestral_attrib2[~(ancestral_attrib2['Origin'] == 'United Kingdom')]\n",
    "ancestral_uk_bold = ancestral_uk['Bold']\n",
    "print('Ancestral UK Bold Mean:')\n",
    "print(ancestral_uk_bold.mean())\n",
    "ancestral_uk_bold.dropna(inplace=True)\n",
    "ancestral_not_uk_bold = ancestral_not_uk['Bold']\n",
    "ancestral_not_uk_bold.dropna(inplace=True)\n",
    "print('Ancestral Non-UK Bold Mean:')\n",
    "print(ancestral_not_uk_bold.mean())\n",
    "print(stats.ttest_ind(ancestral_uk_bold, ancestral_not_uk_bold, equal_var = False))"
   ]
  },
  {
   "cell_type": "markdown",
   "metadata": {},
   "source": [
    "The p-value of 0.003 is less than 0.05, so we reject the null hypothesis. UK dogs are bolder than other dogs."
   ]
  },
  {
   "cell_type": "code",
   "execution_count": null,
   "metadata": {},
   "outputs": [],
   "source": [
    "print('Null Hypothesis: The average obedience of UK dogs is the same as non-UK dogs.')\n",
    "print('Alternative Hypothesis: The average obedience of UK dogs is different from non-UK dogs.')\n",
    "ancestral_uk_obedient = ancestral_uk['Obedient']\n",
    "ancestral_not_uk_obedient = ancestral_not_uk['Obedient']\n",
    "print(stats.ttest_ind(ancestral_uk_obedient, ancestral_not_uk_obedient, equal_var = False))"
   ]
  },
  {
   "cell_type": "markdown",
   "metadata": {},
   "source": [
    "The p-value of 0.822 is greater than 0.05, so we fail to reject the null hypothesis. UK dogs are of average obedience."
   ]
  },
  {
   "cell_type": "markdown",
   "metadata": {},
   "source": [
    "## German dogs"
   ]
  },
  {
   "cell_type": "code",
   "execution_count": null,
   "metadata": {},
   "outputs": [],
   "source": [
    "print('German breeds:')\n",
    "print(wiki[wiki['Origin'].str.contains(\"Germany\")]['Breed'])\n",
    "\n",
    "print('\\nAlternative Hypothesis: Dogs with German ancestry are more obedient than other dogs.')\n",
    "ancestral_ger = ancestral_attrib2[ancestral_attrib2['Origin'] == 'Germany']\n",
    "ancestral_not_ger = ancestral_attrib2[~(ancestral_attrib2['Origin'] == 'Germany')]\n",
    "ancestral_ger_obedient = ancestral_ger['Obedient']\n",
    "print('Ancestral Germany Obedient Mean:')\n",
    "print(ancestral_ger_obedient.mean())\n",
    "ancestral_ger_obedient.dropna(inplace=True)\n",
    "ancestral_not_ger_obedient = ancestral_not_ger['Obedient']\n",
    "ancestral_not_ger_obedient.dropna(inplace=True)\n",
    "print('Ancestral Non-Germany Obedient Mean:')\n",
    "print(ancestral_not_ger_obedient.mean())\n",
    "print(stats.ttest_ind(ancestral_ger_obedient, ancestral_not_ger_obedient, equal_var = False))"
   ]
  },
  {
   "cell_type": "markdown",
   "metadata": {},
   "source": [
    "The p-value of 0.009 is less than 0.05, so we reject the null hypothesis. German dogs are more obedient than other dogs."
   ]
  },
  {
   "cell_type": "code",
   "execution_count": null,
   "metadata": {},
   "outputs": [],
   "source": [
    "print('Alternative Hypothesis: Dogs with German ancestry are less calm than other dogs.')\n",
    "ancestral_ger_calm = ancestral_ger['Calm']\n",
    "print('Ancestral Germany Calm Mean:')\n",
    "print(ancestral_ger_calm.mean())\n",
    "ancestral_ger_calm.dropna(inplace=True)\n",
    "ancestral_not_ger_calm = ancestral_not_ger['Calm']\n",
    "ancestral_not_ger_calm.dropna(inplace=True)\n",
    "print('Ancestral Non-Germany Calm Mean:')\n",
    "print(ancestral_not_ger_calm.mean())\n",
    "print(stats.ttest_ind(ancestral_ger_calm, ancestral_not_ger_calm, equal_var = False))"
   ]
  },
  {
   "cell_type": "markdown",
   "metadata": {},
   "source": [
    "The p-value of 0.0001 is less than 0.05, so we reject the null hypothesis. German dogs are less calm than other dogs."
   ]
  },
  {
   "cell_type": "code",
   "execution_count": null,
   "metadata": {},
   "outputs": [],
   "source": []
  }
 ],
 "metadata": {
  "kernelspec": {
   "display_name": "Python 3",
   "language": "python",
   "name": "python3"
  },
  "language_info": {
   "codemirror_mode": {
    "name": "ipython",
    "version": 3
   },
   "file_extension": ".py",
   "mimetype": "text/x-python",
   "name": "python",
   "nbconvert_exporter": "python",
   "pygments_lexer": "ipython3",
   "version": "3.7.2"
  }
 },
 "nbformat": 4,
 "nbformat_minor": 2
}
