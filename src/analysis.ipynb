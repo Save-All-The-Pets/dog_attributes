{
 "cells": [
  {
   "cell_type": "code",
   "execution_count": 1,
   "metadata": {},
   "outputs": [],
   "source": [
    "from pprint import pprint\n",
    "import pandas as pd\n",
    "import numpy as np\n",
    "from scipy import stats\n",
    "import matplotlib.pyplot as plt\n",
    "from mpl_toolkits.mplot3d import Axes3D\n",
    "import itertools\n",
    "from statsmodels.stats.multicomp import pairwise_tukeyhsd\n",
    "from statsmodels.stats.multicomp import MultiComparison\n",
    "\n",
    "# pd.options.display.max_rows = 999\n",
    "\n",
    "# Import the data\n",
    "nyc_registry = pd.read_csv('../dogdata/NYC_Dog_Licensing_Dataset_2016-edit.csv')\n",
    "coren = pd.read_csv('../dogdata/coren-edit.csv')\n",
    "nyc_census = pd.read_csv('../censusdata/ACS_16_1YR_S0201_with_ann-edit.csv') # use 2016 data\n",
    "edmonton_registry = pd.read_csv('../dogdata/Edmonton_Pet_Licenses_by_Neighbourhood_2018-edit.csv')\n",
    "adelaide_registry = pd.read_csv('../dogdata/Dog_Registrations_Adelaide_2016-edit.csv')\n",
    "wiki = pd.read_csv('../dogdata/wiki-edit.csv')\n",
    "turcsan = pd.read_csv('../dogdata/turcsan.csv')\n",
    "\n",
    "# List of attributes\n",
    "lst = ['Bold', 'Calm', 'Obedient','Sociable', 'Trainable']\n",
    "borough = ['Bronx','Brooklyn','Manhattan','Queens','Staten Island']\n",
    "# Pare down the Coren data\n",
    "coren = coren[['Breed', 'Obedient']]\n",
    "# Combine the Coren and Turcsan datasets\n",
    "attrib = coren.set_index('Breed').join(turcsan.set_index('Breed'), how='outer')\n",
    "\n",
    "\n",
    "def describe(df, categ, filename=None, display=True):\n",
    "    \"\"\"Show the mean and standard deviation of the data and optionally plot. Optionally save a file of the plot.\n",
    "    \n",
    "    Arguments:\n",
    "        df {DataFrame} -- DataFrame to describe\n",
    "        categ {str} -- Display category\n",
    "    \n",
    "    Keyword Arguments:\n",
    "        filename {str} -- Name of file to save to (default: {None})\n",
    "        display {bool} -- Whether or not to display a plot (default: {True})\n",
    "    \"\"\"\n",
    "    print('\\n'+categ+' Mean')\n",
    "    attrib_mean = df[lst].mean()\n",
    "    print(attrib_mean.round(decimals=2))\n",
    "    print('\\n'+categ+' Standard Deviation')\n",
    "    print(attrib[lst].std().round(decimals=2))\n",
    "\n",
    "    plt.title(categ+' Overall Attributes')\n",
    "    plt.bar(attrib_mean.index, attrib_mean.values)\n",
    "    plt.ylim([0,0.65])\n",
    "    if filename is not None:\n",
    "        plt.savefig('../plots/'+filename)\n",
    "    if display:\n",
    "        plt.show()\n",
    "\n",
    "def describe_breeds(save=False):\n",
    "    '''Show the intersection of different breeds of dogs according to which dataset they come from. For example, Dogue de Bordeaux is in the Turcsan set but not in the Wiki scraped set.\n",
    "\n",
    "    Returns:\n",
    "        None\n",
    "    '''\n",
    "    wiki_breeds = set(wiki['Breed'].tolist())\n",
    "    coren_breeds = set(coren['Breed'].tolist())\n",
    "    turcsan_breeds = set(turcsan['Breed'].tolist())\n",
    "\n",
    "    print('\\nIntersection, Wiki and Turcsan')\n",
    "    print(wiki_breeds & turcsan_breeds)\n",
    "    print('\\nIntersection, Wiki and Coren')\n",
    "    print(wiki_breeds & coren_breeds)\n",
    "    print('\\nDifference, Wiki - Turcsan')\n",
    "    print(wiki_breeds - turcsan_breeds)\n",
    "    print('\\nDifference, Turcsan - Wiki')\n",
    "    print(turcsan_breeds - wiki_breeds)\n",
    "    print('\\nDifference, Wiki - Coren')\n",
    "    print(wiki_breeds - coren_breeds)\n",
    "    print('\\nDifference, Coren - Wiki')\n",
    "    print(coren_breeds - wiki_breeds)\n",
    "\n",
    "def plot_by_attrib(df, categ,label, filename=None, display=True):\n",
    "    \"\"\"Plot a graph by the attributes provided.\n",
    "    \n",
    "    Arguments:\n",
    "        df {DataFrame} -- DF to plot\n",
    "        categ {list} -- Categories to plot\n",
    "        label {str} -- Label for what the data is describing\n",
    "    \n",
    "    Keyword Arguments:\n",
    "        filename {str} -- Name of the file to optionally save (default: {None})\n",
    "        display {bool} -- Whether or not to display the plot (default: {True})\n",
    "    \"\"\"\n",
    "    fig, ax = plt.subplots()\n",
    "    plt.setp(ax.xaxis.get_majorticklabels(), rotation=45, ha='right', rotation_mode='anchor')\n",
    "    for item in categ:\n",
    "        ax.plot(df.index, df[item])\n",
    "\n",
    "    plt.gcf().subplots_adjust(bottom=0.3, right=.75)\n",
    "    plt.legend(loc=(1.04,0.6))\n",
    "    plt.title('Scores by '+ label)\n",
    "    ax.set_ylabel('Score')\n",
    "    ax.set_xlabel(label)\n",
    "    if filename is not None:\n",
    "        plt.savefig('../plots/'+filename)\n",
    "    if display:\n",
    "        plt.show()\n",
    "\n",
    "\n",
    "def splitDataFrameList(df,target_column,separator):\n",
    "    \"\"\"Thanks to James Allen, https://gist.github.com/jlln/338b4b0b55bd6984f883\n",
    "    \n",
    "    Arguments:\n",
    "        df {DataFrame} -- DataFrame to split,\n",
    "        target_column {string} -- The column containing the values to split\n",
    "        separator {str} -- The symbol used to perform the split\n",
    "    \n",
    "    Returns:\n",
    "        DataFrame -- A dataframe with each entry for the target column separated, with each element moved into a new row. \n",
    "    The values in the other columns are duplicated across the newly divided rows.\n",
    "    \"\"\"\n",
    "    def splitListToRows(row,row_accumulator,target_column,separator):\n",
    "        split_row = row[target_column].split(separator)\n",
    "        for s in split_row:\n",
    "            new_row = row.to_dict()\n",
    "            new_row[target_column] = s\n",
    "            row_accumulator.append(new_row)\n",
    "    new_rows = []\n",
    "    df.apply(splitListToRows,axis=1,args = (new_rows,target_column,separator))\n",
    "    new_df = pd.DataFrame(new_rows)\n",
    "    return new_df"
   ]
  },
  {
   "cell_type": "code",
   "execution_count": 2,
   "metadata": {},
   "outputs": [
    {
     "name": "stdout",
     "output_type": "stream",
     "text": [
      "\n",
      "Intersection, Wiki and Turcsan\n",
      "{'Bull Terrier', 'Miniature Poodle', 'Beauceron', 'Vizsla', 'Poodle', 'Whippet', 'Pointer', 'Ibizan Hound', 'Welsh Terrier', 'Doberman Pinscher', 'Belgian Malinois', 'Dachshund', 'Weimaraner', 'Airedale Terrier', 'Old English Sheepdog', 'Irish Terrier', 'Boxer', 'German Shorthaired Pointer', 'Bernese Mountain Dog', 'Irish Setter', 'Standard Schnauzer', 'Great Dane', 'Irish Wolfhound', 'Jack Russell Terrier', 'Australian Shepherd', 'Brittany', 'Flat-Coated Retriever', 'Polish Lowland Sheepdog', 'Staffordshire Bull Terrier', 'Tibetan Terrier', 'English Setter', 'Coton de Tulear', 'Pekingese', 'Siberian Husky', 'Shar Pei', 'Beagle', 'American Staffordshire Terrier', 'Shiba Inu', 'Cairn Terrier', 'Saint Bernard', 'Pug', 'Labrador Retriever', 'Bearded Collie', 'Rottweiler', 'Alaskan Malamute', 'Rhodesian Ridgeback', 'Shetland Sheepdog', 'Dalmatian', 'French Bulldog', 'German Wirehaired Pointer', 'Golden Retriever', 'German Shepherd', 'Bulldog', 'Briard', 'Cavalier King Charles Spaniel', 'Chihuahua', 'Yorkshire Terrier', 'Maltese', 'Lhasa Apso', 'Border Terrier', 'Gordon Setter', 'Shih Tzu', 'Giant Schnauzer', 'Greater Swiss Mountain Dog', 'Border Collie', 'Soft-Coated Wheaten Terrier'}\n",
      "\n",
      "Intersection, Wiki and Coren\n",
      "{'Bull Terrier', 'Bouvier des Flandres', 'Pharaoh Hound', 'Ibizan Hound', 'Cardigan Welsh Corgi', 'Belgian Malinois', 'Keeshond', 'Chinese Crested', 'Puli', 'Scottish Deerhound', 'Australian Cattle Dog', 'Borzoi', 'Shar Pei', 'Dandie Dinmont Terrier', 'Black and Tan Coonhound', 'Manchester Terrier', 'American Water Spaniel', 'Shiba Inu', 'Saint Bernard', 'Pug', 'Labrador Retriever', 'Basenji', 'Alaskan Malamute', 'Scottish Terrier', 'West Highland White Terrier', 'Affenpinscher', 'Briard', 'Lakeland Terrier', 'Gordon Setter', 'Japanese Chin', 'Poodle', 'Welsh Terrier', 'English Springer Spaniel', 'Afghan Hound', 'Boston Terrier', 'Dachshund', 'Weimaraner', 'Kuvasz', 'Old English Sheepdog', 'Irish Terrier', 'Boxer', 'Irish Setter', 'Chow Chow', 'Staffordshire Bull Terrier', 'Tibetan Spaniel', 'American Foxhound', 'Pekingese', 'Norwegian Elkhound', 'Great Pyrenees', 'Belgian Sheepdog', 'Greyhound', 'Petit Basset Griffon Vendeen', 'Bichon Frise', 'Rottweiler', 'Curly Coated Retriever', 'Golden Retriever', 'Akita', 'Cavalier King Charles Spaniel', 'Chihuahua', 'Soft-Coated Wheaten Terrier', 'Irish Water Spaniel', 'Bedlington Terrier', 'Kerry Blue Terrier', 'Cocker Spaniel', 'Whippet', 'Pointer', 'Doberman Pinscher', 'Clumber Spaniel', 'Saluki', 'Finnish Spitz', 'Italian Greyhound', 'German Shorthaired Pointer', 'Bernese Mountain Dog', 'Wirehaired Pointing Griffon', 'Great Dane', 'Irish Wolfhound', 'Jack Russell Terrier', 'Brittany', 'Australian Shepherd', 'Flat-Coated Retriever', 'English Setter', 'Australian Terrier', 'Beagle', 'Newfoundland', 'Rhodesian Ridgeback', 'Chesapeake Bay Retriever', 'Shetland Sheepdog', 'English Foxhound', 'German Shepherd', 'Bullmastiff', 'Field Spaniel', 'Yorkshire Terrier', 'Maltese', 'Giant Schnauzer', 'Welsh Springer Spaniel', 'Vizsla', 'Portuguese Water Dog', 'Pomeranian', 'Schipperke', 'Airedale Terrier', 'Standard Schnauzer', 'Basset Hound', 'Tibetan Terrier', 'Otter Hound', 'American Staffordshire Terrier', 'Cairn Terrier', 'Brussels Griffon', 'Bearded Collie', 'Sealyham Terrier', 'Dalmatian', 'French Bulldog', 'Bloodhound', 'German Wirehaired Pointer', 'Fox Terrier', 'Bulldog', 'Lhasa Apso', 'Border Terrier', 'Skye Terrier', 'Shih Tzu', 'Border Collie', 'Siberian Husky'}\n",
      "\n",
      "Difference, Wiki - Turcsan\n",
      "{'Bouvier des Flandres', 'Pharaoh Hound', 'Cardigan Welsh Corgi', 'Keeshond', 'American Eskimo', 'Chinese Crested', 'Puli', 'Scottish Deerhound', 'Australian Cattle Dog', 'Borzoi', 'Dandie Dinmont Terrier', 'Black and Tan Coonhound', 'American Water Spaniel', 'Manchester Terrier', 'Basenji', 'Scottish Terrier', 'West Highland White Terrier', 'Affenpinscher', 'Lakeland Terrier', 'Japanese Chin', 'German Pinscher', 'English Springer Spaniel', 'Afghan Hound', 'Boston Terrier', 'Spinone Italiano', 'Kuvasz', 'Chow Chow', 'Tibetan Mastiff', 'American Foxhound', 'Tibetan Spaniel', 'Toy Fox Terrier', 'Norwegian Elkhound', 'Great Pyrenees', 'Belgian Sheepdog', 'Greyhound', 'Petit Basset Griffon Vendeen', 'Bichon Frise', 'Curly Coated Retriever', 'Akita', 'Irish Water Spaniel', 'Bedlington Terrier', 'Kerry Blue Terrier', 'Cocker Spaniel', 'Clumber Spaniel', 'Saluki', 'Finnish Spitz', 'Italian Greyhound', 'Wirehaired Pointing Griffon', 'Silky Terrier', 'Australian Terrier', 'Sussex Spaniel', 'Black Russian Terrier', 'Newfoundland', 'Chesapeake Bay Retriever', 'Plott Hound', 'English Toy Spaniel', 'English Foxhound', 'Fox Terrier Smooth', 'Bullmastiff', 'Field Spaniel', 'Redbone Coonhound', 'Nova Scotia Duck Tolling Retriever', 'Welsh Springer Spaniel', 'Portuguese Water Dog', 'Pomeranian', 'Schipperke', 'Canaan Dog', 'Komondor', 'Basset Hound', 'Otter Hound', 'Brussels Griffon', 'Sealyham Terrier', 'Bloodhound', 'Fox Terrier', 'Skye Terrier', 'Toy Poodle', 'Belgian Tervuren'}\n",
      "\n",
      "Difference, Turcsan - Wiki\n",
      "{'American Cocker Spaniel', 'Parson Russell Terrier', 'Anatolian Shepherd Dog', 'Eurasier', 'English Cocker Spaniel', 'Kromfohrlander', 'Wolfspitz', 'Dogue de Bordeaux', 'Leonberger', 'Hovawart', 'Miniature Schnauzer', 'West Highland Wheaten Terrier', 'Appenzeller Sennenhund', 'Collie', 'Small Munsterlander', 'German Hunting Terrier', 'Miniature Pinscher', 'Havanese', 'Perro de Presa Canario', 'Miniature Dachshund', 'Pyrenean Shepherd', 'Bavarian Mountain Hound', 'Wirehaired Dachshund', 'German Spitz', 'Entlebucher Mountain Dog', 'White Swiss Shepherd'}\n",
      "\n",
      "Difference, Wiki - Coren\n",
      "{'Miniature Poodle', 'Beauceron', 'Belgian Tervuren', 'German Pinscher', 'Spinone Italiano', 'American Eskimo', 'Canaan Dog', 'Komondor', 'Tibetan Mastiff', 'Polish Lowland Sheepdog', 'Coton de Tulear', 'Toy Fox Terrier', 'Sussex Spaniel', 'Black Russian Terrier', 'English Toy Spaniel', 'Plott Hound', 'Fox Terrier Smooth', 'Redbone Coonhound', 'Nova Scotia Duck Tolling Retriever', 'Greater Swiss Mountain Dog', 'Toy Poodle', 'Silky Terrier'}\n",
      "\n",
      "Difference, Coren - Wiki\n",
      "{'Wire Fox Terrier', 'Samoyed', 'Miniature Schnauzer', 'Norfolk Terrier', 'Pembroke Welsh Corgi', 'Collie', 'Miniature Pinscher', 'Mastiff', 'Havanese', 'English Cocker Spaniel', 'King Charles Spaniel', 'Papillon', 'Belgian Shepherd', 'Australian Silky Terrier', 'Norwich Terrier'}\n"
     ]
    }
   ],
   "source": [
    "# Show which dogs are in each dataset.\n",
    "describe_breeds()"
   ]
  },
  {
   "cell_type": "code",
   "execution_count": 3,
   "metadata": {},
   "outputs": [
    {
     "name": "stdout",
     "output_type": "stream",
     "text": [
      "\n",
      "AKC Mean\n",
      "              Obedient  Calm  Trainable  Sociable  Bold\n",
      "AKC                                                    \n",
      "Herding           0.77  0.30       0.85      0.45  0.30\n",
      "Hound             0.40  0.50       0.67      0.58  0.33\n",
      "Non-Sporting      0.51  0.44       0.67      0.44  0.22\n",
      "Sporting          0.73  0.67       0.62      0.67  0.62\n",
      "Terrier           0.51  0.30       0.75      0.30  0.35\n",
      "Toy               0.40  0.62       0.25      0.56  0.69\n",
      "Working           0.60  0.45       0.73      0.41  0.36\n",
      "\n",
      "AKC Standard Deviation\n",
      "              Obedient  Calm  Trainable  Sociable  Bold\n",
      "AKC                                                    \n",
      "Herding           0.20  0.48       0.24      0.44  0.48\n",
      "Hound             0.21  0.55       0.41      0.38  0.52\n",
      "Non-Sporting      0.26  0.53       0.43      0.39  0.44\n",
      "Sporting          0.15  0.49       0.38      0.44  0.48\n",
      "Terrier           0.17  0.48       0.35      0.48  0.47\n",
      "Toy               0.23  0.52       0.27      0.50  0.37\n",
      "Working           0.22  0.52       0.34      0.49  0.50\n",
      "\n",
      "AKC Count\n",
      "              Obedient  Calm  Trainable  Sociable  Bold\n",
      "AKC                                                    \n",
      "Herding             13    10         10        10    10\n",
      "Hound               21     6          6         6     6\n",
      "Non-Sporting        14     9          9         9     9\n",
      "Sporting            22    12         12        12    12\n",
      "Terrier             20    10         10        10    10\n",
      "Toy                 15     8          8         8     8\n",
      "Working             16    11         11        11    11\n"
     ]
    },
    {
     "data": {
      "image/png": "[encoded data removed]",
      "text/plain": [
       "<Figure size 432x288 with 1 Axes>"
      ]
     },
     "metadata": {
      "needs_background": "light"
     },
     "output_type": "display_data"
    }
   ],
   "source": [
    "# Canine attributes by AKC groupings\n",
    "wiki_akc = wiki[['Breed', 'AKC']]\n",
    "akc_groups_attrib = wiki_akc.set_index('Breed').join(attrib, how='left')\n",
    "print('\\nAKC Mean')\n",
    "akc = akc_groups_attrib.groupby('AKC').mean().round(decimals=2)\n",
    "pprint(akc)\n",
    "print('\\nAKC Standard Deviation')\n",
    "akc_std = akc_groups_attrib.groupby('AKC').std().round(decimals=2)\n",
    "pprint(akc_std)\n",
    "print('\\nAKC Count')\n",
    "akc_count = akc_groups_attrib.groupby('AKC').count()\n",
    "pprint(akc_count)\n",
    "\n",
    "# Plot the AKC grouping data\n",
    "plot_by_attrib(akc, lst, 'AKC Grouping')"
   ]
  },
  {
   "cell_type": "code",
   "execution_count": 4,
   "metadata": {},
   "outputs": [
    {
     "name": "stdout",
     "output_type": "stream",
     "text": [
      "\n",
      "NYC Mean:\n",
      "               Calm  Trainable  Sociable  Bold  Obedient\n",
      "Borough                                                 \n",
      "Bronx          0.38       0.37      0.38  0.59      0.51\n",
      "Brooklyn       0.46       0.42      0.46  0.60      0.48\n",
      "Manhattan      0.49       0.47      0.51  0.62      0.52\n",
      "Queens         0.40       0.40      0.42  0.58      0.51\n",
      "Staten Island  0.57       0.44      0.57  0.68      0.54\n",
      "\n",
      "NYC Standard Deviation:\n",
      "               Calm  Trainable  Sociable  Bold  Obedient\n",
      "Borough                                                 \n",
      "Bronx          0.49       0.38      0.48  0.37      0.28\n",
      "Brooklyn       0.50       0.37      0.48  0.39      0.28\n",
      "Manhattan      0.50       0.36      0.49  0.41      0.27\n",
      "Queens         0.49       0.38      0.48  0.38      0.28\n",
      "Staten Island  0.50       0.33      0.48  0.39      0.31\n",
      "\n",
      "NYC Count:\n",
      "               Calm  Trainable  Sociable  Bold  Obedient\n",
      "Borough                                                 \n",
      "Bronx           312        312       312   312       348\n",
      "Brooklyn        672        672       672   672       828\n",
      "Manhattan      1009       1009      1009  1009      1219\n",
      "Queens          585        585       585   585       721\n",
      "Staten Island   306        306       306   306       354\n",
      "\n",
      "Top NYC Dogs Count\n",
      "Yorkshire Terrier     398\n",
      "Shih Tzu              340\n",
      "Chihuahua             309\n",
      "Maltese               236\n",
      "Labrador Retriever    217\n",
      "Name: BreedName, dtype: int64\n",
      "\n",
      "Top Dogs By Borough\n",
      "\n",
      "Bronx\n",
      "Yorkshire Terrier    68\n",
      "Shih Tzu             45\n",
      "Chihuahua            42\n",
      "Pit Bull             27\n",
      "Maltese              26\n",
      "Name: BreedName, dtype: int64\n",
      "\n",
      "Brooklyn\n",
      "Shih Tzu             99\n",
      "Yorkshire Terrier    91\n",
      "Chihuahua            73\n",
      "Pit Bull             62\n",
      "Maltese              57\n",
      "Name: BreedName, dtype: int64\n",
      "\n",
      "Manhattan\n",
      "Yorkshire Terrier     109\n",
      "Chihuahua             103\n",
      "Shih Tzu               84\n",
      "Labrador Retriever     84\n",
      "Maltese                65\n",
      "Name: BreedName, dtype: int64\n",
      "\n",
      "Queens\n",
      "Yorkshire Terrier    88\n",
      "Chihuahua            69\n",
      "Maltese              69\n",
      "Shih Tzu             65\n",
      "Pit Bull             41\n",
      "Name: BreedName, dtype: int64\n",
      "\n",
      "Staten Island\n",
      "Shih Tzu              47\n",
      "Labrador Retriever    43\n",
      "Yorkshire Terrier     42\n",
      "Chihuahua             22\n",
      "Maltese               19\n",
      "Name: BreedName, dtype: int64\n"
     ]
    }
   ],
   "source": [
    "# Strip out NYC dirty values\n",
    "nyc_registry['Borough'] = nyc_registry['Borough'].map(lambda x: None if x not in {'Brooklyn', 'Bronx', 'Staten Island', 'Manhattan', 'Queens'} else x)\n",
    "nyc_registry['BreedName'] = nyc_registry['BreedName'].map(lambda x: None if x == 'Unknown' else x)\n",
    "nyc_registry.dropna(inplace=True)\n",
    "\n",
    "# Display breed attributes by NYC borough\n",
    "display = False\n",
    "norm=False # Do not normalize\n",
    "nyc_attrib = nyc_registry.set_index('BreedName').join(attrib, how='left')\n",
    "nyc_attrib = nyc_attrib[['Borough','Calm', 'Trainable', 'Sociable', 'Bold', 'Obedient']]\n",
    "nyc_attrib_g = nyc_attrib.groupby('Borough')\n",
    "print('\\nNYC Mean:')\n",
    "nyc_attrib_g_mean = nyc_attrib_g.mean()\n",
    "pprint(nyc_attrib_g_mean.round(decimals=2))\n",
    "print('\\nNYC Standard Deviation:')\n",
    "pprint(nyc_attrib_g.std().round(decimals=2))\n",
    "print('\\nNYC Count:')\n",
    "pprint(nyc_attrib_g.count())\n",
    "if display:\n",
    "    plot_by_attrib(nyc_attrib_g_mean, lst, 'NYC Borough')\n",
    "\n",
    "nyc_breeds = nyc_registry[['Borough', 'BreedName']]\n",
    "print('\\nTop NYC Dogs Count')\n",
    "pprint(nyc_breeds['BreedName'].value_counts().nlargest(5))\n",
    "nyc_breeds_grp = nyc_breeds.groupby('Borough')\n",
    "print('\\nTop Dogs By Borough')\n",
    "for b in borough:\n",
    "    print('\\n'+b)\n",
    "    print(nyc_breeds_grp.get_group(b)['BreedName'].value_counts(normalize=norm).head(5))"
   ]
  },
  {
   "cell_type": "code",
   "execution_count": 5,
   "metadata": {},
   "outputs": [
    {
     "name": "stdout",
     "output_type": "stream",
     "text": [
      "\n",
      " ('Yorkshire Terrier', 'Shih Tzu')\n",
      "Test statistic: 7.48\n",
      "P-value: 0.11246266909805729\n",
      "\n",
      " ('Yorkshire Terrier', 'Chihuahua')\n",
      "Test statistic: 5.73\n",
      "P-value: 0.22045859628948278\n",
      "\n",
      " ('Yorkshire Terrier', 'Maltese')\n",
      "Test statistic: 7.79\n",
      "P-value: 0.09962354106879621\n",
      "\n",
      " ('Yorkshire Terrier', 'Labrador Retriever')\n",
      "Test statistic: 36.72\n",
      "P-value: 2.0576949641080475e-07\n",
      "\n",
      " ('Shih Tzu', 'Chihuahua')\n",
      "Test statistic: 13.69\n",
      "P-value: 0.008345675309120405\n",
      "\n",
      " ('Shih Tzu', 'Maltese')\n",
      "Test statistic: 12.44\n",
      "P-value: 0.014356090629419813\n",
      "\n",
      " ('Shih Tzu', 'Labrador Retriever')\n",
      "Test statistic: 25.54\n",
      "P-value: 3.911272554107337e-05\n",
      "\n",
      " ('Chihuahua', 'Maltese')\n",
      "Test statistic: 4.86\n",
      "P-value: 0.30219516255729534\n",
      "\n",
      " ('Chihuahua', 'Labrador Retriever')\n",
      "Test statistic: 32.99\n",
      "P-value: 1.2002297511683226e-06\n",
      "\n",
      " ('Maltese', 'Labrador Retriever')\n",
      "Test statistic: 33.91\n",
      "P-value: 7.780629645938062e-07\n"
     ]
    }
   ],
   "source": [
    "# Perform Chi-Square analysis on NYC data\n",
    "chi2_breed = ['Yorkshire Terrier', 'Shih Tzu','Chihuahua', 'Maltese', 'Labrador Retriever']\n",
    "chi2_breed_com = itertools.combinations(chi2_breed, 2)\n",
    "nyc_breeds_5 = nyc_registry[nyc_registry['BreedName'].isin(chi2_breed)] #top 5 breeds overall\n",
    "for i in chi2_breed_com:\n",
    "    print('\\n',i)\n",
    "    nyc_breeds_2 = nyc_registry[nyc_registry['BreedName'].isin(i)]\n",
    "    contingency_table = pd.crosstab(nyc_breeds_2['BreedName'], nyc_breeds_2['Borough'])\n",
    "    nyc_chi2 = stats.chi2_contingency(contingency_table)\n",
    "    print('Test statistic: {}'.format(nyc_chi2[0].round(2)))\n",
    "    print('P-value: {}'.format(nyc_chi2[1]))"
   ]
  },
  {
   "cell_type": "code",
   "execution_count": 6,
   "metadata": {},
   "outputs": [
    {
     "name": "stdout",
     "output_type": "stream",
     "text": [
      "Alternative Hypothesis: dogs from Staten Island are bolder than other dogs in New York.\n",
      "Ttest_indResult(statistic=3.435544629492364, pvalue=0.0006561220278463945)\n",
      "Alternative Hypothesis: dogs from Staten Island are calmer than other dogs in New York.\n",
      "Ttest_indResult(statistic=3.8462844628779225, pvalue=0.00014058887400346439)\n",
      "Alternative Hypothesis: dogs from New York are bolder than dogs in Adelaide and Edmonton.\n"
     ]
    },
    {
     "name": "stderr",
     "output_type": "stream",
     "text": [
      "/Users/sandbar/anaconda3/lib/python3.7/site-packages/ipykernel_launcher.py:5: SettingWithCopyWarning: \n",
      "A value is trying to be set on a copy of a slice from a DataFrame\n",
      "\n",
      "See the caveats in the documentation: http://pandas.pydata.org/pandas-docs/stable/indexing.html#indexing-view-versus-copy\n",
      "  \"\"\"\n",
      "/Users/sandbar/anaconda3/lib/python3.7/site-packages/ipykernel_launcher.py:8: SettingWithCopyWarning: \n",
      "A value is trying to be set on a copy of a slice from a DataFrame\n",
      "\n",
      "See the caveats in the documentation: http://pandas.pydata.org/pandas-docs/stable/indexing.html#indexing-view-versus-copy\n",
      "  \n",
      "/Users/sandbar/anaconda3/lib/python3.7/site-packages/ipykernel_launcher.py:22: FutureWarning: Sorting because non-concatenation axis is not aligned. A future version\n",
      "of pandas will change to not sort by default.\n",
      "\n",
      "To accept the future behavior, pass 'sort=False'.\n",
      "\n",
      "To retain the current behavior and silence the warning, pass 'sort=True'.\n",
      "\n"
     ]
    },
    {
     "name": "stdout",
     "output_type": "stream",
     "text": [
      "Ttest_indResult(statistic=6.039372226991816, pvalue=1.7169589349976154e-09)\n",
      "Alternative Hypothesis: dogs from Edmonton are more obedient than dogs\n",
      " in Adelaide and New York.\n",
      "0.95    18352\n",
      "0.50    14161\n",
      "0.30     9479\n",
      "0.10     8138\n",
      "0.70     4515\n",
      "0.85     4317\n",
      "Name: Obedient, dtype: int64\n",
      "Ttest_indResult(statistic=-16.577408935991556, pvalue=9.746066231426407e-60)\n"
     ]
    }
   ],
   "source": [
    "# Perform t-tests on NYC data\n",
    "print('Alternative Hypothesis: dogs from Staten Island are bolder than other dogs in New York.')\n",
    "\n",
    "non_staten = nyc_attrib[nyc_attrib['Borough'].isin(['Manhattan', 'Queens', 'Bronx', 'Brooklyn'])]\n",
    "non_staten.dropna(inplace=True)\n",
    "non_staten_bold = non_staten['Bold']\n",
    "staten = nyc_attrib[nyc_attrib['Borough'] == 'Staten Island']\n",
    "staten.dropna(inplace=True)\n",
    "staten_bold = staten['Bold']\n",
    "print(stats.ttest_ind(staten_bold, non_staten_bold, equal_var = False))\n",
    "\n",
    "print('Alternative Hypothesis: dogs from Staten Island are calmer than other dogs in New York.')\n",
    "non_staten_calm = non_staten['Calm']\n",
    "staten_calm = staten['Calm']\n",
    "print(stats.ttest_ind(staten_calm, non_staten_calm, equal_var = False))\n",
    "\n",
    "print('Alternative Hypothesis: dogs from New York are bolder than dogs in Adelaide and Edmonton.')\n",
    "adelaide_attrib = adelaide_registry.set_index('AnimalBreed').join(attrib, how='left')\n",
    "edmonton_attrib = edmonton_registry.set_index('BREED').join(attrib, how='left')\n",
    "nyc_bold = nyc_attrib['Bold']\n",
    "nyc_bold.dropna(inplace=True)\n",
    "ad_ed_attrib = pd.concat([adelaide_attrib, edmonton_attrib])\n",
    "ad_ed_bold = ad_ed_attrib['Bold']\n",
    "ad_ed_bold.dropna(inplace=True)\n",
    "print(stats.ttest_ind(nyc_bold, ad_ed_bold, equal_var = False))\n",
    "\n",
    "print('Alternative Hypothesis: dogs from Edmonton are more obedient than dogs\\n \\\n",
    "in Adelaide and New York.')\n",
    "nyc_obedient = nyc_attrib['Obedient']\n",
    "nyc_obedient.dropna(inplace=True)\n",
    "ad_ed_obedient = ad_ed_attrib['Obedient']\n",
    "ad_ed_obedient.dropna(inplace=True)\n",
    "print(ad_ed_obedient.value_counts())\n",
    "print(stats.ttest_ind(nyc_obedient, ad_ed_obedient, equal_var = False))"
   ]
  },
  {
   "cell_type": "code",
   "execution_count": 7,
   "metadata": {},
   "outputs": [
    {
     "name": "stdout",
     "output_type": "stream",
     "text": [
      "\n",
      "NYC Mean\n",
      "Bold         0.61\n",
      "Calm         0.46\n",
      "Obedient     0.51\n",
      "Sociable     0.47\n",
      "Trainable    0.43\n",
      "dtype: float64\n",
      "\n",
      "NYC Standard Deviation\n",
      "Bold         0.46\n",
      "Calm         0.50\n",
      "Obedient     0.24\n",
      "Sociable     0.43\n",
      "Trainable    0.38\n",
      "dtype: float64\n"
     ]
    },
    {
     "data": {
      "image/png": "[encoded data removed]",
      "text/plain": [
       "<Figure size 432x288 with 1 Axes>"
      ]
     },
     "metadata": {
      "needs_background": "light"
     },
     "output_type": "display_data"
    },
    {
     "name": "stdout",
     "output_type": "stream",
     "text": [
      "\n",
      "Adelaide Mean\n",
      "Bold         0.47\n",
      "Calm         0.35\n",
      "Obedient     0.52\n",
      "Sociable     0.35\n",
      "Trainable    0.52\n",
      "dtype: float64\n",
      "\n",
      "Adelaide Standard Deviation\n",
      "Bold         0.46\n",
      "Calm         0.50\n",
      "Obedient     0.24\n",
      "Sociable     0.43\n",
      "Trainable    0.38\n",
      "dtype: float64\n"
     ]
    },
    {
     "data": {
      "image/png": "[encoded data removed]",
      "text/plain": [
       "<Figure size 432x288 with 1 Axes>"
      ]
     },
     "metadata": {
      "needs_background": "light"
     },
     "output_type": "display_data"
    },
    {
     "name": "stdout",
     "output_type": "stream",
     "text": [
      "\n",
      "Edmonton Mean\n",
      "Bold         0.58\n",
      "Calm         0.52\n",
      "Obedient     0.61\n",
      "Sociable     0.52\n",
      "Trainable    0.58\n",
      "dtype: float64\n",
      "\n",
      "Edmonton Standard Deviation\n",
      "Bold         0.46\n",
      "Calm         0.50\n",
      "Obedient     0.24\n",
      "Sociable     0.43\n",
      "Trainable    0.38\n",
      "dtype: float64\n"
     ]
    },
    {
     "data": {
      "image/png": "[encoded data removed]",
      "text/plain": [
       "<Figure size 432x288 with 1 Axes>"
      ]
     },
     "metadata": {
      "needs_background": "light"
     },
     "output_type": "display_data"
    }
   ],
   "source": [
    "# Show data on NYC, Adelaide, and Edmonton\n",
    "describe(nyc_attrib, 'NYC')\n",
    "describe(adelaide_attrib, 'Adelaide')\n",
    "describe(edmonton_attrib, 'Edmonton')\n",
    "\n",
    "adelaide_mean = adelaide_attrib[lst].mean()\n",
    "edmonton_mean = edmonton_attrib[lst].mean()\n",
    "nyc_mean = nyc_attrib[lst].mean()"
   ]
  },
  {
   "cell_type": "code",
   "execution_count": 8,
   "metadata": {},
   "outputs": [
    {
     "data": {
      "image/png": "[encoded data removed]",
      "text/plain": [
       "<Figure size 432x288 with 1 Axes>"
      ]
     },
     "metadata": {
      "needs_background": "light"
     },
     "output_type": "display_data"
    }
   ],
   "source": [
    "#3D Plot\n",
    "fig1 = plt.figure()\n",
    "ax1 = fig1.add_subplot(111, projection='3d')\n",
    "xs = np.arange(5)\n",
    "ys = adelaide_mean.values\n",
    "cs = 'r' * 5\n",
    "ax1.bar(xs, ys, zs=3, zdir='y', color=cs, alpha=0.8)\n",
    "ys = edmonton_mean.values\n",
    "cs = 'g' * 5\n",
    "ax1.bar(xs, ys, zs=2, zdir='y', color=cs, alpha=0.8 )\n",
    "ys = nyc_mean.values\n",
    "cs = 'b' * 5\n",
    "ax1.bar(xs, ys, zs=1, zdir='y', color=cs, alpha=0.8)\n",
    "\n",
    "ax1.w_xaxis.set_ticklabels(lst)\n",
    "ax1.w_yaxis.set_ticklabels(['Adelaide','Edmonton','NYC'])\n",
    "\n",
    "plt.show()"
   ]
  },
  {
   "cell_type": "code",
   "execution_count": 26,
   "metadata": {},
   "outputs": [
    {
     "ename": "KeyError",
     "evalue": "\"['Wales'] not found in axis\"",
     "output_type": "error",
     "traceback": [
      "\u001b[0;31m---------------------------------------------------------------------------\u001b[0m",
      "\u001b[0;31mKeyError\u001b[0m                                  Traceback (most recent call last)",
      "\u001b[0;32m<ipython-input-26-2bc8f82aea1b>\u001b[0m in \u001b[0;36m<module>\u001b[0;34m()\u001b[0m\n\u001b[1;32m      5\u001b[0m \u001b[0mancestral_uk_ire\u001b[0m \u001b[0;34m=\u001b[0m \u001b[0mancestral_uk_ire\u001b[0m\u001b[0;34m[\u001b[0m\u001b[0mancestral_uk_ire\u001b[0m\u001b[0;34m[\u001b[0m\u001b[0;34m'Origin'\u001b[0m\u001b[0;34m]\u001b[0m\u001b[0;34m.\u001b[0m\u001b[0misin\u001b[0m\u001b[0;34m(\u001b[0m\u001b[0;34m[\u001b[0m\u001b[0;34m'England'\u001b[0m\u001b[0;34m,\u001b[0m \u001b[0;34m'Scotland'\u001b[0m\u001b[0;34m,\u001b[0m \u001b[0;34m'Wales'\u001b[0m\u001b[0;34m,\u001b[0m \u001b[0;34m'Ireland'\u001b[0m\u001b[0;34m]\u001b[0m\u001b[0;34m)\u001b[0m\u001b[0;34m]\u001b[0m\u001b[0;34m\u001b[0m\u001b[0;34m\u001b[0m\u001b[0m\n\u001b[1;32m      6\u001b[0m \u001b[0;31m# Remove Wales since it only has one dog for some of the data\u001b[0m\u001b[0;34m\u001b[0m\u001b[0;34m\u001b[0m\u001b[0;34m\u001b[0m\u001b[0m\n\u001b[0;32m----> 7\u001b[0;31m \u001b[0mancestral_uk_ire\u001b[0m\u001b[0;34m.\u001b[0m\u001b[0mdrop\u001b[0m\u001b[0;34m(\u001b[0m\u001b[0;34m'Wales'\u001b[0m\u001b[0;34m,\u001b[0m \u001b[0minplace\u001b[0m\u001b[0;34m=\u001b[0m\u001b[0;32mTrue\u001b[0m\u001b[0;34m)\u001b[0m\u001b[0;34m\u001b[0m\u001b[0;34m\u001b[0m\u001b[0m\n\u001b[0m\u001b[1;32m      8\u001b[0m \u001b[0mancestral_uk_ire\u001b[0m \u001b[0;34m=\u001b[0m \u001b[0mancestral_uk_ire\u001b[0m\u001b[0;34m.\u001b[0m\u001b[0mset_index\u001b[0m\u001b[0;34m(\u001b[0m\u001b[0;34m'Breed'\u001b[0m\u001b[0;34m)\u001b[0m\u001b[0;34m.\u001b[0m\u001b[0mjoin\u001b[0m\u001b[0;34m(\u001b[0m\u001b[0mattrib\u001b[0m\u001b[0;34m,\u001b[0m \u001b[0mhow\u001b[0m\u001b[0;34m=\u001b[0m\u001b[0;34m'inner'\u001b[0m\u001b[0;34m)\u001b[0m\u001b[0;34m\u001b[0m\u001b[0;34m\u001b[0m\u001b[0m\n\u001b[1;32m      9\u001b[0m \u001b[0mancestral_uk_ire_grp\u001b[0m \u001b[0;34m=\u001b[0m \u001b[0mancestral_uk_ire\u001b[0m\u001b[0;34m.\u001b[0m\u001b[0mgroupby\u001b[0m\u001b[0;34m(\u001b[0m\u001b[0;34m'Origin'\u001b[0m\u001b[0;34m)\u001b[0m\u001b[0;34m\u001b[0m\u001b[0;34m\u001b[0m\u001b[0m\n",
      "\u001b[0;32m~/anaconda3/lib/python3.7/site-packages/pandas/core/frame.py\u001b[0m in \u001b[0;36mdrop\u001b[0;34m(self, labels, axis, index, columns, level, inplace, errors)\u001b[0m\n\u001b[1;32m   3695\u001b[0m                                            \u001b[0mindex\u001b[0m\u001b[0;34m=\u001b[0m\u001b[0mindex\u001b[0m\u001b[0;34m,\u001b[0m \u001b[0mcolumns\u001b[0m\u001b[0;34m=\u001b[0m\u001b[0mcolumns\u001b[0m\u001b[0;34m,\u001b[0m\u001b[0;34m\u001b[0m\u001b[0;34m\u001b[0m\u001b[0m\n\u001b[1;32m   3696\u001b[0m                                            \u001b[0mlevel\u001b[0m\u001b[0;34m=\u001b[0m\u001b[0mlevel\u001b[0m\u001b[0;34m,\u001b[0m \u001b[0minplace\u001b[0m\u001b[0;34m=\u001b[0m\u001b[0minplace\u001b[0m\u001b[0;34m,\u001b[0m\u001b[0;34m\u001b[0m\u001b[0;34m\u001b[0m\u001b[0m\n\u001b[0;32m-> 3697\u001b[0;31m                                            errors=errors)\n\u001b[0m\u001b[1;32m   3698\u001b[0m \u001b[0;34m\u001b[0m\u001b[0m\n\u001b[1;32m   3699\u001b[0m     @rewrite_axis_style_signature('mapper', [('copy', True),\n",
      "\u001b[0;32m~/anaconda3/lib/python3.7/site-packages/pandas/core/generic.py\u001b[0m in \u001b[0;36mdrop\u001b[0;34m(self, labels, axis, index, columns, level, inplace, errors)\u001b[0m\n\u001b[1;32m   3109\u001b[0m         \u001b[0;32mfor\u001b[0m \u001b[0maxis\u001b[0m\u001b[0;34m,\u001b[0m \u001b[0mlabels\u001b[0m \u001b[0;32min\u001b[0m \u001b[0maxes\u001b[0m\u001b[0;34m.\u001b[0m\u001b[0mitems\u001b[0m\u001b[0;34m(\u001b[0m\u001b[0;34m)\u001b[0m\u001b[0;34m:\u001b[0m\u001b[0;34m\u001b[0m\u001b[0;34m\u001b[0m\u001b[0m\n\u001b[1;32m   3110\u001b[0m             \u001b[0;32mif\u001b[0m \u001b[0mlabels\u001b[0m \u001b[0;32mis\u001b[0m \u001b[0;32mnot\u001b[0m \u001b[0;32mNone\u001b[0m\u001b[0;34m:\u001b[0m\u001b[0;34m\u001b[0m\u001b[0;34m\u001b[0m\u001b[0m\n\u001b[0;32m-> 3111\u001b[0;31m                 \u001b[0mobj\u001b[0m \u001b[0;34m=\u001b[0m \u001b[0mobj\u001b[0m\u001b[0;34m.\u001b[0m\u001b[0m_drop_axis\u001b[0m\u001b[0;34m(\u001b[0m\u001b[0mlabels\u001b[0m\u001b[0;34m,\u001b[0m \u001b[0maxis\u001b[0m\u001b[0;34m,\u001b[0m \u001b[0mlevel\u001b[0m\u001b[0;34m=\u001b[0m\u001b[0mlevel\u001b[0m\u001b[0;34m,\u001b[0m \u001b[0merrors\u001b[0m\u001b[0;34m=\u001b[0m\u001b[0merrors\u001b[0m\u001b[0;34m)\u001b[0m\u001b[0;34m\u001b[0m\u001b[0;34m\u001b[0m\u001b[0m\n\u001b[0m\u001b[1;32m   3112\u001b[0m \u001b[0;34m\u001b[0m\u001b[0m\n\u001b[1;32m   3113\u001b[0m         \u001b[0;32mif\u001b[0m \u001b[0minplace\u001b[0m\u001b[0;34m:\u001b[0m\u001b[0;34m\u001b[0m\u001b[0;34m\u001b[0m\u001b[0m\n",
      "\u001b[0;32m~/anaconda3/lib/python3.7/site-packages/pandas/core/generic.py\u001b[0m in \u001b[0;36m_drop_axis\u001b[0;34m(self, labels, axis, level, errors)\u001b[0m\n\u001b[1;32m   3141\u001b[0m                 \u001b[0mnew_axis\u001b[0m \u001b[0;34m=\u001b[0m \u001b[0maxis\u001b[0m\u001b[0;34m.\u001b[0m\u001b[0mdrop\u001b[0m\u001b[0;34m(\u001b[0m\u001b[0mlabels\u001b[0m\u001b[0;34m,\u001b[0m \u001b[0mlevel\u001b[0m\u001b[0;34m=\u001b[0m\u001b[0mlevel\u001b[0m\u001b[0;34m,\u001b[0m \u001b[0merrors\u001b[0m\u001b[0;34m=\u001b[0m\u001b[0merrors\u001b[0m\u001b[0;34m)\u001b[0m\u001b[0;34m\u001b[0m\u001b[0;34m\u001b[0m\u001b[0m\n\u001b[1;32m   3142\u001b[0m             \u001b[0;32melse\u001b[0m\u001b[0;34m:\u001b[0m\u001b[0;34m\u001b[0m\u001b[0;34m\u001b[0m\u001b[0m\n\u001b[0;32m-> 3143\u001b[0;31m                 \u001b[0mnew_axis\u001b[0m \u001b[0;34m=\u001b[0m \u001b[0maxis\u001b[0m\u001b[0;34m.\u001b[0m\u001b[0mdrop\u001b[0m\u001b[0;34m(\u001b[0m\u001b[0mlabels\u001b[0m\u001b[0;34m,\u001b[0m \u001b[0merrors\u001b[0m\u001b[0;34m=\u001b[0m\u001b[0merrors\u001b[0m\u001b[0;34m)\u001b[0m\u001b[0;34m\u001b[0m\u001b[0;34m\u001b[0m\u001b[0m\n\u001b[0m\u001b[1;32m   3144\u001b[0m             \u001b[0mresult\u001b[0m \u001b[0;34m=\u001b[0m \u001b[0mself\u001b[0m\u001b[0;34m.\u001b[0m\u001b[0mreindex\u001b[0m\u001b[0;34m(\u001b[0m\u001b[0;34m**\u001b[0m\u001b[0;34m{\u001b[0m\u001b[0maxis_name\u001b[0m\u001b[0;34m:\u001b[0m \u001b[0mnew_axis\u001b[0m\u001b[0;34m}\u001b[0m\u001b[0;34m)\u001b[0m\u001b[0;34m\u001b[0m\u001b[0;34m\u001b[0m\u001b[0m\n\u001b[1;32m   3145\u001b[0m \u001b[0;34m\u001b[0m\u001b[0m\n",
      "\u001b[0;32m~/anaconda3/lib/python3.7/site-packages/pandas/core/indexes/base.py\u001b[0m in \u001b[0;36mdrop\u001b[0;34m(self, labels, errors)\u001b[0m\n\u001b[1;32m   4402\u001b[0m             \u001b[0;32mif\u001b[0m \u001b[0merrors\u001b[0m \u001b[0;34m!=\u001b[0m \u001b[0;34m'ignore'\u001b[0m\u001b[0;34m:\u001b[0m\u001b[0;34m\u001b[0m\u001b[0;34m\u001b[0m\u001b[0m\n\u001b[1;32m   4403\u001b[0m                 raise KeyError(\n\u001b[0;32m-> 4404\u001b[0;31m                     '{} not found in axis'.format(labels[mask]))\n\u001b[0m\u001b[1;32m   4405\u001b[0m             \u001b[0mindexer\u001b[0m \u001b[0;34m=\u001b[0m \u001b[0mindexer\u001b[0m\u001b[0;34m[\u001b[0m\u001b[0;34m~\u001b[0m\u001b[0mmask\u001b[0m\u001b[0;34m]\u001b[0m\u001b[0;34m\u001b[0m\u001b[0;34m\u001b[0m\u001b[0m\n\u001b[1;32m   4406\u001b[0m         \u001b[0;32mreturn\u001b[0m \u001b[0mself\u001b[0m\u001b[0;34m.\u001b[0m\u001b[0mdelete\u001b[0m\u001b[0;34m(\u001b[0m\u001b[0mindexer\u001b[0m\u001b[0;34m)\u001b[0m\u001b[0;34m\u001b[0m\u001b[0;34m\u001b[0m\u001b[0m\n",
      "\u001b[0;31mKeyError\u001b[0m: \"['Wales'] not found in axis\""
     ]
    }
   ],
   "source": [
    "# Looking at the UK and Ireland\n",
    "ancestral = wiki[['Breed', 'Origin']]\n",
    "ancestral_uk_ire = ancestral.copy()\n",
    "ancestral_uk_ire.dropna(inplace=True)\n",
    "ancestral_uk_ire = ancestral_uk_ire[ancestral_uk_ire['Origin'].isin(['England', 'Scotland', 'Wales', 'Ireland'])]\n",
    "ancestral_uk_ire = ancestral_uk_ire.set_index('Breed').join(attrib, how='inner')\n",
    "ancestral_uk_ire_grp = ancestral_uk_ire.groupby('Origin')\n",
    "ancestral_uk_ire_mean = ancestral_uk_ire_grp.mean()\n",
    "print('\\nUK and Ireland Mean')\n",
    "print(ancestral_uk_ire_grp.mean().round(decimals=2))\n",
    "print('\\nUK and Ireland Standard Deviation')\n",
    "print(ancestral_uk_ire_grp.std().round(decimals=2))\n",
    "print('\\nUK and Ireland Count')\n",
    "\n",
    "print(ancestral_uk_ire_grp.count())\n",
    "\n",
    "# Plot the UK and Ireland data\n",
    "# Remove Wales since it only has one dog for some of the data\n",
    "ancestral_uk_ire_mean.drop('Wales', inplace=True)\n",
    "plot_by_attrib(ancestral_uk_ire_mean, lst, 'UK and Irish Ancestry')\n",
    "\n",
    "# Combining Scotland, Wales, and England as United Kingdom\n",
    "ancestral['Origin'] = ancestral['Origin'].map(lambda x: 'United Kingdom' if x in {'England', 'Wales', 'Scotland'} else x)\n",
    "ancestral_attrib = ancestral.set_index('Breed').join(attrib, how='inner')\n",
    "\n",
    "# Show data on attributes of dogs given their ancestral home\n",
    "ancestral_attrib.dropna(inplace=True)\n",
    "ancestral_attrib2 = splitDataFrameList(ancestral_attrib,'Origin', '/')\n",
    "ancestral_attrib2['Origin'] = ancestral_attrib2['Origin'].map(lambda x: 'China' if x == 'Tibet (China)' else x)\n",
    "ancestral_attrib_grp = ancestral_attrib2.groupby('Origin')\n",
    "ancestral_attrib_count = ancestral_attrib_grp.count()\n",
    "ancestral_attrib_mean = ancestral_attrib_grp.mean().round(decimals=2)\n",
    "ancestral_attrib_std = ancestral_attrib_grp.std().round(decimals=2)\n",
    "\n",
    "# Only display values where there are more than two dogs\n",
    "ancestral_attrib_mean_filtered = ancestral_attrib_mean[ancestral_attrib_count['Bold'] > 2]\n",
    "ancestral_attrib_std_filtered = ancestral_attrib_std[ancestral_attrib_count['Bold'] > 2]\n",
    "\n",
    "print('\\nAncestral Origin Mean, n>2')\n",
    "pprint(ancestral_attrib_mean_filtered)\n",
    "print('\\nAncestral Origin Standard Deviation')\n",
    "pprint(ancestral_attrib_std_filtered)\n",
    "print('\\nAncestral Origin Count')\n",
    "pprint(ancestral_attrib_count)\n",
    "\n",
    "# Plot by country of origin\n",
    "plot_by_attrib(ancestral_attrib_mean_filtered, lst, 'Country of Origin')"
   ]
  },
  {
   "cell_type": "code",
   "execution_count": 10,
   "metadata": {},
   "outputs": [
    {
     "name": "stderr",
     "output_type": "stream",
     "text": [
      "/Users/sandbar/anaconda3/lib/python3.7/site-packages/pandas/core/series.py:3896: SettingWithCopyWarning: \n",
      "A value is trying to be set on a copy of a slice from a DataFrame\n",
      "\n",
      "See the caveats in the documentation: http://pandas.pydata.org/pandas-docs/stable/indexing.html#indexing-view-versus-copy\n",
      "  self._update_inplace(result)\n"
     ]
    },
    {
     "name": "stdout",
     "output_type": "stream",
     "text": [
      "Alternative Hypothesis: Dogs with ancestry from the UK are bolder than other dogs.\n",
      "Ancestral UK Bold Mean:\n",
      "0.6818181818181818\n",
      "Ancestral Non-UK Bold Mean:\n",
      "0.313953488372093\n",
      "Ttest_indResult(statistic=3.1133301873945967, pvalue=0.00331078574427337)\n"
     ]
    }
   ],
   "source": [
    "print('Alternative Hypothesis: Dogs with ancestry from the UK are bolder than other dogs.')\n",
    "ancestral_uk = ancestral_attrib2[ancestral_attrib2['Origin'] == 'United Kingdom']\n",
    "ancestral_not_uk = ancestral_attrib2[~(ancestral_attrib2['Origin'] == 'United Kingdom')]\n",
    "ancestral_uk_bold = ancestral_uk['Bold']\n",
    "print('Ancestral UK Bold Mean:')\n",
    "print(ancestral_uk_bold.mean())\n",
    "ancestral_uk_bold.dropna(inplace=True)\n",
    "ancestral_not_uk_bold = ancestral_not_uk['Bold']\n",
    "ancestral_not_uk_bold.dropna(inplace=True)\n",
    "print('Ancestral Non-UK Bold Mean:')\n",
    "print(ancestral_not_uk_bold.mean())\n",
    "print(stats.ttest_ind(ancestral_uk_bold, ancestral_not_uk_bold, equal_var = False))"
   ]
  },
  {
   "cell_type": "code",
   "execution_count": 11,
   "metadata": {},
   "outputs": [
    {
     "name": "stdout",
     "output_type": "stream",
     "text": [
      "Null Hypothesis: The average obedience of UK dogs is the same as non-UK dogs.\n",
      "Alternative Hypothesis: The average obedience of UK dogs is different from non-UK dogs.\n",
      "Ttest_indResult(statistic=0.22598874581524203, pvalue=0.8223196147677269)\n"
     ]
    }
   ],
   "source": [
    "print('Null Hypothesis: The average obedience of UK dogs is the same as non-UK dogs.')\n",
    "print('Alternative Hypothesis: The average obedience of UK dogs is different from non-UK dogs.')\n",
    "ancestral_uk_obedient = ancestral_uk['Obedient']\n",
    "ancestral_not_uk_obedient = ancestral_not_uk['Obedient']\n",
    "print(stats.ttest_ind(ancestral_uk_obedient, ancestral_not_uk_obedient, equal_var = False))"
   ]
  },
  {
   "cell_type": "markdown",
   "metadata": {},
   "source": [
    "## German dogs"
   ]
  },
  {
   "cell_type": "code",
   "execution_count": 16,
   "metadata": {},
   "outputs": [
    {
     "name": "stdout",
     "output_type": "stream",
     "text": [
      "Alternative Hypothesis: Dogs with German ancestry are more obedient than other dogs.\n",
      "Ancestral Germany Obedient Mean:\n",
      "0.7541666666666668\n",
      "Ancestral Non-Germany Obedient Mean:\n",
      "0.5613207547169812\n",
      "Ttest_indResult(statistic=2.8770141108829277, pvalue=0.009547953620993713)\n"
     ]
    },
    {
     "name": "stderr",
     "output_type": "stream",
     "text": [
      "/Users/sandbar/anaconda3/lib/python3.7/site-packages/pandas/core/series.py:3896: SettingWithCopyWarning: \n",
      "A value is trying to be set on a copy of a slice from a DataFrame\n",
      "\n",
      "See the caveats in the documentation: http://pandas.pydata.org/pandas-docs/stable/indexing.html#indexing-view-versus-copy\n",
      "  self._update_inplace(result)\n"
     ]
    }
   ],
   "source": [
    "print('Alternative Hypothesis: Dogs with German ancestry are more obedient than other dogs.')\n",
    "ancestral_ger = ancestral_attrib2[ancestral_attrib2['Origin'] == 'Germany']\n",
    "ancestral_not_ger = ancestral_attrib2[~(ancestral_attrib2['Origin'] == 'Germany')]\n",
    "ancestral_ger_obedient = ancestral_ger['Obedient']\n",
    "print('Ancestral Germany Obedient Mean:')\n",
    "print(ancestral_ger_obedient.mean())\n",
    "ancestral_ger_obedient.dropna(inplace=True)\n",
    "ancestral_not_ger_obedient = ancestral_not_ger['Obedient']\n",
    "ancestral_not_ger_obedient.dropna(inplace=True)\n",
    "print('Ancestral Non-Germany Obedient Mean:')\n",
    "print(ancestral_not_ger_obedient.mean())\n",
    "print(stats.ttest_ind(ancestral_ger_obedient, ancestral_not_ger_obedient, equal_var = False))"
   ]
  },
  {
   "cell_type": "code",
   "execution_count": 17,
   "metadata": {},
   "outputs": [
    {
     "name": "stdout",
     "output_type": "stream",
     "text": [
      "Alternative Hypothesis: Dogs with German ancestry are less calm than other dogs.\n",
      "Ancestral Germany Calm Mean:\n",
      "0.08333333333333333\n",
      "Ancestral Non-Germany Calm Mean:\n",
      "0.5660377358490566\n",
      "Ttest_indResult(statistic=-4.468667004142404, pvalue=0.00011605889988818817)\n"
     ]
    },
    {
     "name": "stderr",
     "output_type": "stream",
     "text": [
      "/Users/sandbar/anaconda3/lib/python3.7/site-packages/pandas/core/series.py:3896: SettingWithCopyWarning: \n",
      "A value is trying to be set on a copy of a slice from a DataFrame\n",
      "\n",
      "See the caveats in the documentation: http://pandas.pydata.org/pandas-docs/stable/indexing.html#indexing-view-versus-copy\n",
      "  self._update_inplace(result)\n"
     ]
    }
   ],
   "source": [
    "print('Alternative Hypothesis: Dogs with German ancestry are less calm than other dogs.')\n",
    "ancestral_ger_calm = ancestral_ger['Calm']\n",
    "print('Ancestral Germany Calm Mean:')\n",
    "print(ancestral_ger_calm.mean())\n",
    "ancestral_ger_calm.dropna(inplace=True)\n",
    "ancestral_not_ger_calm = ancestral_not_ger['Calm']\n",
    "ancestral_not_ger_calm.dropna(inplace=True)\n",
    "print('Ancestral Non-Germany Calm Mean:')\n",
    "print(ancestral_not_ger_calm.mean())\n",
    "print(stats.ttest_ind(ancestral_ger_calm, ancestral_not_ger_calm, equal_var = False))"
   ]
  },
  {
   "cell_type": "code",
   "execution_count": null,
   "metadata": {},
   "outputs": [],
   "source": []
  }
 ],
 "metadata": {
  "kernelspec": {
   "display_name": "Python 3",
   "language": "python",
   "name": "python3"
  },
  "language_info": {
   "codemirror_mode": {
    "name": "ipython",
    "version": 3
   },
   "file_extension": ".py",
   "mimetype": "text/x-python",
   "name": "python",
   "nbconvert_exporter": "python",
   "pygments_lexer": "ipython3",
   "version": "3.7.2"
  }
 },
 "nbformat": 4,
 "nbformat_minor": 2
}
