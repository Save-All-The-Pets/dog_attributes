{
 "cells": [
  {
   "cell_type": "markdown",
   "metadata": {},
   "source": [
    "# Canine attributes visualization"
   ]
  },
  {
   "cell_type": "code",
   "execution_count": 1,
   "metadata": {},
   "outputs": [],
   "source": [
    "from pprint import pprint\n",
    "import pandas as pd\n",
    "import numpy as np\n",
    "import matplotlib.pyplot as plt\n",
    "from mpl_toolkits.mplot3d import Axes3D\n",
    "import itertools\n",
    "\n",
    "import warnings\n",
    "warnings.filterwarnings('ignore')\n",
    "\n",
    "pd.options.display.max_rows = 200"
   ]
  },
  {
   "cell_type": "markdown",
   "metadata": {},
   "source": [
    "## Import data"
   ]
  },
  {
   "cell_type": "code",
   "execution_count": 2,
   "metadata": {},
   "outputs": [
    {
     "data": {
      "text/html": [
       "<div>\n",
       "<style scoped>\n",
       "    .dataframe tbody tr th:only-of-type {\n",
       "        vertical-align: middle;\n",
       "    }\n",
       "\n",
       "    .dataframe tbody tr th {\n",
       "        vertical-align: top;\n",
       "    }\n",
       "\n",
       "    .dataframe thead th {\n",
       "        text-align: right;\n",
       "    }\n",
       "</style>\n",
       "<table border=\"1\" class=\"dataframe\">\n",
       "  <thead>\n",
       "    <tr style=\"text-align: right;\">\n",
       "      <th></th>\n",
       "      <th>Obedient</th>\n",
       "      <th>Calm</th>\n",
       "      <th>Trainable</th>\n",
       "      <th>Sociable</th>\n",
       "      <th>Bold</th>\n",
       "    </tr>\n",
       "    <tr>\n",
       "      <th>Breed</th>\n",
       "      <th></th>\n",
       "      <th></th>\n",
       "      <th></th>\n",
       "      <th></th>\n",
       "      <th></th>\n",
       "    </tr>\n",
       "  </thead>\n",
       "  <tbody>\n",
       "    <tr>\n",
       "      <th>Affenpinscher</th>\n",
       "      <td>0.7</td>\n",
       "      <td>NaN</td>\n",
       "      <td>NaN</td>\n",
       "      <td>NaN</td>\n",
       "      <td>NaN</td>\n",
       "    </tr>\n",
       "    <tr>\n",
       "      <th>Afghan Hound</th>\n",
       "      <td>0.1</td>\n",
       "      <td>NaN</td>\n",
       "      <td>NaN</td>\n",
       "      <td>NaN</td>\n",
       "      <td>NaN</td>\n",
       "    </tr>\n",
       "    <tr>\n",
       "      <th>Airedale Terrier</th>\n",
       "      <td>0.7</td>\n",
       "      <td>1.0</td>\n",
       "      <td>0.5</td>\n",
       "      <td>1.0</td>\n",
       "      <td>1.0</td>\n",
       "    </tr>\n",
       "    <tr>\n",
       "      <th>Akita</th>\n",
       "      <td>0.5</td>\n",
       "      <td>NaN</td>\n",
       "      <td>NaN</td>\n",
       "      <td>NaN</td>\n",
       "      <td>NaN</td>\n",
       "    </tr>\n",
       "    <tr>\n",
       "      <th>Alaskan Malamute</th>\n",
       "      <td>0.5</td>\n",
       "      <td>1.0</td>\n",
       "      <td>0.0</td>\n",
       "      <td>0.5</td>\n",
       "      <td>0.0</td>\n",
       "    </tr>\n",
       "  </tbody>\n",
       "</table>\n",
       "</div>"
      ],
      "text/plain": [
       "                  Obedient  Calm  Trainable  Sociable  Bold\n",
       "Breed                                                      \n",
       "Affenpinscher          0.7   NaN        NaN       NaN   NaN\n",
       "Afghan Hound           0.1   NaN        NaN       NaN   NaN\n",
       "Airedale Terrier       0.7   1.0        0.5       1.0   1.0\n",
       "Akita                  0.5   NaN        NaN       NaN   NaN\n",
       "Alaskan Malamute       0.5   1.0        0.0       0.5   0.0"
      ]
     },
     "execution_count": 2,
     "metadata": {},
     "output_type": "execute_result"
    }
   ],
   "source": [
    "nyc_registry = pd.read_csv('../dogdata/NYC_Dog_Licensing_Dataset_2015-edit.csv')\n",
    "coren = pd.read_csv('../dogdata/coren-edit.csv')\n",
    "# nyc_census = pd.read_csv('../censusdata/ACS_16_1YR_S0201_with_ann-edit.csv') # use 2016 data\n",
    "edmonton_registry = pd.read_csv('../dogdata/Edmonton_Pet_Licenses_by_Neighbourhood_2018-edit.csv')\n",
    "adelaide_registry = pd.read_csv('../dogdata/Dog_Registrations_Adelaide_2016-edit.csv')\n",
    "seattle_registry = pd.read_csv('../dogdata/Seattle_Pet_Licenses-2018-edit2.csv')\n",
    "wiki = pd.read_csv('../dogdata/wiki-edit.csv')\n",
    "turcsan = pd.read_csv('../dogdata/turcsan.csv')\n",
    "\n",
    "# List of attributes\n",
    "# lst = ['Trainable', 'Obedient', 'Bold', 'Calm','Sociable']\n",
    "lst = ['Trainable', 'Bold', 'Calm','Sociable']\n",
    "borough = ['Bronx','Brooklyn','Manhattan','Queens','Staten Island']\n",
    "# Pare down the Coren data\n",
    "coren = coren[['Breed', 'Obedient']]\n",
    "# Combine the Coren and Turcsan datasets\n",
    "attrib = coren.set_index('Breed').join(turcsan.set_index('Breed'), how='outer')\n",
    "attrib.head()"
   ]
  },
  {
   "cell_type": "code",
   "execution_count": 3,
   "metadata": {},
   "outputs": [],
   "source": [
    "adelaide_registry.replace(to_replace='Labrador',value='Labrador Retriever', inplace=True)"
   ]
  },
  {
   "cell_type": "markdown",
   "metadata": {},
   "source": [
    "## Code: functions to display and manage data"
   ]
  },
  {
   "cell_type": "code",
   "execution_count": 4,
   "metadata": {},
   "outputs": [],
   "source": [
    "def plot_by_attrib(df, categ,label, filename=None, display=True):\n",
    "    \"\"\"Plot a graph by the attributes provided.\n",
    "    \n",
    "    Arguments:\n",
    "        df {DataFrame} -- DF to plot\n",
    "        categ {list} -- Categories to plot\n",
    "        label {str} -- Label for what the data is describing\n",
    "    \n",
    "    Keyword Arguments:\n",
    "        filename {str} -- Name of the file to optionally save (default: {None})\n",
    "        display {bool} -- Whether or not to display the plot (default: {True})\n",
    "    \"\"\"\n",
    "    fig, ax = plt.subplots()\n",
    "    plt.setp(ax.xaxis.get_majorticklabels(), rotation=45, ha='right', rotation_mode='anchor')\n",
    "    for item in categ:\n",
    "        ax.plot(df.index, df[item])\n",
    "\n",
    "    plt.gcf().subplots_adjust(bottom=0.3, right=.75)\n",
    "    plt.legend(loc=(1.04,0.6))\n",
    "    plt.title('Scores by '+ label)\n",
    "    ax.set_ylabel('Score')\n",
    "    ax.set_xlabel(label)\n",
    "    if filename is not None:\n",
    "        plt.savefig('../plots/'+filename)\n",
    "    if display:\n",
    "        plt.show()\n",
    "\n",
    "\n",
    "def splitDataFrameList(df,target_column,separator):\n",
    "    \"\"\"Thanks to James Allen, https://gist.github.com/jlln/338b4b0b55bd6984f883\n",
    "    \n",
    "    Arguments:\n",
    "        df {DataFrame} -- DataFrame to split,\n",
    "        target_column {string} -- The column containing the values to split\n",
    "        separator {str} -- The symbol used to perform the split\n",
    "    \n",
    "    Returns:\n",
    "        DataFrame -- A dataframe with each entry for the target column separated, with each element moved into a new row. \n",
    "    The values in the other columns are duplicated across the newly divided rows.\n",
    "    \"\"\"\n",
    "    def splitListToRows(row,row_accumulator,target_column,separator):\n",
    "        split_row = row[target_column].split(separator)\n",
    "        for s in split_row:\n",
    "            new_row = row.to_dict()\n",
    "            new_row[target_column] = s\n",
    "            row_accumulator.append(new_row)\n",
    "    new_rows = []\n",
    "    df.apply(splitListToRows,axis=1,args = (new_rows,target_column,separator))\n",
    "    new_df = pd.DataFrame(new_rows)\n",
    "    return new_df"
   ]
  },
  {
   "cell_type": "markdown",
   "metadata": {},
   "source": [
    "# Attributes by AKC groupings\n",
    "Similar to what Turcsán did in her paper"
   ]
  },
  {
   "cell_type": "code",
   "execution_count": 5,
   "metadata": {},
   "outputs": [
    {
     "data": {
      "text/html": [
       "<div>\n",
       "<style scoped>\n",
       "    .dataframe tbody tr th:only-of-type {\n",
       "        vertical-align: middle;\n",
       "    }\n",
       "\n",
       "    .dataframe tbody tr th {\n",
       "        vertical-align: top;\n",
       "    }\n",
       "\n",
       "    .dataframe thead th {\n",
       "        text-align: right;\n",
       "    }\n",
       "</style>\n",
       "<table border=\"1\" class=\"dataframe\">\n",
       "  <thead>\n",
       "    <tr style=\"text-align: right;\">\n",
       "      <th></th>\n",
       "      <th>AKC</th>\n",
       "      <th>Obedient</th>\n",
       "      <th>Calm</th>\n",
       "      <th>Trainable</th>\n",
       "      <th>Sociable</th>\n",
       "      <th>Bold</th>\n",
       "    </tr>\n",
       "    <tr>\n",
       "      <th>Breed</th>\n",
       "      <th></th>\n",
       "      <th></th>\n",
       "      <th></th>\n",
       "      <th></th>\n",
       "      <th></th>\n",
       "      <th></th>\n",
       "    </tr>\n",
       "  </thead>\n",
       "  <tbody>\n",
       "    <tr>\n",
       "      <th>Affenpinscher</th>\n",
       "      <td>Toy</td>\n",
       "      <td>0.7</td>\n",
       "      <td>NaN</td>\n",
       "      <td>NaN</td>\n",
       "      <td>NaN</td>\n",
       "      <td>NaN</td>\n",
       "    </tr>\n",
       "    <tr>\n",
       "      <th>Afghan Hound</th>\n",
       "      <td>Hound</td>\n",
       "      <td>0.1</td>\n",
       "      <td>NaN</td>\n",
       "      <td>NaN</td>\n",
       "      <td>NaN</td>\n",
       "      <td>NaN</td>\n",
       "    </tr>\n",
       "    <tr>\n",
       "      <th>Airedale Terrier</th>\n",
       "      <td>Terrier</td>\n",
       "      <td>0.7</td>\n",
       "      <td>1.0</td>\n",
       "      <td>0.5</td>\n",
       "      <td>1.0</td>\n",
       "      <td>1.0</td>\n",
       "    </tr>\n",
       "    <tr>\n",
       "      <th>Akita</th>\n",
       "      <td>Working</td>\n",
       "      <td>0.5</td>\n",
       "      <td>NaN</td>\n",
       "      <td>NaN</td>\n",
       "      <td>NaN</td>\n",
       "      <td>NaN</td>\n",
       "    </tr>\n",
       "    <tr>\n",
       "      <th>Alaskan Malamute</th>\n",
       "      <td>Working</td>\n",
       "      <td>0.5</td>\n",
       "      <td>1.0</td>\n",
       "      <td>0.0</td>\n",
       "      <td>0.5</td>\n",
       "      <td>0.0</td>\n",
       "    </tr>\n",
       "  </tbody>\n",
       "</table>\n",
       "</div>"
      ],
      "text/plain": [
       "                      AKC  Obedient  Calm  Trainable  Sociable  Bold\n",
       "Breed                                                               \n",
       "Affenpinscher         Toy       0.7   NaN        NaN       NaN   NaN\n",
       "Afghan Hound        Hound       0.1   NaN        NaN       NaN   NaN\n",
       "Airedale Terrier  Terrier       0.7   1.0        0.5       1.0   1.0\n",
       "Akita             Working       0.5   NaN        NaN       NaN   NaN\n",
       "Alaskan Malamute  Working       0.5   1.0        0.0       0.5   0.0"
      ]
     },
     "execution_count": 5,
     "metadata": {},
     "output_type": "execute_result"
    }
   ],
   "source": [
    "wiki_akc = wiki[['Breed', 'AKC']]\n",
    "akc_groups_attrib = wiki_akc.set_index('Breed').join(attrib, how='left')\n",
    "akc_groups_attrib.head()"
   ]
  },
  {
   "cell_type": "code",
   "execution_count": 105,
   "metadata": {
    "scrolled": true
   },
   "outputs": [
    {
     "name": "stdout",
     "output_type": "stream",
     "text": [
      "\n",
      "AKC Mean\n",
      "              Obedient  Calm  Trainable  Sociable  Bold\n",
      "AKC                                                    \n",
      "Herding           0.77  0.30       0.85      0.45  0.30\n",
      "Hound             0.40  0.50       0.67      0.58  0.33\n",
      "Non-Sporting      0.51  0.44       0.67      0.44  0.22\n",
      "Sporting          0.73  0.67       0.62      0.67  0.62\n",
      "Terrier           0.51  0.30       0.75      0.30  0.35\n",
      "Toy               0.40  0.62       0.25      0.56  0.69\n",
      "Working           0.60  0.45       0.73      0.41  0.36\n"
     ]
    },
    {
     "data": {
      "image/png": "[encoded data removed]",
      "text/plain": [
       "<Figure size 432x288 with 1 Axes>"
      ]
     },
     "metadata": {
      "needs_background": "light"
     },
     "output_type": "display_data"
    }
   ],
   "source": [
    "print('\\nAKC Mean')\n",
    "akc = akc_groups_attrib.groupby('AKC').mean().round(decimals=2)\n",
    "pprint(akc)\n",
    "# Plot the AKC grouping data\n",
    "plot_by_attrib(akc, lst, 'AKC Grouping')"
   ]
  },
  {
   "cell_type": "markdown",
   "metadata": {},
   "source": [
    "## Strip out NYC dirty values"
   ]
  },
  {
   "cell_type": "code",
   "execution_count": 9,
   "metadata": {
    "scrolled": true
   },
   "outputs": [
    {
     "data": {
      "text/html": [
       "<div>\n",
       "<style scoped>\n",
       "    .dataframe tbody tr th:only-of-type {\n",
       "        vertical-align: middle;\n",
       "    }\n",
       "\n",
       "    .dataframe tbody tr th {\n",
       "        vertical-align: top;\n",
       "    }\n",
       "\n",
       "    .dataframe thead th {\n",
       "        text-align: right;\n",
       "    }\n",
       "</style>\n",
       "<table border=\"1\" class=\"dataframe\">\n",
       "  <thead>\n",
       "    <tr style=\"text-align: right;\">\n",
       "      <th></th>\n",
       "      <th>RowNumber</th>\n",
       "      <th>AnimalName</th>\n",
       "      <th>AnimalGender</th>\n",
       "      <th>AnimalBirthMonth</th>\n",
       "      <th>BreedName</th>\n",
       "      <th>Borough</th>\n",
       "      <th>ZipCode</th>\n",
       "      <th>CommunityDistrict</th>\n",
       "      <th>CensusTract2010</th>\n",
       "      <th>NTA</th>\n",
       "      <th>CityCouncilDistrict</th>\n",
       "      <th>CongressionalDistrict</th>\n",
       "      <th>StateSenatorialDistrict</th>\n",
       "      <th>LicenseIssuedDate</th>\n",
       "      <th>LicenseExpiredDate</th>\n",
       "    </tr>\n",
       "  </thead>\n",
       "  <tbody>\n",
       "    <tr>\n",
       "      <th>0</th>\n",
       "      <td>1753.0</td>\n",
       "      <td>SHADOW</td>\n",
       "      <td>M</td>\n",
       "      <td>1/1/00 0:00</td>\n",
       "      <td>Beagle</td>\n",
       "      <td>Brooklyn</td>\n",
       "      <td>11236.0</td>\n",
       "      <td>318.0</td>\n",
       "      <td>1014.0</td>\n",
       "      <td>BK50</td>\n",
       "      <td>46.0</td>\n",
       "      <td>8.0</td>\n",
       "      <td>19.0</td>\n",
       "      <td>12/29/14</td>\n",
       "      <td>1/30/16</td>\n",
       "    </tr>\n",
       "    <tr>\n",
       "      <th>1</th>\n",
       "      <td>2415.0</td>\n",
       "      <td>ROCCO</td>\n",
       "      <td>M</td>\n",
       "      <td>10/1/11 0:00</td>\n",
       "      <td>Boxer</td>\n",
       "      <td>Brooklyn</td>\n",
       "      <td>11210.0</td>\n",
       "      <td>314.0</td>\n",
       "      <td>756.0</td>\n",
       "      <td>BK43</td>\n",
       "      <td>45.0</td>\n",
       "      <td>9.0</td>\n",
       "      <td>17.0</td>\n",
       "      <td>1/7/15</td>\n",
       "      <td>1/30/16</td>\n",
       "    </tr>\n",
       "    <tr>\n",
       "      <th>2</th>\n",
       "      <td>3328.0</td>\n",
       "      <td>LUIGI</td>\n",
       "      <td>M</td>\n",
       "      <td>9/1/05 0:00</td>\n",
       "      <td>Maltese</td>\n",
       "      <td>Bronx</td>\n",
       "      <td>10464.0</td>\n",
       "      <td>210.0</td>\n",
       "      <td>516.0</td>\n",
       "      <td>BX10</td>\n",
       "      <td>13.0</td>\n",
       "      <td>14.0</td>\n",
       "      <td>34.0</td>\n",
       "      <td>1/17/15</td>\n",
       "      <td>2/2/16</td>\n",
       "    </tr>\n",
       "    <tr>\n",
       "      <th>3</th>\n",
       "      <td>7537.0</td>\n",
       "      <td>PETUNIA</td>\n",
       "      <td>F</td>\n",
       "      <td>8/1/13 0:00</td>\n",
       "      <td>Pug</td>\n",
       "      <td>Brooklyn</td>\n",
       "      <td>11221.0</td>\n",
       "      <td>304.0</td>\n",
       "      <td>419.0</td>\n",
       "      <td>BK78</td>\n",
       "      <td>34.0</td>\n",
       "      <td>7.0</td>\n",
       "      <td>18.0</td>\n",
       "      <td>3/1/15</td>\n",
       "      <td>3/28/16</td>\n",
       "    </tr>\n",
       "    <tr>\n",
       "      <th>4</th>\n",
       "      <td>8487.0</td>\n",
       "      <td>ROMEO</td>\n",
       "      <td>M</td>\n",
       "      <td>10/1/08 0:00</td>\n",
       "      <td>Maltese</td>\n",
       "      <td>Bronx</td>\n",
       "      <td>10451.0</td>\n",
       "      <td>201.0</td>\n",
       "      <td>65.0</td>\n",
       "      <td>BX34</td>\n",
       "      <td>17.0</td>\n",
       "      <td>15.0</td>\n",
       "      <td>32.0</td>\n",
       "      <td>3/9/15</td>\n",
       "      <td>3/9/16</td>\n",
       "    </tr>\n",
       "  </tbody>\n",
       "</table>\n",
       "</div>"
      ],
      "text/plain": [
       "   RowNumber AnimalName AnimalGender AnimalBirthMonth BreedName   Borough  \\\n",
       "0     1753.0    SHADOW             M      1/1/00 0:00    Beagle  Brooklyn   \n",
       "1     2415.0      ROCCO            M     10/1/11 0:00     Boxer  Brooklyn   \n",
       "2     3328.0      LUIGI            M      9/1/05 0:00   Maltese     Bronx   \n",
       "3     7537.0    PETUNIA            F      8/1/13 0:00       Pug  Brooklyn   \n",
       "4     8487.0      ROMEO            M     10/1/08 0:00   Maltese     Bronx   \n",
       "\n",
       "   ZipCode  CommunityDistrict  CensusTract2010   NTA  CityCouncilDistrict  \\\n",
       "0  11236.0              318.0           1014.0  BK50                 46.0   \n",
       "1  11210.0              314.0            756.0  BK43                 45.0   \n",
       "2  10464.0              210.0            516.0  BX10                 13.0   \n",
       "3  11221.0              304.0            419.0  BK78                 34.0   \n",
       "4  10451.0              201.0             65.0  BX34                 17.0   \n",
       "\n",
       "   CongressionalDistrict  StateSenatorialDistrict LicenseIssuedDate  \\\n",
       "0                    8.0                     19.0          12/29/14   \n",
       "1                    9.0                     17.0            1/7/15   \n",
       "2                   14.0                     34.0           1/17/15   \n",
       "3                    7.0                     18.0            3/1/15   \n",
       "4                   15.0                     32.0            3/9/15   \n",
       "\n",
       "  LicenseExpiredDate  \n",
       "0            1/30/16  \n",
       "1            1/30/16  \n",
       "2             2/2/16  \n",
       "3            3/28/16  \n",
       "4             3/9/16  "
      ]
     },
     "execution_count": 9,
     "metadata": {},
     "output_type": "execute_result"
    }
   ],
   "source": [
    "nyc_registry['Borough'] = nyc_registry['Borough'].map(lambda x: None if x not in {'Brooklyn', 'Bronx', 'Staten Island', 'Manhattan', 'Queens'} else x)\n",
    "nyc_registry.replace(to_replace='Unknown',value=np.nan, inplace=True)\n",
    "nyc_registry.replace(to_replace='American Pit Bull Mix / Pit Bull Mix',value='Pit Bull Mix', inplace=True)\n",
    "nyc_registry.replace(to_replace='American Pit Bull Terrier/Pit Bull',value='American Staffordshire Terrier', inplace=True)\n",
    "nyc_registry.dropna(inplace=True)\n",
    "nyc_registry.head()"
   ]
  },
  {
   "cell_type": "markdown",
   "metadata": {},
   "source": [
    "## NYC dog attributes and breeds"
   ]
  },
  {
   "cell_type": "code",
   "execution_count": 106,
   "metadata": {},
   "outputs": [
    {
     "name": "stdout",
     "output_type": "stream",
     "text": [
      "                Calm  Trainable  Sociable   Bold\n",
      "Borough                                         \n",
      "Bronx           6516       6516      6516   6516\n",
      "Brooklyn       13996      13996     13996  13996\n",
      "Manhattan      19680      19680     19680  19680\n",
      "Queens         11741      11741     11741  11741\n",
      "Staten Island   5201       5201      5201   5201\n"
     ]
    }
   ],
   "source": [
    "nyc_attrib = nyc_registry.set_index('BreedName').join(attrib, how='left')\n",
    "nyc_attrib = nyc_attrib[['Borough','Calm', 'Trainable', 'Sociable', 'Bold']]\n",
    "nyc_attrib_g = nyc_attrib.groupby('Borough')\n",
    "pprint(nyc_attrib_g.count())"
   ]
  },
  {
   "cell_type": "code",
   "execution_count": 107,
   "metadata": {},
   "outputs": [
    {
     "data": {
      "text/html": [
       "<div>\n",
       "<style scoped>\n",
       "    .dataframe tbody tr th:only-of-type {\n",
       "        vertical-align: middle;\n",
       "    }\n",
       "\n",
       "    .dataframe tbody tr th {\n",
       "        vertical-align: top;\n",
       "    }\n",
       "\n",
       "    .dataframe thead th {\n",
       "        text-align: right;\n",
       "    }\n",
       "</style>\n",
       "<table border=\"1\" class=\"dataframe\">\n",
       "  <thead>\n",
       "    <tr style=\"text-align: right;\">\n",
       "      <th></th>\n",
       "      <th>NYC_NormalizedCount</th>\n",
       "      <th>NYC_Count</th>\n",
       "    </tr>\n",
       "  </thead>\n",
       "  <tbody>\n",
       "    <tr>\n",
       "      <th>Yorkshire Terrier</th>\n",
       "      <td>0.073294</td>\n",
       "      <td>7412</td>\n",
       "    </tr>\n",
       "    <tr>\n",
       "      <th>Shih Tzu</th>\n",
       "      <td>0.067588</td>\n",
       "      <td>6835</td>\n",
       "    </tr>\n",
       "    <tr>\n",
       "      <th>Chihuahua</th>\n",
       "      <td>0.054931</td>\n",
       "      <td>5555</td>\n",
       "    </tr>\n",
       "    <tr>\n",
       "      <th>Maltese</th>\n",
       "      <td>0.040711</td>\n",
       "      <td>4117</td>\n",
       "    </tr>\n",
       "    <tr>\n",
       "      <th>Labrador Retriever</th>\n",
       "      <td>0.040098</td>\n",
       "      <td>4055</td>\n",
       "    </tr>\n",
       "  </tbody>\n",
       "</table>\n",
       "</div>"
      ],
      "text/plain": [
       "                    NYC_NormalizedCount  NYC_Count\n",
       "Yorkshire Terrier              0.073294       7412\n",
       "Shih Tzu                       0.067588       6835\n",
       "Chihuahua                      0.054931       5555\n",
       "Maltese                        0.040711       4117\n",
       "Labrador Retriever             0.040098       4055"
      ]
     },
     "execution_count": 107,
     "metadata": {},
     "output_type": "execute_result"
    }
   ],
   "source": [
    "nyc_breeds = nyc_registry[['Borough', 'BreedName']]\n",
    "nyc_breeds_count = pd.DataFrame(nyc_breeds['BreedName'].value_counts(normalize=True))\n",
    "nyc_breeds_count.rename(columns={'index': 'Breed', 'BreedName':'NYC_NormalizedCount'}, inplace=True)\n",
    "nyc_breeds_count['NYC_Count']= nyc_breeds['BreedName'].value_counts(normalize=False)\n",
    "nyc_breeds_count.head()"
   ]
  },
  {
   "cell_type": "markdown",
   "metadata": {},
   "source": [
    "## Seattle dog attributes and breeds"
   ]
  },
  {
   "cell_type": "code",
   "execution_count": 100,
   "metadata": {
    "scrolled": false
   },
   "outputs": [
    {
     "data": {
      "text/html": [
       "<div>\n",
       "<style scoped>\n",
       "    .dataframe tbody tr th:only-of-type {\n",
       "        vertical-align: middle;\n",
       "    }\n",
       "\n",
       "    .dataframe tbody tr th {\n",
       "        vertical-align: top;\n",
       "    }\n",
       "\n",
       "    .dataframe thead th {\n",
       "        text-align: right;\n",
       "    }\n",
       "</style>\n",
       "<table border=\"1\" class=\"dataframe\">\n",
       "  <thead>\n",
       "    <tr style=\"text-align: right;\">\n",
       "      <th></th>\n",
       "      <th>Seattle_NormalizedCount</th>\n",
       "      <th>Seattle_Count</th>\n",
       "    </tr>\n",
       "  </thead>\n",
       "  <tbody>\n",
       "    <tr>\n",
       "      <th>Labrador Retriever</th>\n",
       "      <td>0.139025</td>\n",
       "      <td>2534</td>\n",
       "    </tr>\n",
       "    <tr>\n",
       "      <th>Golden Retriever</th>\n",
       "      <td>0.061886</td>\n",
       "      <td>1128</td>\n",
       "    </tr>\n",
       "    <tr>\n",
       "      <th>Chihuahua</th>\n",
       "      <td>0.054205</td>\n",
       "      <td>988</td>\n",
       "    </tr>\n",
       "    <tr>\n",
       "      <th>German Shepherd</th>\n",
       "      <td>0.030120</td>\n",
       "      <td>549</td>\n",
       "    </tr>\n",
       "    <tr>\n",
       "      <th>Miniature Poodle</th>\n",
       "      <td>0.025896</td>\n",
       "      <td>472</td>\n",
       "    </tr>\n",
       "  </tbody>\n",
       "</table>\n",
       "</div>"
      ],
      "text/plain": [
       "                    Seattle_NormalizedCount  Seattle_Count\n",
       "Labrador Retriever                 0.139025           2534\n",
       "Golden Retriever                   0.061886           1128\n",
       "Chihuahua                          0.054205            988\n",
       "German Shepherd                    0.030120            549\n",
       "Miniature Poodle                   0.025896            472"
      ]
     },
     "execution_count": 100,
     "metadata": {},
     "output_type": "execute_result"
    }
   ],
   "source": [
    "# Add attributes to data set\n",
    "seattle_attrib = seattle_registry[pd.isnull(seattle_registry['Secondary Breed'])]\n",
    "seattle_attrib = seattle_registry.set_index('Primary Breed').join(attrib, how='left')\n",
    "\n",
    "# Isolate breeds\n",
    "seattle_breeds = seattle_registry[['Primary Breed']]\n",
    "seattle_breeds_count = pd.DataFrame(seattle_breeds['Primary Breed'].value_counts(normalize=True))\n",
    "seattle_breeds_count.rename(columns={'index': 'Breed', 'Primary Breed':'Seattle_NormalizedCount'}, inplace=True)\n",
    "# seattle_breeds_count['Count']= seattle_breeds['Primary Breed'].value_counts(normalize=False)\n",
    "seattle_breeds_count['Seattle_Count']= seattle_breeds['Primary Breed'].value_counts(normalize=False)\n",
    "# seattle_breeds_count['City']= [\"Seattle\"] * len(seattle_breeds_count)\n",
    "seattle_breeds_count.head()"
   ]
  },
  {
   "cell_type": "markdown",
   "metadata": {},
   "source": [
    "## Adelaide dog attributes and breeds"
   ]
  },
  {
   "cell_type": "code",
   "execution_count": 101,
   "metadata": {},
   "outputs": [
    {
     "data": {
      "text/html": [
       "<div>\n",
       "<style scoped>\n",
       "    .dataframe tbody tr th:only-of-type {\n",
       "        vertical-align: middle;\n",
       "    }\n",
       "\n",
       "    .dataframe tbody tr th {\n",
       "        vertical-align: top;\n",
       "    }\n",
       "\n",
       "    .dataframe thead th {\n",
       "        text-align: right;\n",
       "    }\n",
       "</style>\n",
       "<table border=\"1\" class=\"dataframe\">\n",
       "  <thead>\n",
       "    <tr style=\"text-align: right;\">\n",
       "      <th></th>\n",
       "      <th>Adelaide_NormalizedCount</th>\n",
       "      <th>Adelaide_Count</th>\n",
       "    </tr>\n",
       "  </thead>\n",
       "  <tbody>\n",
       "    <tr>\n",
       "      <th>Maltese</th>\n",
       "      <td>0.108069</td>\n",
       "      <td>1737</td>\n",
       "    </tr>\n",
       "    <tr>\n",
       "      <th>Staffordshire Bull Terrier</th>\n",
       "      <td>0.062278</td>\n",
       "      <td>1001</td>\n",
       "    </tr>\n",
       "    <tr>\n",
       "      <th>Labrador Retriever</th>\n",
       "      <td>0.058608</td>\n",
       "      <td>942</td>\n",
       "    </tr>\n",
       "    <tr>\n",
       "      <th>Jack Russell Terrier</th>\n",
       "      <td>0.056679</td>\n",
       "      <td>911</td>\n",
       "    </tr>\n",
       "    <tr>\n",
       "      <th>Chihuahua</th>\n",
       "      <td>0.043551</td>\n",
       "      <td>700</td>\n",
       "    </tr>\n",
       "  </tbody>\n",
       "</table>\n",
       "</div>"
      ],
      "text/plain": [
       "                            Adelaide_NormalizedCount  Adelaide_Count\n",
       "Maltese                                     0.108069            1737\n",
       "Staffordshire Bull Terrier                  0.062278            1001\n",
       "Labrador Retriever                          0.058608             942\n",
       "Jack Russell Terrier                        0.056679             911\n",
       "Chihuahua                                   0.043551             700"
      ]
     },
     "execution_count": 101,
     "metadata": {},
     "output_type": "execute_result"
    }
   ],
   "source": [
    "# Add attributes to data set\n",
    "adelaide_attrib = adelaide_registry.set_index('AnimalBreed').join(attrib, how='left')\n",
    "\n",
    "# Isolate breeds\n",
    "adelaide_breeds = adelaide_registry[['AnimalBreed']]\n",
    "adelaide_breeds_count = pd.DataFrame(adelaide_breeds['AnimalBreed'].value_counts(normalize=True))\n",
    "adelaide_breeds_count.rename(columns={'index': 'Breed', 'AnimalBreed':'Adelaide_NormalizedCount'}, inplace=True)\n",
    "# adelaide_breeds_count['Count']= adelaide_breeds['AnimalBreed'].value_counts(normalize=False)\n",
    "adelaide_breeds_count['Adelaide_Count']= adelaide_breeds['AnimalBreed'].value_counts(normalize=False)\n",
    "# adelaide_breeds_count['City']= ['Adelaide'] * len(adelaide_breeds_count)\n",
    "adelaide_breeds_count.head()"
   ]
  },
  {
   "cell_type": "markdown",
   "metadata": {},
   "source": [
    "## Edmonton dog attributes and breeds"
   ]
  },
  {
   "cell_type": "code",
   "execution_count": 102,
   "metadata": {},
   "outputs": [
    {
     "data": {
      "text/html": [
       "<div>\n",
       "<style scoped>\n",
       "    .dataframe tbody tr th:only-of-type {\n",
       "        vertical-align: middle;\n",
       "    }\n",
       "\n",
       "    .dataframe tbody tr th {\n",
       "        vertical-align: top;\n",
       "    }\n",
       "\n",
       "    .dataframe thead th {\n",
       "        text-align: right;\n",
       "    }\n",
       "</style>\n",
       "<table border=\"1\" class=\"dataframe\">\n",
       "  <thead>\n",
       "    <tr style=\"text-align: right;\">\n",
       "      <th></th>\n",
       "      <th>Edmonton_NormalizedCount</th>\n",
       "      <th>Edmonton_Count</th>\n",
       "    </tr>\n",
       "  </thead>\n",
       "  <tbody>\n",
       "    <tr>\n",
       "      <th>Labrador Retriever</th>\n",
       "      <td>0.091606</td>\n",
       "      <td>5426</td>\n",
       "    </tr>\n",
       "    <tr>\n",
       "      <th>Shih Tzu</th>\n",
       "      <td>0.080176</td>\n",
       "      <td>4749</td>\n",
       "    </tr>\n",
       "    <tr>\n",
       "      <th>German Shepherd</th>\n",
       "      <td>0.063006</td>\n",
       "      <td>3732</td>\n",
       "    </tr>\n",
       "    <tr>\n",
       "      <th>Chihuahua</th>\n",
       "      <td>0.044841</td>\n",
       "      <td>2656</td>\n",
       "    </tr>\n",
       "    <tr>\n",
       "      <th>Border Collie</th>\n",
       "      <td>0.040164</td>\n",
       "      <td>2379</td>\n",
       "    </tr>\n",
       "  </tbody>\n",
       "</table>\n",
       "</div>"
      ],
      "text/plain": [
       "                    Edmonton_NormalizedCount  Edmonton_Count\n",
       "Labrador Retriever                  0.091606            5426\n",
       "Shih Tzu                            0.080176            4749\n",
       "German Shepherd                     0.063006            3732\n",
       "Chihuahua                           0.044841            2656\n",
       "Border Collie                       0.040164            2379"
      ]
     },
     "execution_count": 102,
     "metadata": {},
     "output_type": "execute_result"
    }
   ],
   "source": [
    "# Add attributes to data set\n",
    "edmonton_attrib = edmonton_registry.set_index('BREED').join(attrib, how='left')\n",
    "\n",
    "# Isolate breeds\n",
    "edmonton_breeds = edmonton_registry[['BREED']]\n",
    "edmonton_breeds_count = pd.DataFrame(edmonton_breeds['BREED'].value_counts(normalize=True))\n",
    "edmonton_breeds_count.rename(columns={'index': 'Breed', 'BREED':'Edmonton_NormalizedCount'}, inplace=True)\n",
    "# edmonton_breeds_count['Count']= edmonton_breeds['BREED'].value_counts(normalize=False)\n",
    "edmonton_breeds_count['Edmonton_Count']= edmonton_breeds['BREED'].value_counts(normalize=False)\n",
    "# edmonton_breeds_count['City'] = [\"Edmonton\"] * len(edmonton_breeds_count)\n",
    "edmonton_breeds_count.head()"
   ]
  },
  {
   "cell_type": "markdown",
   "metadata": {},
   "source": [
    "## Coordinates for each city"
   ]
  },
  {
   "cell_type": "code",
   "execution_count": 18,
   "metadata": {},
   "outputs": [],
   "source": [
    "coords = pd.DataFrame({\n",
    "    'City': {0: 'NYC', 1: 'Seattle', 2: 'Edmonton', 3: 'Adelaide'}, \n",
    "    'lat': {0: 40.7, 1: 47.6, 2: 53.5, 3: -34.9}, \n",
    "    'lon': {0: -74.0, 1: -122.3, 2: -113.5, 3: 138.6},\n",
    "#     'radius': {0:20, 1:20, 2:20, 3:20}\n",
    "})"
   ]
  },
  {
   "cell_type": "markdown",
   "metadata": {},
   "source": [
    "## Create combined breeds data set"
   ]
  },
  {
   "cell_type": "code",
   "execution_count": 103,
   "metadata": {},
   "outputs": [
    {
     "data": {
      "text/html": [
       "<div>\n",
       "<style scoped>\n",
       "    .dataframe tbody tr th:only-of-type {\n",
       "        vertical-align: middle;\n",
       "    }\n",
       "\n",
       "    .dataframe tbody tr th {\n",
       "        vertical-align: top;\n",
       "    }\n",
       "\n",
       "    .dataframe thead th {\n",
       "        text-align: right;\n",
       "    }\n",
       "</style>\n",
       "<table border=\"1\" class=\"dataframe\">\n",
       "  <thead>\n",
       "    <tr style=\"text-align: right;\">\n",
       "      <th></th>\n",
       "      <th>Breed</th>\n",
       "      <th>City</th>\n",
       "      <th>Count</th>\n",
       "      <th>NormalizedCount</th>\n",
       "      <th>lat</th>\n",
       "      <th>lon</th>\n",
       "    </tr>\n",
       "  </thead>\n",
       "  <tbody>\n",
       "    <tr>\n",
       "      <th>0</th>\n",
       "      <td>Abyssinian</td>\n",
       "      <td>Adelaide</td>\n",
       "      <td>0.0</td>\n",
       "      <td>0.000000</td>\n",
       "      <td>-34.9</td>\n",
       "      <td>138.6</td>\n",
       "    </tr>\n",
       "    <tr>\n",
       "      <th>1</th>\n",
       "      <td>Affen Pinscher</td>\n",
       "      <td>Adelaide</td>\n",
       "      <td>0.0</td>\n",
       "      <td>0.000000</td>\n",
       "      <td>-34.9</td>\n",
       "      <td>138.6</td>\n",
       "    </tr>\n",
       "    <tr>\n",
       "      <th>2</th>\n",
       "      <td>Affenpinscher</td>\n",
       "      <td>Adelaide</td>\n",
       "      <td>0.0</td>\n",
       "      <td>0.000000</td>\n",
       "      <td>-34.9</td>\n",
       "      <td>138.6</td>\n",
       "    </tr>\n",
       "    <tr>\n",
       "      <th>3</th>\n",
       "      <td>Afghan</td>\n",
       "      <td>Adelaide</td>\n",
       "      <td>3.0</td>\n",
       "      <td>0.000187</td>\n",
       "      <td>-34.9</td>\n",
       "      <td>138.6</td>\n",
       "    </tr>\n",
       "    <tr>\n",
       "      <th>4</th>\n",
       "      <td>Afghan Hound</td>\n",
       "      <td>Adelaide</td>\n",
       "      <td>0.0</td>\n",
       "      <td>0.000000</td>\n",
       "      <td>-34.9</td>\n",
       "      <td>138.6</td>\n",
       "    </tr>\n",
       "  </tbody>\n",
       "</table>\n",
       "</div>"
      ],
      "text/plain": [
       "            Breed      City  Count  NormalizedCount   lat    lon\n",
       "0      Abyssinian  Adelaide    0.0         0.000000 -34.9  138.6\n",
       "1  Affen Pinscher  Adelaide    0.0         0.000000 -34.9  138.6\n",
       "2   Affenpinscher  Adelaide    0.0         0.000000 -34.9  138.6\n",
       "3          Afghan  Adelaide    3.0         0.000187 -34.9  138.6\n",
       "4    Afghan Hound  Adelaide    0.0         0.000000 -34.9  138.6"
      ]
     },
     "execution_count": 103,
     "metadata": {},
     "output_type": "execute_result"
    }
   ],
   "source": [
    "# combined_breeds = pd.merge((pd.merge(nyc_breeds_count.reset_index(), seattle_breeds_count.reset_index(), how= 'outer')), (pd.merge(edmonton_breeds_count.reset_index(), adelaide_breeds_count.reset_index(), how= 'outer')), how='outer')\n",
    "\n",
    "combined_breeds = pd.concat([nyc_breeds_count, seattle_breeds_count, edmonton_breeds_count, adelaide_breeds_count], axis =1).reset_index()\n",
    "# combined_breeds.rename(columns={'index': 'Breed', 'BreedName':'New York', 'Primary Breed':'Seattle', 'BREED':'Edmonton', 'AnimalBreed':'Adelaide'}, inplace=True)\n",
    "combined_breeds.rename(columns={'index': 'Breed'}, inplace=True)\n",
    "\n",
    "\n",
    "combined_breeds = combined_breeds.melt(id_vars=['Breed'], var_name = ['City'], value_name = 'Value')\n",
    "combined_breeds['Count']= combined_breeds['City'].str.split('_').str[1]\n",
    "combined_breeds['City']= combined_breeds['City'].str.split('_').str[0]\n",
    "combined_breeds['Value'] = combined_breeds['Value'].fillna(value = 0)\n",
    "combined_breeds = combined_breeds.pivot_table(index = ['Breed', 'City'], columns = 'Count', values = 'Value').reset_index()\n",
    "# combined_breeds_coords = combined_breeds.merge(coords, on = 'City')\n",
    "combined_breeds_coords = combined_breeds.merge(coords, on = 'City')\n",
    "combined_breeds_coords.head()"
   ]
  },
  {
   "cell_type": "markdown",
   "metadata": {},
   "source": [
    "## Breed selection "
   ]
  },
  {
   "cell_type": "code",
   "execution_count": 29,
   "metadata": {},
   "outputs": [
    {
     "name": "stdout",
     "output_type": "stream",
     "text": [
      "['Abyssinian' 'Affen Pinscher' 'Affenpinscher' 'Afghan' 'Afghan Hound'\n",
      " 'Afghan Hound Crossbreed' 'Airedale Terrier' 'Akbash' 'Akita'\n",
      " 'Akita Crossbreed' 'Alapaha Blue Blood Bulldog' 'Alaskan Husky'\n",
      " 'Alaskan Klee Kai' 'Alaskan Malamute' 'Alsatian' 'American Blue Heeler'\n",
      " 'American Bobtail' 'American Bull Mastiff' 'American Bulldog'\n",
      " 'American Bully' 'American Cocker Spaniel' 'American Curl (Short Hair)'\n",
      " 'American English Coonhound' 'American Eskimo'\n",
      " 'American Eskimo (Miniature)' 'American Eskimo (Toy)'\n",
      " 'American Eskimo dog' 'American Foxhound' 'American Hairless Terrier'\n",
      " 'American Indian Dog' 'American Leopard Hound'\n",
      " 'American Pit Bull Terrier' 'American Spoodle'\n",
      " 'American Staffordshire Bull Terrier' 'American Staffordshire Terrier'\n",
      " 'American Staffordshire Terrier ' 'American Water Spaniel'\n",
      " 'American Wirehair' 'Anatolian Shepherd' 'Anatolian Shepherd Dog'\n",
      " 'Anotolian Shepherd' 'Argentine Dogo' 'Australian Bulldog'\n",
      " 'Australian Cattle Dog' 'Australian Cattledog' 'Australian Kelpie'\n",
      " 'Australian Sheepdog' 'Australian Shepherd' 'Australian Silky Terrier'\n",
      " 'Australian Terrier' 'Barbet' 'Basenji' 'Basset Hound' 'Bassett Hound'\n",
      " 'Beagle' 'Beagle Crossbreed' 'Bearded Collie' 'Beauceron'\n",
      " 'Bedlington Terrier' 'Belgian Griffon' 'Belgian Malinois'\n",
      " 'Belgian Sheepdog' 'Belgian Shepherd' 'Belgian Tervuren'\n",
      " 'Berger Des Pyrenees' 'Berger Picard' 'Berger des Pyrenees'\n",
      " 'Bernese Mountain Dog' 'Bichon Frise' 'Bichon Frise Crossbreed'\n",
      " 'Biewer Terrier' 'Black Russian Terrier' 'Black and Tan Coonhound'\n",
      " 'Black-Mouth Cur' 'Bloodhound' 'Bloodhound Crossbreed' 'Blue Heeler'\n",
      " 'Bluetick Coonhound' 'Boerboel' 'Bolognese' 'Border Collie'\n",
      " 'Border Collie Crossbreed' 'Border Terrier' 'Borzoi' 'Boston Terrier'\n",
      " 'Bouvier Des Flandres' 'Bouvier des Flandres' 'Boxer' 'Boxer Crossbreed'\n",
      " 'Boykin Spaniel' 'Bracco Italiano' 'Braque Francais Pyrenees'\n",
      " 'Brazilian Mastiff' 'Briard' 'British Bulldog' 'Brittany'\n",
      " 'Brittany Spaniel' 'Brussels Griffon' 'Bull Arab' 'Bull Dog, American'\n",
      " 'Bull Dog, English' 'Bull Dog, French' 'Bull Mastiff' 'Bull Terrier'\n",
      " 'Bull Terrier (Miniature)' 'Bulldog' 'Bullmastiff' 'Burmese'\n",
      " 'Cairn Terrier' 'Canaan' 'Canaan Dog' 'Canadian Eskimo Dog' 'Cane Corso'\n",
      " 'Cardigan Corgi' 'Cardigan Welsh Corgi' 'Carolina Dog'\n",
      " 'Catahoula Leopard Dog' 'Catahoula Leopard dog' 'Cattle Dog'\n",
      " 'Cavalier King Charles Spaniel' 'Cavoodle' 'Cesky Terrier'\n",
      " 'Chesapeake Bay Retriever' 'Chihuahua' 'Chihuahua - Long Haired'\n",
      " 'Chihuahua - Smooth Coat' 'Chihuahua Crossbreed' 'Chinese Crested'\n",
      " 'Chinese Shar-Pei' 'Chinook' 'Chow Chow' 'Cirneco dell'\n",
      " 'Cirneco dell Etna' 'Clumber Spaniel' 'Cocker Spaniel'\n",
      " 'Cocker Spaniel Crossbreed' 'Collie' 'Collie - Rough' 'Collie - Smooth'\n",
      " 'Collie Crossbreed' 'Collie, Bearded ' 'Collie, Border'\n",
      " 'Collie, Rough Coat' 'Collie, Smooth Coat' 'Coonhound'\n",
      " 'Coonhound, American English' 'Coonhound, Black and Tan'\n",
      " 'Coonhound, Blue Tick' 'Coonhound, Bluetick' 'Coonhound, Redbone'\n",
      " 'Coonhound, Treeing Walker' 'Corgi' 'Coton De Tulear' 'Coton de Tulear'\n",
      " 'Cotton De Tulear' 'Croatian Sheepdog' 'Cross Breed' 'Crossbreed (Large)'\n",
      " 'Crossbreed (Medium)' 'Crossbreed (Small)' 'Cur, Mountain'\n",
      " 'Curly Coated Retriever' 'Curly-Coated Retriever' 'Dachshund'\n",
      " 'Dachshund (Miniature Long Haired)' 'Dachshund (Miniature Smooth Haired)'\n",
      " 'Dachshund (Miniature Wire Haired)' 'Dachshund (Standard Long Haired)'\n",
      " 'Dachshund (Standard Smooth Haired)' 'Dachshund (Standard Wire Haired)'\n",
      " 'Dachshund Crossbreed' 'Dachshund Smooth Coat'\n",
      " 'Dachshund Smooth Coat Miniature' 'Dachshund, Long Haired'\n",
      " 'Dachshund, Long Haired Miniature' 'Dachshund, Miniature Wire Haired'\n",
      " 'Dachshund, Wirehaired' 'Dachshund, Wirehaired, Miniature' 'Dalmatian'\n",
      " 'Dalmation' 'Dandie Dinmont Terrier' 'Deerhound' 'Deerhound, Scottish'\n",
      " 'Doberman' 'Doberman Pinscher' 'Dogo Argentino' 'Dogue De Bordeaux'\n",
      " 'Dogue de Bordeaux' 'Dutch Sheepdog' 'Dutch Shepherd' 'Dutch Smoushond'\n",
      " 'English Black And Tan Terrier' 'English Bulldog'\n",
      " 'English Cocker Spaniel' 'English Coonhound' 'English Foxhound'\n",
      " 'English Mastiff' 'English Pointer' 'English Setter' 'English Sheepdog'\n",
      " 'English Shepherd' 'English Spaniel' 'English Spaniel (Toy)'\n",
      " 'English Springer Spaniel' 'English Staffordshire Bull Terrier'\n",
      " 'English Staffordshire Terrier' 'English Terrier (Toy)'\n",
      " 'English Toy Spaniel' 'English Toy Terrier' 'Entlebucher Mountain Dog'\n",
      " 'Eurasier' 'European Short Hair' 'Exotic (Short Hair)' 'Feist'\n",
      " 'Field Spaniel' 'Fila Brasileiro' 'Finnish Lapphund' 'Finnish Spitz'\n",
      " 'Flat Coated Retriever' 'Flat-Coated Retriever' 'Foreign'\n",
      " 'Foreign (Short Hair)' 'Fox Terrier' 'Fox Terrier (Smooth)'\n",
      " 'Fox Terrier (Wire Haired)' 'Foxhound' 'French Brittany' 'French Bulldog'\n",
      " 'French Mastiff' 'French Spaniel' 'German Coolie'\n",
      " 'German Long Haired Pointer' 'German Longhaired Pointer'\n",
      " 'German Pinscher' 'German Rex' 'German Shepherd'\n",
      " 'German Shepherd - Long Haired' 'German Shepherd Crossbreed'\n",
      " 'German Shepherd Dog' 'German Short Haired Pointer'\n",
      " 'German Shorthaired Pointer' 'German Spitz' 'German Wire Haired Pointer'\n",
      " 'German Wirehaired Pointer' 'Giant Schnauzer' 'Glen of Imaal Terrier'\n",
      " 'Golden Retriever' 'Goldendoodle' 'Gordon Setter'\n",
      " 'Grand Basset Griffon Vendeen' 'Great Dane' 'Great Pyrenees'\n",
      " 'Greater Swiss Mountain Dog' 'Greenland Dog' 'Greyhound'\n",
      " 'Griffon Bruxellois' 'Griffon Vendeen, Petit Basset' 'Groodle'\n",
      " 'Hamiltonstovare' 'Harrier' 'Havana Brown' 'Havanese' 'Heeler'\n",
      " 'Hermes Bulldog' 'Hound' 'Hovawart' 'Hungarian Mudi' 'Hungarian Viszla'\n",
      " 'Husky' 'Ibizan Hound' 'Iceland Sheepdog' 'Icelandic Sheepdog'\n",
      " 'Irish Red And White Setter' 'Irish Red and White Setter' 'Irish Setter'\n",
      " 'Irish Setter Red and White' 'Irish Terrier' 'Irish Water Spaniel'\n",
      " 'Irish Wolfhound' 'Italian Greyhound' 'Italian Spitz'\n",
      " 'Jack Russell Terrier' 'Japanese Chin' 'Japanese Chin/Spaniel'\n",
      " 'Japanese Spaniel' 'Japanese Spitz' 'Jin-Do' 'Jindo' 'Jindo Dog, Korea'\n",
      " 'Kai Ken' 'Kangal' 'Karelian Bear Dog' 'Keeshond' 'Kelpie'\n",
      " 'Kerry Blue Terrier' 'King German Shepherd' 'Kleiner Munsterlander'\n",
      " 'Komondor' 'Kooikerhondje' 'Korean Jindo' 'Kromfohrlander' 'Kuvasz'\n",
      " 'Labradoodle' 'Labrador Retriever' 'Labrador Retriever Crossbreed' 'Lacy'\n",
      " 'Lagotto Romagnolo' 'Lakeland Terrier' 'Lancashire Heeler'\n",
      " 'Large Munsterlander' 'Leonberger' 'Lhasa Apso' 'Lowchen' 'Malinois'\n",
      " 'Maltalier' 'Maltese' 'Maltese Crossbreed' 'Maltese Terrier' 'Maltipoo'\n",
      " 'Manchester Terrier' 'Manchester Terrier (Toy)' 'Maremma'\n",
      " 'Maremma Sheepdog' 'Mastiff' 'Mastiff, Bull'\n",
      " 'Mastiff, French (Dogue de Bordeaux)' 'Mastiff, Neapolitan'\n",
      " 'Mastiff, Old English' 'Mastiff, Tibetan' 'McNab Herding Dog'\n",
      " 'Mexican Hairless' 'Miniature American Shepherd'\n",
      " 'Miniature Australian Shepherd' 'Miniature Bull Terrier'\n",
      " 'Miniature Fox Terrier' 'Miniature Long Haired Dachshund'\n",
      " 'Miniature Pinscher' 'Miniature Poodle' 'Miniature Schnauzer'\n",
      " 'Miniature Wire Haired Dachshund' 'Moodle' 'Morkie' 'Mudi'\n",
      " 'Munsterlander' 'Munsterlander - Large' 'Munsterlander,Small'\n",
      " 'Neapolitan Mastiff' 'New Zealand Huntaway' 'Newfoundland'\n",
      " 'Norfolk Terrier' 'Norwegian Buhund' 'Norwegian Elk Hound'\n",
      " 'Norwegian Elkhound' 'Norwegian Lundehund' 'Norwich Terrier'\n",
      " 'Nova Scotia Duck Tolling Retriever' 'Old English Sheepdog'\n",
      " 'Olde English Bulldogge' 'Otterhound' 'Papillion' 'Papillon'\n",
      " 'Parson Russell Terrier' 'Pekingese' 'Pembroke Corgi'\n",
      " 'Pembroke Welsh Corgi' 'Pembroke Welsh Corgi Crossbreed'\n",
      " 'Perdiguero Gallego' 'Perro de Presa Canario' 'Peruvian Inca Orchid'\n",
      " 'Petit Basset Griffon Vendeen' 'Pharaoh Hound' 'Pharoh hound'\n",
      " 'Picardy Sheepdog' 'Pinscher' 'Pinscher (Miniature)' 'Pit Bull Mix'\n",
      " 'Pit Bull Terrier' 'Plott' 'Plott Hound' 'Podenco Canario'\n",
      " 'Podenco Gallego' 'Pointer' 'Pointer, German Shorthaired'\n",
      " 'Pointer, German Wirehaired' 'Polish Hound' 'Polish Lowland Sheepdog'\n",
      " 'Pomeranian' 'Pomeranian Crossbreed' 'Poodle' 'Poodle (Miniature)'\n",
      " 'Poodle (Toy)' 'Poodle - Standard' 'Poodle - Toy' 'Poodle Crossbreed'\n",
      " 'Poodle, Miniature' 'Poodle, Standard' 'Poodle, Toy'\n",
      " 'Portuguese Podengo Pequeno' 'Portuguese Sheepdog' 'Portuguese Water Dog'\n",
      " 'Pudelpointer' 'Pug' 'Pug Crossbreed' 'Pugalier' 'Puggle' 'Puli' 'Pumi'\n",
      " 'Pyrenean Mountain Dog' 'Pyrenean Shepherd' 'Rat Terrier'\n",
      " 'Rat Terrier Crossbreed' 'Red Heeler' 'Redbone Coonhound' 'Retriever'\n",
      " 'Retriever - Curly Coated' 'Retriever, Nova Scotia Duck Tolling'\n",
      " 'Rhodesian Ridgeback' 'Rottweiler' 'Rottweiler Crossbreed' 'Rough Collie'\n",
      " 'Russell Terrier' 'Russian Toy' 'Russian Wolfhound' 'Saarloos Wolfdog'\n",
      " 'Saint Bernard' 'Saluki' 'Samoyed' 'Schipperke' 'Schipperkee' 'Schnauzer'\n",
      " 'Schnauzer (Giant)' 'Schnauzer (Miniature)' 'Schnauzer Crossbreed'\n",
      " 'Schnauzer, Giant' 'Schnauzer, Miniature'\n",
      " 'Schnauzer, Miniature Crossbreed' 'Schnauzer, Standard' 'Schnoodle'\n",
      " 'Scotch Collie' 'Scotch Terrier' 'Scottish Deerhound' 'Scottish Terrier'\n",
      " 'Sealyham Terrier' 'Shar Pei' 'Shar-Pei, Chinese' 'Sharplaninac'\n",
      " 'Sheepdog' 'Shepherd' 'Shetland Sheepdog' 'Shetland Sheepdog (Sheltie)'\n",
      " 'Shiba Inu' 'Shiba Inu Crossbreed' 'Shih Tzu' 'Shih Tzu Crossbreed'\n",
      " 'Shiloh Shepherd' 'Siberian' 'Siberian Husky' 'Siberian Husky Crossbreed'\n",
      " 'Silken Windhound' 'Silky Terrier' 'Silky Terrier -  Miniature'\n",
      " 'Skye Terrier' 'Small Munsterlander Pointer' 'Smithfield' 'Smooth Collie'\n",
      " 'Smooth Fox Terrier' 'Soft Coated Wheaten Terrier'\n",
      " 'Soft-Coated Wheaten Terrier' 'Spaniel' 'Spanish Water Dog'\n",
      " 'Spinone Italiano' 'Spitz' 'Spoodle' 'Springer Spaniel' 'St. Bernard'\n",
      " 'Stabyhoun' 'Staffordshire Bull Terrier' 'Stag Hound' 'Standard Poodle'\n",
      " 'Standard Schnauzer' 'Sussex Spaniel' 'Swedish Elkhound'\n",
      " 'Swedish Vallhund' 'Tahitian Bear Dog' 'Tahltan Bear Dog'\n",
      " 'Tenterfield Terrier' 'Terrier' 'Terrier Crossbreed' 'Terrier mix'\n",
      " 'Terrier, Fox, Smooth' 'Terrier, Fox, Toy' 'Terrier, Russell'\n",
      " 'Terrier, Silky' 'Terrier, Skye' 'Terrier, Welsh' 'Thai Ridgeback'\n",
      " 'Tibetan Mastiff' 'Tibetan Spaniel' 'Tibetan Terrier' 'Toy Fox Terrier'\n",
      " 'Toy Poodle' 'Treeing Tennessee Brindle' 'Treeing Walker Coonhound'\n",
      " 'Unknown' 'Vizsla' 'Vizsla (Wire Haired)' 'Vizsla, Wire Haired'\n",
      " 'Weimaraner' 'Welsh Corgi, Cardigan' 'Welsh Corgi, Pembroke'\n",
      " 'Welsh Springer Spaniel' 'Welsh Terrier' 'West High White Terrier'\n",
      " 'West Highland Terrier' 'West Highland White Terrier' 'Wheaton Terrier'\n",
      " 'Whippet' 'White Swiss Shepherd'\n",
      " 'White Swiss Shepherd (Berger Blanc Suisse)' 'Wire Fox Terrier'\n",
      " 'Wire Haired Pointing Griffon' 'Wirehaired Pointing Griffon' 'Wolfhound'\n",
      " 'Xoloitzcuintli' 'Xoloitzcuintli (Miniature)' 'York Chocolate'\n",
      " 'Yorkshire Terrier' 'Yorkshire Terrier Crossbreed']\n"
     ]
    }
   ],
   "source": [
    "print(combined_breeds_coords.Breed.unique())"
   ]
  },
  {
   "cell_type": "code",
   "execution_count": 79,
   "metadata": {
    "scrolled": false
   },
   "outputs": [
    {
     "data": {
      "application/vnd.plotly.v1+json": {
       "config": {
        "plotlyServerURL": "https://plot.ly"
       },
       "data": [
        {
         "hoverinfo": "text",
         "lat": [
          -34.9,
          53.5,
          40.7,
          47.6
         ],
         "lon": [
          138.6,
          -113.5,
          -74,
          -122.3
         ],
         "marker": {
          "cmax": 0.1,
          "cmin": 0,
          "color": [
           0.0029863746655882538,
           0.0031739600216099404,
           0.0013151779445647552,
           0.0022494102156141987
          ],
          "colorbar": {
           "title": {
            "text": "Normalized Count"
           }
          },
          "colorscale": [
           [
            0,
            "rgb(255,247,236)"
           ],
           [
            0.125,
            "rgb(254,232,200)"
           ],
           [
            0.25,
            "rgb(253,212,158)"
           ],
           [
            0.375,
            "rgb(253,187,132)"
           ],
           [
            0.5,
            "rgb(252,141,89)"
           ],
           [
            0.625,
            "rgb(239,101,72)"
           ],
           [
            0.75,
            "rgb(215,48,31)"
           ],
           [
            0.875,
            "rgb(179,0,0)"
           ],
           [
            1,
            "rgb(127,0,0)"
           ]
          ],
          "opacity": 0.6,
          "size": 20,
          "symbol": "circle"
         },
         "mode": "markers",
         "text": [
          "Number of Dogs: 48",
          "Number of Dogs: 188",
          "Number of Dogs: 133",
          "Number of Dogs: 41"
         ],
         "type": "scattermapbox"
        }
       ],
       "layout": {
        "autosize": false,
        "hovermode": "closest",
        "mapbox": {
         "accesstoken": "pk.eyJ1IjoibWljYWVsYW1jY2FsbCIsImEiOiJjazRnOG44MWswZnFoM2xuNTg0dDgxNzkzIn0.GhKyS8bwcdfURDDLtEdr3Q",
         "bearing": 0,
         "center": {
          "lat": 10,
          "lon": -160
         },
         "pitch": 0,
         "style": "dark",
         "zoom": 0.5
        },
        "template": {
         "data": {
          "bar": [
           {
            "error_x": {
             "color": "#2a3f5f"
            },
            "error_y": {
             "color": "#2a3f5f"
            },
            "marker": {
             "line": {
              "color": "#E5ECF6",
              "width": 0.5
             }
            },
            "type": "bar"
           }
          ],
          "barpolar": [
           {
            "marker": {
             "line": {
              "color": "#E5ECF6",
              "width": 0.5
             }
            },
            "type": "barpolar"
           }
          ],
          "carpet": [
           {
            "aaxis": {
             "endlinecolor": "#2a3f5f",
             "gridcolor": "white",
             "linecolor": "white",
             "minorgridcolor": "white",
             "startlinecolor": "#2a3f5f"
            },
            "baxis": {
             "endlinecolor": "#2a3f5f",
             "gridcolor": "white",
             "linecolor": "white",
             "minorgridcolor": "white",
             "startlinecolor": "#2a3f5f"
            },
            "type": "carpet"
           }
          ],
          "choropleth": [
           {
            "colorbar": {
             "outlinewidth": 0,
             "ticks": ""
            },
            "type": "choropleth"
           }
          ],
          "contour": [
           {
            "colorbar": {
             "outlinewidth": 0,
             "ticks": ""
            },
            "colorscale": [
             [
              0,
              "#0d0887"
             ],
             [
              0.1111111111111111,
              "#46039f"
             ],
             [
              0.2222222222222222,
              "#7201a8"
             ],
             [
              0.3333333333333333,
              "#9c179e"
             ],
             [
              0.4444444444444444,
              "#bd3786"
             ],
             [
              0.5555555555555556,
              "#d8576b"
             ],
             [
              0.6666666666666666,
              "#ed7953"
             ],
             [
              0.7777777777777778,
              "#fb9f3a"
             ],
             [
              0.8888888888888888,
              "#fdca26"
             ],
             [
              1,
              "#f0f921"
             ]
            ],
            "type": "contour"
           }
          ],
          "contourcarpet": [
           {
            "colorbar": {
             "outlinewidth": 0,
             "ticks": ""
            },
            "type": "contourcarpet"
           }
          ],
          "heatmap": [
           {
            "colorbar": {
             "outlinewidth": 0,
             "ticks": ""
            },
            "colorscale": [
             [
              0,
              "#0d0887"
             ],
             [
              0.1111111111111111,
              "#46039f"
             ],
             [
              0.2222222222222222,
              "#7201a8"
             ],
             [
              0.3333333333333333,
              "#9c179e"
             ],
             [
              0.4444444444444444,
              "#bd3786"
             ],
             [
              0.5555555555555556,
              "#d8576b"
             ],
             [
              0.6666666666666666,
              "#ed7953"
             ],
             [
              0.7777777777777778,
              "#fb9f3a"
             ],
             [
              0.8888888888888888,
              "#fdca26"
             ],
             [
              1,
              "#f0f921"
             ]
            ],
            "type": "heatmap"
           }
          ],
          "heatmapgl": [
           {
            "colorbar": {
             "outlinewidth": 0,
             "ticks": ""
            },
            "colorscale": [
             [
              0,
              "#0d0887"
             ],
             [
              0.1111111111111111,
              "#46039f"
             ],
             [
              0.2222222222222222,
              "#7201a8"
             ],
             [
              0.3333333333333333,
              "#9c179e"
             ],
             [
              0.4444444444444444,
              "#bd3786"
             ],
             [
              0.5555555555555556,
              "#d8576b"
             ],
             [
              0.6666666666666666,
              "#ed7953"
             ],
             [
              0.7777777777777778,
              "#fb9f3a"
             ],
             [
              0.8888888888888888,
              "#fdca26"
             ],
             [
              1,
              "#f0f921"
             ]
            ],
            "type": "heatmapgl"
           }
          ],
          "histogram": [
           {
            "marker": {
             "colorbar": {
              "outlinewidth": 0,
              "ticks": ""
             }
            },
            "type": "histogram"
           }
          ],
          "histogram2d": [
           {
            "colorbar": {
             "outlinewidth": 0,
             "ticks": ""
            },
            "colorscale": [
             [
              0,
              "#0d0887"
             ],
             [
              0.1111111111111111,
              "#46039f"
             ],
             [
              0.2222222222222222,
              "#7201a8"
             ],
             [
              0.3333333333333333,
              "#9c179e"
             ],
             [
              0.4444444444444444,
              "#bd3786"
             ],
             [
              0.5555555555555556,
              "#d8576b"
             ],
             [
              0.6666666666666666,
              "#ed7953"
             ],
             [
              0.7777777777777778,
              "#fb9f3a"
             ],
             [
              0.8888888888888888,
              "#fdca26"
             ],
             [
              1,
              "#f0f921"
             ]
            ],
            "type": "histogram2d"
           }
          ],
          "histogram2dcontour": [
           {
            "colorbar": {
             "outlinewidth": 0,
             "ticks": ""
            },
            "colorscale": [
             [
              0,
              "#0d0887"
             ],
             [
              0.1111111111111111,
              "#46039f"
             ],
             [
              0.2222222222222222,
              "#7201a8"
             ],
             [
              0.3333333333333333,
              "#9c179e"
             ],
             [
              0.4444444444444444,
              "#bd3786"
             ],
             [
              0.5555555555555556,
              "#d8576b"
             ],
             [
              0.6666666666666666,
              "#ed7953"
             ],
             [
              0.7777777777777778,
              "#fb9f3a"
             ],
             [
              0.8888888888888888,
              "#fdca26"
             ],
             [
              1,
              "#f0f921"
             ]
            ],
            "type": "histogram2dcontour"
           }
          ],
          "mesh3d": [
           {
            "colorbar": {
             "outlinewidth": 0,
             "ticks": ""
            },
            "type": "mesh3d"
           }
          ],
          "parcoords": [
           {
            "line": {
             "colorbar": {
              "outlinewidth": 0,
              "ticks": ""
             }
            },
            "type": "parcoords"
           }
          ],
          "pie": [
           {
            "automargin": true,
            "type": "pie"
           }
          ],
          "scatter": [
           {
            "marker": {
             "colorbar": {
              "outlinewidth": 0,
              "ticks": ""
             }
            },
            "type": "scatter"
           }
          ],
          "scatter3d": [
           {
            "line": {
             "colorbar": {
              "outlinewidth": 0,
              "ticks": ""
             }
            },
            "marker": {
             "colorbar": {
              "outlinewidth": 0,
              "ticks": ""
             }
            },
            "type": "scatter3d"
           }
          ],
          "scattercarpet": [
           {
            "marker": {
             "colorbar": {
              "outlinewidth": 0,
              "ticks": ""
             }
            },
            "type": "scattercarpet"
           }
          ],
          "scattergeo": [
           {
            "marker": {
             "colorbar": {
              "outlinewidth": 0,
              "ticks": ""
             }
            },
            "type": "scattergeo"
           }
          ],
          "scattergl": [
           {
            "marker": {
             "colorbar": {
              "outlinewidth": 0,
              "ticks": ""
             }
            },
            "type": "scattergl"
           }
          ],
          "scattermapbox": [
           {
            "marker": {
             "colorbar": {
              "outlinewidth": 0,
              "ticks": ""
             }
            },
            "type": "scattermapbox"
           }
          ],
          "scatterpolar": [
           {
            "marker": {
             "colorbar": {
              "outlinewidth": 0,
              "ticks": ""
             }
            },
            "type": "scatterpolar"
           }
          ],
          "scatterpolargl": [
           {
            "marker": {
             "colorbar": {
              "outlinewidth": 0,
              "ticks": ""
             }
            },
            "type": "scatterpolargl"
           }
          ],
          "scatterternary": [
           {
            "marker": {
             "colorbar": {
              "outlinewidth": 0,
              "ticks": ""
             }
            },
            "type": "scatterternary"
           }
          ],
          "surface": [
           {
            "colorbar": {
             "outlinewidth": 0,
             "ticks": ""
            },
            "colorscale": [
             [
              0,
              "#0d0887"
             ],
             [
              0.1111111111111111,
              "#46039f"
             ],
             [
              0.2222222222222222,
              "#7201a8"
             ],
             [
              0.3333333333333333,
              "#9c179e"
             ],
             [
              0.4444444444444444,
              "#bd3786"
             ],
             [
              0.5555555555555556,
              "#d8576b"
             ],
             [
              0.6666666666666666,
              "#ed7953"
             ],
             [
              0.7777777777777778,
              "#fb9f3a"
             ],
             [
              0.8888888888888888,
              "#fdca26"
             ],
             [
              1,
              "#f0f921"
             ]
            ],
            "type": "surface"
           }
          ],
          "table": [
           {
            "cells": {
             "fill": {
              "color": "#EBF0F8"
             },
             "line": {
              "color": "white"
             }
            },
            "header": {
             "fill": {
              "color": "#C8D4E3"
             },
             "line": {
              "color": "white"
             }
            },
            "type": "table"
           }
          ]
         },
         "layout": {
          "annotationdefaults": {
           "arrowcolor": "#2a3f5f",
           "arrowhead": 0,
           "arrowwidth": 1
          },
          "coloraxis": {
           "colorbar": {
            "outlinewidth": 0,
            "ticks": ""
           }
          },
          "colorscale": {
           "diverging": [
            [
             0,
             "#8e0152"
            ],
            [
             0.1,
             "#c51b7d"
            ],
            [
             0.2,
             "#de77ae"
            ],
            [
             0.3,
             "#f1b6da"
            ],
            [
             0.4,
             "#fde0ef"
            ],
            [
             0.5,
             "#f7f7f7"
            ],
            [
             0.6,
             "#e6f5d0"
            ],
            [
             0.7,
             "#b8e186"
            ],
            [
             0.8,
             "#7fbc41"
            ],
            [
             0.9,
             "#4d9221"
            ],
            [
             1,
             "#276419"
            ]
           ],
           "sequential": [
            [
             0,
             "#0d0887"
            ],
            [
             0.1111111111111111,
             "#46039f"
            ],
            [
             0.2222222222222222,
             "#7201a8"
            ],
            [
             0.3333333333333333,
             "#9c179e"
            ],
            [
             0.4444444444444444,
             "#bd3786"
            ],
            [
             0.5555555555555556,
             "#d8576b"
            ],
            [
             0.6666666666666666,
             "#ed7953"
            ],
            [
             0.7777777777777778,
             "#fb9f3a"
            ],
            [
             0.8888888888888888,
             "#fdca26"
            ],
            [
             1,
             "#f0f921"
            ]
           ],
           "sequentialminus": [
            [
             0,
             "#0d0887"
            ],
            [
             0.1111111111111111,
             "#46039f"
            ],
            [
             0.2222222222222222,
             "#7201a8"
            ],
            [
             0.3333333333333333,
             "#9c179e"
            ],
            [
             0.4444444444444444,
             "#bd3786"
            ],
            [
             0.5555555555555556,
             "#d8576b"
            ],
            [
             0.6666666666666666,
             "#ed7953"
            ],
            [
             0.7777777777777778,
             "#fb9f3a"
            ],
            [
             0.8888888888888888,
             "#fdca26"
            ],
            [
             1,
             "#f0f921"
            ]
           ]
          },
          "colorway": [
           "#636efa",
           "#EF553B",
           "#00cc96",
           "#ab63fa",
           "#FFA15A",
           "#19d3f3",
           "#FF6692",
           "#B6E880",
           "#FF97FF",
           "#FECB52"
          ],
          "font": {
           "color": "#2a3f5f"
          },
          "geo": {
           "bgcolor": "white",
           "lakecolor": "white",
           "landcolor": "#E5ECF6",
           "showlakes": true,
           "showland": true,
           "subunitcolor": "white"
          },
          "hoverlabel": {
           "align": "left"
          },
          "hovermode": "closest",
          "mapbox": {
           "style": "light"
          },
          "paper_bgcolor": "white",
          "plot_bgcolor": "#E5ECF6",
          "polar": {
           "angularaxis": {
            "gridcolor": "white",
            "linecolor": "white",
            "ticks": ""
           },
           "bgcolor": "#E5ECF6",
           "radialaxis": {
            "gridcolor": "white",
            "linecolor": "white",
            "ticks": ""
           }
          },
          "scene": {
           "xaxis": {
            "backgroundcolor": "#E5ECF6",
            "gridcolor": "white",
            "gridwidth": 2,
            "linecolor": "white",
            "showbackground": true,
            "ticks": "",
            "zerolinecolor": "white"
           },
           "yaxis": {
            "backgroundcolor": "#E5ECF6",
            "gridcolor": "white",
            "gridwidth": 2,
            "linecolor": "white",
            "showbackground": true,
            "ticks": "",
            "zerolinecolor": "white"
           },
           "zaxis": {
            "backgroundcolor": "#E5ECF6",
            "gridcolor": "white",
            "gridwidth": 2,
            "linecolor": "white",
            "showbackground": true,
            "ticks": "",
            "zerolinecolor": "white"
           }
          },
          "shapedefaults": {
           "line": {
            "color": "#2a3f5f"
           }
          },
          "ternary": {
           "aaxis": {
            "gridcolor": "white",
            "linecolor": "white",
            "ticks": ""
           },
           "baxis": {
            "gridcolor": "white",
            "linecolor": "white",
            "ticks": ""
           },
           "bgcolor": "#E5ECF6",
           "caxis": {
            "gridcolor": "white",
            "linecolor": "white",
            "ticks": ""
           }
          },
          "title": {
           "x": 0.05
          },
          "xaxis": {
           "automargin": true,
           "gridcolor": "white",
           "linecolor": "white",
           "ticks": "",
           "title": {
            "standoff": 15
           },
           "zerolinecolor": "white",
           "zerolinewidth": 2
          },
          "yaxis": {
           "automargin": true,
           "gridcolor": "white",
           "linecolor": "white",
           "ticks": "",
           "title": {
            "standoff": 15
           },
           "zerolinecolor": "white",
           "zerolinewidth": 2
          }
         }
        },
        "title": {
         "text": "Plotting Breed Counts by City"
        }
       }
      },
      "text/html": [
       "<div>\n",
       "        \n",
       "        \n",
       "            <div id=\"29cddfb1-865f-4b45-80c4-eedbbd25e710\" class=\"plotly-graph-div\" style=\"height:525px; width:100%;\"></div>\n",
       "            <script type=\"text/javascript\">\n",
       "                require([\"plotly\"], function(Plotly) {\n",
       "                    window.PLOTLYENV=window.PLOTLYENV || {};\n",
       "                    \n",
       "                if (document.getElementById(\"29cddfb1-865f-4b45-80c4-eedbbd25e710\")) {\n",
       "                    Plotly.newPlot(\n",
       "                        '29cddfb1-865f-4b45-80c4-eedbbd25e710',\n",
       "                        [{\"hoverinfo\": \"text\", \"lat\": [-34.9, 53.5, 40.7, 47.6], \"lon\": [138.6, -113.5, -74.0, -122.3], \"marker\": {\"cmax\": 0.1, \"cmin\": 0, \"color\": [0.0029863746655882538, 0.0031739600216099404, 0.0013151779445647552, 0.0022494102156141987], \"colorbar\": {\"title\": {\"text\": \"Normalized Count\"}}, \"colorscale\": [[0.0, \"rgb(255,247,236)\"], [0.125, \"rgb(254,232,200)\"], [0.25, \"rgb(253,212,158)\"], [0.375, \"rgb(253,187,132)\"], [0.5, \"rgb(252,141,89)\"], [0.625, \"rgb(239,101,72)\"], [0.75, \"rgb(215,48,31)\"], [0.875, \"rgb(179,0,0)\"], [1.0, \"rgb(127,0,0)\"]], \"opacity\": 0.6, \"size\": 20, \"symbol\": \"circle\"}, \"mode\": \"markers\", \"text\": [\"Number of Dogs: 48\", \"Number of Dogs: 188\", \"Number of Dogs: 133\", \"Number of Dogs: 41\"], \"type\": \"scattermapbox\"}],\n",
       "                        {\"autosize\": false, \"hovermode\": \"closest\", \"mapbox\": {\"accesstoken\": \"pk.eyJ1IjoibWljYWVsYW1jY2FsbCIsImEiOiJjazRnOG44MWswZnFoM2xuNTg0dDgxNzkzIn0.GhKyS8bwcdfURDDLtEdr3Q\", \"bearing\": 0, \"center\": {\"lat\": 10, \"lon\": -160}, \"pitch\": 0, \"style\": \"dark\", \"zoom\": 0.5}, \"template\": {\"data\": {\"bar\": [{\"error_x\": {\"color\": \"#2a3f5f\"}, \"error_y\": {\"color\": \"#2a3f5f\"}, \"marker\": {\"line\": {\"color\": \"#E5ECF6\", \"width\": 0.5}}, \"type\": \"bar\"}], \"barpolar\": [{\"marker\": {\"line\": {\"color\": \"#E5ECF6\", \"width\": 0.5}}, \"type\": \"barpolar\"}], \"carpet\": [{\"aaxis\": {\"endlinecolor\": \"#2a3f5f\", \"gridcolor\": \"white\", \"linecolor\": \"white\", \"minorgridcolor\": \"white\", \"startlinecolor\": \"#2a3f5f\"}, \"baxis\": {\"endlinecolor\": \"#2a3f5f\", \"gridcolor\": \"white\", \"linecolor\": \"white\", \"minorgridcolor\": \"white\", \"startlinecolor\": \"#2a3f5f\"}, \"type\": \"carpet\"}], \"choropleth\": [{\"colorbar\": {\"outlinewidth\": 0, \"ticks\": \"\"}, \"type\": \"choropleth\"}], \"contour\": [{\"colorbar\": {\"outlinewidth\": 0, \"ticks\": \"\"}, \"colorscale\": [[0.0, \"#0d0887\"], [0.1111111111111111, \"#46039f\"], [0.2222222222222222, \"#7201a8\"], [0.3333333333333333, \"#9c179e\"], [0.4444444444444444, \"#bd3786\"], [0.5555555555555556, \"#d8576b\"], [0.6666666666666666, \"#ed7953\"], [0.7777777777777778, \"#fb9f3a\"], [0.8888888888888888, \"#fdca26\"], [1.0, \"#f0f921\"]], \"type\": \"contour\"}], \"contourcarpet\": [{\"colorbar\": {\"outlinewidth\": 0, \"ticks\": \"\"}, \"type\": \"contourcarpet\"}], \"heatmap\": [{\"colorbar\": {\"outlinewidth\": 0, \"ticks\": \"\"}, \"colorscale\": [[0.0, \"#0d0887\"], [0.1111111111111111, \"#46039f\"], [0.2222222222222222, \"#7201a8\"], [0.3333333333333333, \"#9c179e\"], [0.4444444444444444, \"#bd3786\"], [0.5555555555555556, \"#d8576b\"], [0.6666666666666666, \"#ed7953\"], [0.7777777777777778, \"#fb9f3a\"], [0.8888888888888888, \"#fdca26\"], [1.0, \"#f0f921\"]], \"type\": \"heatmap\"}], \"heatmapgl\": [{\"colorbar\": {\"outlinewidth\": 0, \"ticks\": \"\"}, \"colorscale\": [[0.0, \"#0d0887\"], [0.1111111111111111, \"#46039f\"], [0.2222222222222222, \"#7201a8\"], [0.3333333333333333, \"#9c179e\"], [0.4444444444444444, \"#bd3786\"], [0.5555555555555556, \"#d8576b\"], [0.6666666666666666, \"#ed7953\"], [0.7777777777777778, \"#fb9f3a\"], [0.8888888888888888, \"#fdca26\"], [1.0, \"#f0f921\"]], \"type\": \"heatmapgl\"}], \"histogram\": [{\"marker\": {\"colorbar\": {\"outlinewidth\": 0, \"ticks\": \"\"}}, \"type\": \"histogram\"}], \"histogram2d\": [{\"colorbar\": {\"outlinewidth\": 0, \"ticks\": \"\"}, \"colorscale\": [[0.0, \"#0d0887\"], [0.1111111111111111, \"#46039f\"], [0.2222222222222222, \"#7201a8\"], [0.3333333333333333, \"#9c179e\"], [0.4444444444444444, \"#bd3786\"], [0.5555555555555556, \"#d8576b\"], [0.6666666666666666, \"#ed7953\"], [0.7777777777777778, \"#fb9f3a\"], [0.8888888888888888, \"#fdca26\"], [1.0, \"#f0f921\"]], \"type\": \"histogram2d\"}], \"histogram2dcontour\": [{\"colorbar\": {\"outlinewidth\": 0, \"ticks\": \"\"}, \"colorscale\": [[0.0, \"#0d0887\"], [0.1111111111111111, \"#46039f\"], [0.2222222222222222, \"#7201a8\"], [0.3333333333333333, \"#9c179e\"], [0.4444444444444444, \"#bd3786\"], [0.5555555555555556, \"#d8576b\"], [0.6666666666666666, \"#ed7953\"], [0.7777777777777778, \"#fb9f3a\"], [0.8888888888888888, \"#fdca26\"], [1.0, \"#f0f921\"]], \"type\": \"histogram2dcontour\"}], \"mesh3d\": [{\"colorbar\": {\"outlinewidth\": 0, \"ticks\": \"\"}, \"type\": \"mesh3d\"}], \"parcoords\": [{\"line\": {\"colorbar\": {\"outlinewidth\": 0, \"ticks\": \"\"}}, \"type\": \"parcoords\"}], \"pie\": [{\"automargin\": true, \"type\": \"pie\"}], \"scatter\": [{\"marker\": {\"colorbar\": {\"outlinewidth\": 0, \"ticks\": \"\"}}, \"type\": \"scatter\"}], \"scatter3d\": [{\"line\": {\"colorbar\": {\"outlinewidth\": 0, \"ticks\": \"\"}}, \"marker\": {\"colorbar\": {\"outlinewidth\": 0, \"ticks\": \"\"}}, \"type\": \"scatter3d\"}], \"scattercarpet\": [{\"marker\": {\"colorbar\": {\"outlinewidth\": 0, \"ticks\": \"\"}}, \"type\": \"scattercarpet\"}], \"scattergeo\": [{\"marker\": {\"colorbar\": {\"outlinewidth\": 0, \"ticks\": \"\"}}, \"type\": \"scattergeo\"}], \"scattergl\": [{\"marker\": {\"colorbar\": {\"outlinewidth\": 0, \"ticks\": \"\"}}, \"type\": \"scattergl\"}], \"scattermapbox\": [{\"marker\": {\"colorbar\": {\"outlinewidth\": 0, \"ticks\": \"\"}}, \"type\": \"scattermapbox\"}], \"scatterpolar\": [{\"marker\": {\"colorbar\": {\"outlinewidth\": 0, \"ticks\": \"\"}}, \"type\": \"scatterpolar\"}], \"scatterpolargl\": [{\"marker\": {\"colorbar\": {\"outlinewidth\": 0, \"ticks\": \"\"}}, \"type\": \"scatterpolargl\"}], \"scatterternary\": [{\"marker\": {\"colorbar\": {\"outlinewidth\": 0, \"ticks\": \"\"}}, \"type\": \"scatterternary\"}], \"surface\": [{\"colorbar\": {\"outlinewidth\": 0, \"ticks\": \"\"}, \"colorscale\": [[0.0, \"#0d0887\"], [0.1111111111111111, \"#46039f\"], [0.2222222222222222, \"#7201a8\"], [0.3333333333333333, \"#9c179e\"], [0.4444444444444444, \"#bd3786\"], [0.5555555555555556, \"#d8576b\"], [0.6666666666666666, \"#ed7953\"], [0.7777777777777778, \"#fb9f3a\"], [0.8888888888888888, \"#fdca26\"], [1.0, \"#f0f921\"]], \"type\": \"surface\"}], \"table\": [{\"cells\": {\"fill\": {\"color\": \"#EBF0F8\"}, \"line\": {\"color\": \"white\"}}, \"header\": {\"fill\": {\"color\": \"#C8D4E3\"}, \"line\": {\"color\": \"white\"}}, \"type\": \"table\"}]}, \"layout\": {\"annotationdefaults\": {\"arrowcolor\": \"#2a3f5f\", \"arrowhead\": 0, \"arrowwidth\": 1}, \"coloraxis\": {\"colorbar\": {\"outlinewidth\": 0, \"ticks\": \"\"}}, \"colorscale\": {\"diverging\": [[0, \"#8e0152\"], [0.1, \"#c51b7d\"], [0.2, \"#de77ae\"], [0.3, \"#f1b6da\"], [0.4, \"#fde0ef\"], [0.5, \"#f7f7f7\"], [0.6, \"#e6f5d0\"], [0.7, \"#b8e186\"], [0.8, \"#7fbc41\"], [0.9, \"#4d9221\"], [1, \"#276419\"]], \"sequential\": [[0.0, \"#0d0887\"], [0.1111111111111111, \"#46039f\"], [0.2222222222222222, \"#7201a8\"], [0.3333333333333333, \"#9c179e\"], [0.4444444444444444, \"#bd3786\"], [0.5555555555555556, \"#d8576b\"], [0.6666666666666666, \"#ed7953\"], [0.7777777777777778, \"#fb9f3a\"], [0.8888888888888888, \"#fdca26\"], [1.0, \"#f0f921\"]], \"sequentialminus\": [[0.0, \"#0d0887\"], [0.1111111111111111, \"#46039f\"], [0.2222222222222222, \"#7201a8\"], [0.3333333333333333, \"#9c179e\"], [0.4444444444444444, \"#bd3786\"], [0.5555555555555556, \"#d8576b\"], [0.6666666666666666, \"#ed7953\"], [0.7777777777777778, \"#fb9f3a\"], [0.8888888888888888, \"#fdca26\"], [1.0, \"#f0f921\"]]}, \"colorway\": [\"#636efa\", \"#EF553B\", \"#00cc96\", \"#ab63fa\", \"#FFA15A\", \"#19d3f3\", \"#FF6692\", \"#B6E880\", \"#FF97FF\", \"#FECB52\"], \"font\": {\"color\": \"#2a3f5f\"}, \"geo\": {\"bgcolor\": \"white\", \"lakecolor\": \"white\", \"landcolor\": \"#E5ECF6\", \"showlakes\": true, \"showland\": true, \"subunitcolor\": \"white\"}, \"hoverlabel\": {\"align\": \"left\"}, \"hovermode\": \"closest\", \"mapbox\": {\"style\": \"light\"}, \"paper_bgcolor\": \"white\", \"plot_bgcolor\": \"#E5ECF6\", \"polar\": {\"angularaxis\": {\"gridcolor\": \"white\", \"linecolor\": \"white\", \"ticks\": \"\"}, \"bgcolor\": \"#E5ECF6\", \"radialaxis\": {\"gridcolor\": \"white\", \"linecolor\": \"white\", \"ticks\": \"\"}}, \"scene\": {\"xaxis\": {\"backgroundcolor\": \"#E5ECF6\", \"gridcolor\": \"white\", \"gridwidth\": 2, \"linecolor\": \"white\", \"showbackground\": true, \"ticks\": \"\", \"zerolinecolor\": \"white\"}, \"yaxis\": {\"backgroundcolor\": \"#E5ECF6\", \"gridcolor\": \"white\", \"gridwidth\": 2, \"linecolor\": \"white\", \"showbackground\": true, \"ticks\": \"\", \"zerolinecolor\": \"white\"}, \"zaxis\": {\"backgroundcolor\": \"#E5ECF6\", \"gridcolor\": \"white\", \"gridwidth\": 2, \"linecolor\": \"white\", \"showbackground\": true, \"ticks\": \"\", \"zerolinecolor\": \"white\"}}, \"shapedefaults\": {\"line\": {\"color\": \"#2a3f5f\"}}, \"ternary\": {\"aaxis\": {\"gridcolor\": \"white\", \"linecolor\": \"white\", \"ticks\": \"\"}, \"baxis\": {\"gridcolor\": \"white\", \"linecolor\": \"white\", \"ticks\": \"\"}, \"bgcolor\": \"#E5ECF6\", \"caxis\": {\"gridcolor\": \"white\", \"linecolor\": \"white\", \"ticks\": \"\"}}, \"title\": {\"x\": 0.05}, \"xaxis\": {\"automargin\": true, \"gridcolor\": \"white\", \"linecolor\": \"white\", \"ticks\": \"\", \"title\": {\"standoff\": 15}, \"zerolinecolor\": \"white\", \"zerolinewidth\": 2}, \"yaxis\": {\"automargin\": true, \"gridcolor\": \"white\", \"linecolor\": \"white\", \"ticks\": \"\", \"title\": {\"standoff\": 15}, \"zerolinecolor\": \"white\", \"zerolinewidth\": 2}}}, \"title\": {\"text\": \"Plotting Breed Counts by City\"}},\n",
       "                        {\"responsive\": true}\n",
       "                    ).then(function(){\n",
       "                            \n",
       "var gd = document.getElementById('29cddfb1-865f-4b45-80c4-eedbbd25e710');\n",
       "var x = new MutationObserver(function (mutations, observer) {{\n",
       "        var display = window.getComputedStyle(gd).display;\n",
       "        if (!display || display === 'none') {{\n",
       "            console.log([gd, 'removed!']);\n",
       "            Plotly.purge(gd);\n",
       "            observer.disconnect();\n",
       "        }}\n",
       "}});\n",
       "\n",
       "// Listen for the removal of the full notebook cells\n",
       "var notebookContainer = gd.closest('#notebook-container');\n",
       "if (notebookContainer) {{\n",
       "    x.observe(notebookContainer, {childList: true});\n",
       "}}\n",
       "\n",
       "// Listen for the clearing of the current output cell\n",
       "var outputEl = gd.closest('.output');\n",
       "if (outputEl) {{\n",
       "    x.observe(outputEl, {childList: true});\n",
       "}}\n",
       "\n",
       "                        })\n",
       "                };\n",
       "                });\n",
       "            </script>\n",
       "        </div>"
      ]
     },
     "metadata": {},
     "output_type": "display_data"
    }
   ],
   "source": [
    "import plotly.graph_objects as go\n",
    "token = 'pk.eyJ1IjoibWljYWVsYW1jY2FsbCIsImEiOiJjazRnOG44MWswZnFoM2xuNTg0dDgxNzkzIn0.GhKyS8bwcdfURDDLtEdr3Q'\n",
    "\n",
    "breed_selection = 'Akita'\n",
    "\n",
    "breedmap = go.Figure(go.Scattermapbox(\n",
    "    lat = combined_breeds_coords[combined_breeds_coords.Breed == breed_selection].lat, \n",
    "    lon = combined_breeds_coords[combined_breeds_coords.Breed == breed_selection].lon,\n",
    "    hoverinfo = 'text',\n",
    "    text = ['Number of Dogs: {}'.format(i) for i in combined_breeds_coords[(combined_breeds_coords.Breed == breed_selection) ].Count.astype('int')], \n",
    "    mode = 'markers', \n",
    "    marker = dict(\n",
    "        cmax = 0.1,\n",
    "        cmin = 0,\n",
    "        size = 20,\n",
    "        opacity = 0.6,\n",
    "        symbol = 'circle',\n",
    "        color = combined_breeds_coords[(combined_breeds_coords.Breed == breed_selection)].NormalizedCount,\n",
    "        colorscale = 'OrRd',\n",
    "        colorbar_title=\"Normalized Count\")))\n",
    "\n",
    "breedmap.update_layout(\n",
    "    title_text=\"Plotting Breed Counts by City\",\n",
    "    autosize=False,\n",
    "    hovermode='closest',\n",
    "    mapbox=go.layout.Mapbox(\n",
    "        accesstoken=token,\n",
    "        bearing=0,\n",
    "        center=go.layout.mapbox.Center(\n",
    "            lat=10,\n",
    "            lon=-160\n",
    "        ),\n",
    "        pitch=0,\n",
    "        zoom=0.5,\n",
    "        style='dark'\n",
    "    ),\n",
    ")\n",
    "\n",
    "breedmap.show()"
   ]
  },
  {
   "cell_type": "markdown",
   "metadata": {},
   "source": [
    "## Create combined attributes dataset"
   ]
  },
  {
   "cell_type": "code",
   "execution_count": 104,
   "metadata": {},
   "outputs": [
    {
     "data": {
      "text/html": [
       "<div>\n",
       "<style scoped>\n",
       "    .dataframe tbody tr th:only-of-type {\n",
       "        vertical-align: middle;\n",
       "    }\n",
       "\n",
       "    .dataframe tbody tr th {\n",
       "        vertical-align: top;\n",
       "    }\n",
       "\n",
       "    .dataframe thead th {\n",
       "        text-align: right;\n",
       "    }\n",
       "</style>\n",
       "<table border=\"1\" class=\"dataframe\">\n",
       "  <thead>\n",
       "    <tr style=\"text-align: right;\">\n",
       "      <th></th>\n",
       "      <th>Attribute</th>\n",
       "      <th>City</th>\n",
       "      <th>Average</th>\n",
       "      <th>lat</th>\n",
       "      <th>lon</th>\n",
       "    </tr>\n",
       "  </thead>\n",
       "  <tbody>\n",
       "    <tr>\n",
       "      <th>0</th>\n",
       "      <td>Trainable</td>\n",
       "      <td>NYC</td>\n",
       "      <td>0.465406</td>\n",
       "      <td>40.7</td>\n",
       "      <td>-74.0</td>\n",
       "    </tr>\n",
       "    <tr>\n",
       "      <th>1</th>\n",
       "      <td>Bold</td>\n",
       "      <td>NYC</td>\n",
       "      <td>0.581038</td>\n",
       "      <td>40.7</td>\n",
       "      <td>-74.0</td>\n",
       "    </tr>\n",
       "    <tr>\n",
       "      <th>2</th>\n",
       "      <td>Calm</td>\n",
       "      <td>NYC</td>\n",
       "      <td>0.446582</td>\n",
       "      <td>40.7</td>\n",
       "      <td>-74.0</td>\n",
       "    </tr>\n",
       "    <tr>\n",
       "      <th>3</th>\n",
       "      <td>Sociable</td>\n",
       "      <td>NYC</td>\n",
       "      <td>0.453863</td>\n",
       "      <td>40.7</td>\n",
       "      <td>-74.0</td>\n",
       "    </tr>\n",
       "    <tr>\n",
       "      <th>4</th>\n",
       "      <td>Trainable</td>\n",
       "      <td>Seattle</td>\n",
       "      <td>0.597293</td>\n",
       "      <td>47.6</td>\n",
       "      <td>-122.3</td>\n",
       "    </tr>\n",
       "  </tbody>\n",
       "</table>\n",
       "</div>"
      ],
      "text/plain": [
       "   Attribute     City   Average   lat    lon\n",
       "0  Trainable      NYC  0.465406  40.7  -74.0\n",
       "1       Bold      NYC  0.581038  40.7  -74.0\n",
       "2       Calm      NYC  0.446582  40.7  -74.0\n",
       "3   Sociable      NYC  0.453863  40.7  -74.0\n",
       "4  Trainable  Seattle  0.597293  47.6 -122.3"
      ]
     },
     "execution_count": 104,
     "metadata": {},
     "output_type": "execute_result"
    }
   ],
   "source": [
    "adelaide_mean = adelaide_attrib[lst].mean()\n",
    "edmonton_mean = edmonton_attrib[lst].mean()\n",
    "nyc_mean = nyc_attrib[lst].mean()\n",
    "seattle_mean = seattle_attrib[lst].mean()\n",
    "combined_attrib = pd.concat([nyc_mean,seattle_mean,edmonton_mean,adelaide_mean], axis=1).reset_index()\n",
    "combined_attrib.rename(columns={'index': 'Attribute', 0:'NYC', 1:'Seattle', 2:'Edmonton', 3:'Adelaide'}, inplace=True)\n",
    "combined_attrib = combined.melt(id_vars=['Attribute'], var_name = ['City'], value_name = 'Average')\n",
    "combined_attrib_coords = combined.merge(coords, on='City')\n",
    "combined_attrib_coords.head()"
   ]
  },
  {
   "cell_type": "markdown",
   "metadata": {},
   "source": [
    "## Attribute selection"
   ]
  },
  {
   "cell_type": "code",
   "execution_count": 82,
   "metadata": {},
   "outputs": [
    {
     "data": {
      "text/plain": [
       "array(['Trainable', 'Bold', 'Calm', 'Sociable'], dtype=object)"
      ]
     },
     "execution_count": 82,
     "metadata": {},
     "output_type": "execute_result"
    }
   ],
   "source": [
    "combined_coords.Attribute.unique()"
   ]
  },
  {
   "cell_type": "code",
   "execution_count": 83,
   "metadata": {},
   "outputs": [
    {
     "data": {
      "application/vnd.plotly.v1+json": {
       "config": {
        "plotlyServerURL": "https://plot.ly"
       },
       "data": [
        {
         "hoverinfo": "text",
         "lat": [
          40.7,
          47.6,
          53.5,
          -34.9
         ],
         "lon": [
          -74,
          -122.3,
          -113.5,
          138.6
         ],
         "marker": {
          "cmax": 0.6,
          "cmin": 0.4,
          "color": [
           0.46540588791262644,
           0.5972934585338909,
           0.5763343454367519,
           0.5220141960703631
          ],
          "colorbar": {
           "title": {
            "text": "Score"
           }
          },
          "colorscale": [
           [
            0,
            "rgb(255,247,236)"
           ],
           [
            0.125,
            "rgb(254,232,200)"
           ],
           [
            0.25,
            "rgb(253,212,158)"
           ],
           [
            0.375,
            "rgb(253,187,132)"
           ],
           [
            0.5,
            "rgb(252,141,89)"
           ],
           [
            0.625,
            "rgb(239,101,72)"
           ],
           [
            0.75,
            "rgb(215,48,31)"
           ],
           [
            0.875,
            "rgb(179,0,0)"
           ],
           [
            1,
            "rgb(127,0,0)"
           ]
          ],
          "opacity": 0.6,
          "size": 20,
          "symbol": "circle"
         },
         "mode": "markers",
         "text": [
          "NYC Score: 0.47",
          "Seattle Score: 0.6",
          "Edmonton Score: 0.58",
          "Adelaide Score: 0.52"
         ],
         "type": "scattermapbox"
        }
       ],
       "layout": {
        "autosize": false,
        "hovermode": "closest",
        "mapbox": {
         "accesstoken": "pk.eyJ1IjoibWljYWVsYW1jY2FsbCIsImEiOiJjazRnOG44MWswZnFoM2xuNTg0dDgxNzkzIn0.GhKyS8bwcdfURDDLtEdr3Q",
         "bearing": 0,
         "center": {
          "lat": 10,
          "lon": -160
         },
         "pitch": 0,
         "style": "light",
         "zoom": 0.5
        },
        "template": {
         "data": {
          "bar": [
           {
            "error_x": {
             "color": "#2a3f5f"
            },
            "error_y": {
             "color": "#2a3f5f"
            },
            "marker": {
             "line": {
              "color": "#E5ECF6",
              "width": 0.5
             }
            },
            "type": "bar"
           }
          ],
          "barpolar": [
           {
            "marker": {
             "line": {
              "color": "#E5ECF6",
              "width": 0.5
             }
            },
            "type": "barpolar"
           }
          ],
          "carpet": [
           {
            "aaxis": {
             "endlinecolor": "#2a3f5f",
             "gridcolor": "white",
             "linecolor": "white",
             "minorgridcolor": "white",
             "startlinecolor": "#2a3f5f"
            },
            "baxis": {
             "endlinecolor": "#2a3f5f",
             "gridcolor": "white",
             "linecolor": "white",
             "minorgridcolor": "white",
             "startlinecolor": "#2a3f5f"
            },
            "type": "carpet"
           }
          ],
          "choropleth": [
           {
            "colorbar": {
             "outlinewidth": 0,
             "ticks": ""
            },
            "type": "choropleth"
           }
          ],
          "contour": [
           {
            "colorbar": {
             "outlinewidth": 0,
             "ticks": ""
            },
            "colorscale": [
             [
              0,
              "#0d0887"
             ],
             [
              0.1111111111111111,
              "#46039f"
             ],
             [
              0.2222222222222222,
              "#7201a8"
             ],
             [
              0.3333333333333333,
              "#9c179e"
             ],
             [
              0.4444444444444444,
              "#bd3786"
             ],
             [
              0.5555555555555556,
              "#d8576b"
             ],
             [
              0.6666666666666666,
              "#ed7953"
             ],
             [
              0.7777777777777778,
              "#fb9f3a"
             ],
             [
              0.8888888888888888,
              "#fdca26"
             ],
             [
              1,
              "#f0f921"
             ]
            ],
            "type": "contour"
           }
          ],
          "contourcarpet": [
           {
            "colorbar": {
             "outlinewidth": 0,
             "ticks": ""
            },
            "type": "contourcarpet"
           }
          ],
          "heatmap": [
           {
            "colorbar": {
             "outlinewidth": 0,
             "ticks": ""
            },
            "colorscale": [
             [
              0,
              "#0d0887"
             ],
             [
              0.1111111111111111,
              "#46039f"
             ],
             [
              0.2222222222222222,
              "#7201a8"
             ],
             [
              0.3333333333333333,
              "#9c179e"
             ],
             [
              0.4444444444444444,
              "#bd3786"
             ],
             [
              0.5555555555555556,
              "#d8576b"
             ],
             [
              0.6666666666666666,
              "#ed7953"
             ],
             [
              0.7777777777777778,
              "#fb9f3a"
             ],
             [
              0.8888888888888888,
              "#fdca26"
             ],
             [
              1,
              "#f0f921"
             ]
            ],
            "type": "heatmap"
           }
          ],
          "heatmapgl": [
           {
            "colorbar": {
             "outlinewidth": 0,
             "ticks": ""
            },
            "colorscale": [
             [
              0,
              "#0d0887"
             ],
             [
              0.1111111111111111,
              "#46039f"
             ],
             [
              0.2222222222222222,
              "#7201a8"
             ],
             [
              0.3333333333333333,
              "#9c179e"
             ],
             [
              0.4444444444444444,
              "#bd3786"
             ],
             [
              0.5555555555555556,
              "#d8576b"
             ],
             [
              0.6666666666666666,
              "#ed7953"
             ],
             [
              0.7777777777777778,
              "#fb9f3a"
             ],
             [
              0.8888888888888888,
              "#fdca26"
             ],
             [
              1,
              "#f0f921"
             ]
            ],
            "type": "heatmapgl"
           }
          ],
          "histogram": [
           {
            "marker": {
             "colorbar": {
              "outlinewidth": 0,
              "ticks": ""
             }
            },
            "type": "histogram"
           }
          ],
          "histogram2d": [
           {
            "colorbar": {
             "outlinewidth": 0,
             "ticks": ""
            },
            "colorscale": [
             [
              0,
              "#0d0887"
             ],
             [
              0.1111111111111111,
              "#46039f"
             ],
             [
              0.2222222222222222,
              "#7201a8"
             ],
             [
              0.3333333333333333,
              "#9c179e"
             ],
             [
              0.4444444444444444,
              "#bd3786"
             ],
             [
              0.5555555555555556,
              "#d8576b"
             ],
             [
              0.6666666666666666,
              "#ed7953"
             ],
             [
              0.7777777777777778,
              "#fb9f3a"
             ],
             [
              0.8888888888888888,
              "#fdca26"
             ],
             [
              1,
              "#f0f921"
             ]
            ],
            "type": "histogram2d"
           }
          ],
          "histogram2dcontour": [
           {
            "colorbar": {
             "outlinewidth": 0,
             "ticks": ""
            },
            "colorscale": [
             [
              0,
              "#0d0887"
             ],
             [
              0.1111111111111111,
              "#46039f"
             ],
             [
              0.2222222222222222,
              "#7201a8"
             ],
             [
              0.3333333333333333,
              "#9c179e"
             ],
             [
              0.4444444444444444,
              "#bd3786"
             ],
             [
              0.5555555555555556,
              "#d8576b"
             ],
             [
              0.6666666666666666,
              "#ed7953"
             ],
             [
              0.7777777777777778,
              "#fb9f3a"
             ],
             [
              0.8888888888888888,
              "#fdca26"
             ],
             [
              1,
              "#f0f921"
             ]
            ],
            "type": "histogram2dcontour"
           }
          ],
          "mesh3d": [
           {
            "colorbar": {
             "outlinewidth": 0,
             "ticks": ""
            },
            "type": "mesh3d"
           }
          ],
          "parcoords": [
           {
            "line": {
             "colorbar": {
              "outlinewidth": 0,
              "ticks": ""
             }
            },
            "type": "parcoords"
           }
          ],
          "pie": [
           {
            "automargin": true,
            "type": "pie"
           }
          ],
          "scatter": [
           {
            "marker": {
             "colorbar": {
              "outlinewidth": 0,
              "ticks": ""
             }
            },
            "type": "scatter"
           }
          ],
          "scatter3d": [
           {
            "line": {
             "colorbar": {
              "outlinewidth": 0,
              "ticks": ""
             }
            },
            "marker": {
             "colorbar": {
              "outlinewidth": 0,
              "ticks": ""
             }
            },
            "type": "scatter3d"
           }
          ],
          "scattercarpet": [
           {
            "marker": {
             "colorbar": {
              "outlinewidth": 0,
              "ticks": ""
             }
            },
            "type": "scattercarpet"
           }
          ],
          "scattergeo": [
           {
            "marker": {
             "colorbar": {
              "outlinewidth": 0,
              "ticks": ""
             }
            },
            "type": "scattergeo"
           }
          ],
          "scattergl": [
           {
            "marker": {
             "colorbar": {
              "outlinewidth": 0,
              "ticks": ""
             }
            },
            "type": "scattergl"
           }
          ],
          "scattermapbox": [
           {
            "marker": {
             "colorbar": {
              "outlinewidth": 0,
              "ticks": ""
             }
            },
            "type": "scattermapbox"
           }
          ],
          "scatterpolar": [
           {
            "marker": {
             "colorbar": {
              "outlinewidth": 0,
              "ticks": ""
             }
            },
            "type": "scatterpolar"
           }
          ],
          "scatterpolargl": [
           {
            "marker": {
             "colorbar": {
              "outlinewidth": 0,
              "ticks": ""
             }
            },
            "type": "scatterpolargl"
           }
          ],
          "scatterternary": [
           {
            "marker": {
             "colorbar": {
              "outlinewidth": 0,
              "ticks": ""
             }
            },
            "type": "scatterternary"
           }
          ],
          "surface": [
           {
            "colorbar": {
             "outlinewidth": 0,
             "ticks": ""
            },
            "colorscale": [
             [
              0,
              "#0d0887"
             ],
             [
              0.1111111111111111,
              "#46039f"
             ],
             [
              0.2222222222222222,
              "#7201a8"
             ],
             [
              0.3333333333333333,
              "#9c179e"
             ],
             [
              0.4444444444444444,
              "#bd3786"
             ],
             [
              0.5555555555555556,
              "#d8576b"
             ],
             [
              0.6666666666666666,
              "#ed7953"
             ],
             [
              0.7777777777777778,
              "#fb9f3a"
             ],
             [
              0.8888888888888888,
              "#fdca26"
             ],
             [
              1,
              "#f0f921"
             ]
            ],
            "type": "surface"
           }
          ],
          "table": [
           {
            "cells": {
             "fill": {
              "color": "#EBF0F8"
             },
             "line": {
              "color": "white"
             }
            },
            "header": {
             "fill": {
              "color": "#C8D4E3"
             },
             "line": {
              "color": "white"
             }
            },
            "type": "table"
           }
          ]
         },
         "layout": {
          "annotationdefaults": {
           "arrowcolor": "#2a3f5f",
           "arrowhead": 0,
           "arrowwidth": 1
          },
          "coloraxis": {
           "colorbar": {
            "outlinewidth": 0,
            "ticks": ""
           }
          },
          "colorscale": {
           "diverging": [
            [
             0,
             "#8e0152"
            ],
            [
             0.1,
             "#c51b7d"
            ],
            [
             0.2,
             "#de77ae"
            ],
            [
             0.3,
             "#f1b6da"
            ],
            [
             0.4,
             "#fde0ef"
            ],
            [
             0.5,
             "#f7f7f7"
            ],
            [
             0.6,
             "#e6f5d0"
            ],
            [
             0.7,
             "#b8e186"
            ],
            [
             0.8,
             "#7fbc41"
            ],
            [
             0.9,
             "#4d9221"
            ],
            [
             1,
             "#276419"
            ]
           ],
           "sequential": [
            [
             0,
             "#0d0887"
            ],
            [
             0.1111111111111111,
             "#46039f"
            ],
            [
             0.2222222222222222,
             "#7201a8"
            ],
            [
             0.3333333333333333,
             "#9c179e"
            ],
            [
             0.4444444444444444,
             "#bd3786"
            ],
            [
             0.5555555555555556,
             "#d8576b"
            ],
            [
             0.6666666666666666,
             "#ed7953"
            ],
            [
             0.7777777777777778,
             "#fb9f3a"
            ],
            [
             0.8888888888888888,
             "#fdca26"
            ],
            [
             1,
             "#f0f921"
            ]
           ],
           "sequentialminus": [
            [
             0,
             "#0d0887"
            ],
            [
             0.1111111111111111,
             "#46039f"
            ],
            [
             0.2222222222222222,
             "#7201a8"
            ],
            [
             0.3333333333333333,
             "#9c179e"
            ],
            [
             0.4444444444444444,
             "#bd3786"
            ],
            [
             0.5555555555555556,
             "#d8576b"
            ],
            [
             0.6666666666666666,
             "#ed7953"
            ],
            [
             0.7777777777777778,
             "#fb9f3a"
            ],
            [
             0.8888888888888888,
             "#fdca26"
            ],
            [
             1,
             "#f0f921"
            ]
           ]
          },
          "colorway": [
           "#636efa",
           "#EF553B",
           "#00cc96",
           "#ab63fa",
           "#FFA15A",
           "#19d3f3",
           "#FF6692",
           "#B6E880",
           "#FF97FF",
           "#FECB52"
          ],
          "font": {
           "color": "#2a3f5f"
          },
          "geo": {
           "bgcolor": "white",
           "lakecolor": "white",
           "landcolor": "#E5ECF6",
           "showlakes": true,
           "showland": true,
           "subunitcolor": "white"
          },
          "hoverlabel": {
           "align": "left"
          },
          "hovermode": "closest",
          "mapbox": {
           "style": "light"
          },
          "paper_bgcolor": "white",
          "plot_bgcolor": "#E5ECF6",
          "polar": {
           "angularaxis": {
            "gridcolor": "white",
            "linecolor": "white",
            "ticks": ""
           },
           "bgcolor": "#E5ECF6",
           "radialaxis": {
            "gridcolor": "white",
            "linecolor": "white",
            "ticks": ""
           }
          },
          "scene": {
           "xaxis": {
            "backgroundcolor": "#E5ECF6",
            "gridcolor": "white",
            "gridwidth": 2,
            "linecolor": "white",
            "showbackground": true,
            "ticks": "",
            "zerolinecolor": "white"
           },
           "yaxis": {
            "backgroundcolor": "#E5ECF6",
            "gridcolor": "white",
            "gridwidth": 2,
            "linecolor": "white",
            "showbackground": true,
            "ticks": "",
            "zerolinecolor": "white"
           },
           "zaxis": {
            "backgroundcolor": "#E5ECF6",
            "gridcolor": "white",
            "gridwidth": 2,
            "linecolor": "white",
            "showbackground": true,
            "ticks": "",
            "zerolinecolor": "white"
           }
          },
          "shapedefaults": {
           "line": {
            "color": "#2a3f5f"
           }
          },
          "ternary": {
           "aaxis": {
            "gridcolor": "white",
            "linecolor": "white",
            "ticks": ""
           },
           "baxis": {
            "gridcolor": "white",
            "linecolor": "white",
            "ticks": ""
           },
           "bgcolor": "#E5ECF6",
           "caxis": {
            "gridcolor": "white",
            "linecolor": "white",
            "ticks": ""
           }
          },
          "title": {
           "x": 0.05
          },
          "xaxis": {
           "automargin": true,
           "gridcolor": "white",
           "linecolor": "white",
           "ticks": "",
           "title": {
            "standoff": 15
           },
           "zerolinecolor": "white",
           "zerolinewidth": 2
          },
          "yaxis": {
           "automargin": true,
           "gridcolor": "white",
           "linecolor": "white",
           "ticks": "",
           "title": {
            "standoff": 15
           },
           "zerolinecolor": "white",
           "zerolinewidth": 2
          }
         }
        },
        "title": {
         "text": "Attribute Scores by City"
        }
       }
      },
      "text/html": [
       "<div>\n",
       "        \n",
       "        \n",
       "            <div id=\"a1d6d625-f329-4dac-862d-1cae9b081d9d\" class=\"plotly-graph-div\" style=\"height:525px; width:100%;\"></div>\n",
       "            <script type=\"text/javascript\">\n",
       "                require([\"plotly\"], function(Plotly) {\n",
       "                    window.PLOTLYENV=window.PLOTLYENV || {};\n",
       "                    \n",
       "                if (document.getElementById(\"a1d6d625-f329-4dac-862d-1cae9b081d9d\")) {\n",
       "                    Plotly.newPlot(\n",
       "                        'a1d6d625-f329-4dac-862d-1cae9b081d9d',\n",
       "                        [{\"hoverinfo\": \"text\", \"lat\": [40.7, 47.6, 53.5, -34.9], \"lon\": [-74.0, -122.3, -113.5, 138.6], \"marker\": {\"cmax\": 0.6, \"cmin\": 0.4, \"color\": [0.46540588791262644, 0.5972934585338909, 0.5763343454367519, 0.5220141960703631], \"colorbar\": {\"title\": {\"text\": \"Score\"}}, \"colorscale\": [[0.0, \"rgb(255,247,236)\"], [0.125, \"rgb(254,232,200)\"], [0.25, \"rgb(253,212,158)\"], [0.375, \"rgb(253,187,132)\"], [0.5, \"rgb(252,141,89)\"], [0.625, \"rgb(239,101,72)\"], [0.75, \"rgb(215,48,31)\"], [0.875, \"rgb(179,0,0)\"], [1.0, \"rgb(127,0,0)\"]], \"opacity\": 0.6, \"size\": 20, \"symbol\": \"circle\"}, \"mode\": \"markers\", \"text\": [\"NYC Score: 0.47\", \"Seattle Score: 0.6\", \"Edmonton Score: 0.58\", \"Adelaide Score: 0.52\"], \"type\": \"scattermapbox\"}],\n",
       "                        {\"autosize\": false, \"hovermode\": \"closest\", \"mapbox\": {\"accesstoken\": \"pk.eyJ1IjoibWljYWVsYW1jY2FsbCIsImEiOiJjazRnOG44MWswZnFoM2xuNTg0dDgxNzkzIn0.GhKyS8bwcdfURDDLtEdr3Q\", \"bearing\": 0, \"center\": {\"lat\": 10, \"lon\": -160}, \"pitch\": 0, \"style\": \"light\", \"zoom\": 0.5}, \"template\": {\"data\": {\"bar\": [{\"error_x\": {\"color\": \"#2a3f5f\"}, \"error_y\": {\"color\": \"#2a3f5f\"}, \"marker\": {\"line\": {\"color\": \"#E5ECF6\", \"width\": 0.5}}, \"type\": \"bar\"}], \"barpolar\": [{\"marker\": {\"line\": {\"color\": \"#E5ECF6\", \"width\": 0.5}}, \"type\": \"barpolar\"}], \"carpet\": [{\"aaxis\": {\"endlinecolor\": \"#2a3f5f\", \"gridcolor\": \"white\", \"linecolor\": \"white\", \"minorgridcolor\": \"white\", \"startlinecolor\": \"#2a3f5f\"}, \"baxis\": {\"endlinecolor\": \"#2a3f5f\", \"gridcolor\": \"white\", \"linecolor\": \"white\", \"minorgridcolor\": \"white\", \"startlinecolor\": \"#2a3f5f\"}, \"type\": \"carpet\"}], \"choropleth\": [{\"colorbar\": {\"outlinewidth\": 0, \"ticks\": \"\"}, \"type\": \"choropleth\"}], \"contour\": [{\"colorbar\": {\"outlinewidth\": 0, \"ticks\": \"\"}, \"colorscale\": [[0.0, \"#0d0887\"], [0.1111111111111111, \"#46039f\"], [0.2222222222222222, \"#7201a8\"], [0.3333333333333333, \"#9c179e\"], [0.4444444444444444, \"#bd3786\"], [0.5555555555555556, \"#d8576b\"], [0.6666666666666666, \"#ed7953\"], [0.7777777777777778, \"#fb9f3a\"], [0.8888888888888888, \"#fdca26\"], [1.0, \"#f0f921\"]], \"type\": \"contour\"}], \"contourcarpet\": [{\"colorbar\": {\"outlinewidth\": 0, \"ticks\": \"\"}, \"type\": \"contourcarpet\"}], \"heatmap\": [{\"colorbar\": {\"outlinewidth\": 0, \"ticks\": \"\"}, \"colorscale\": [[0.0, \"#0d0887\"], [0.1111111111111111, \"#46039f\"], [0.2222222222222222, \"#7201a8\"], [0.3333333333333333, \"#9c179e\"], [0.4444444444444444, \"#bd3786\"], [0.5555555555555556, \"#d8576b\"], [0.6666666666666666, \"#ed7953\"], [0.7777777777777778, \"#fb9f3a\"], [0.8888888888888888, \"#fdca26\"], [1.0, \"#f0f921\"]], \"type\": \"heatmap\"}], \"heatmapgl\": [{\"colorbar\": {\"outlinewidth\": 0, \"ticks\": \"\"}, \"colorscale\": [[0.0, \"#0d0887\"], [0.1111111111111111, \"#46039f\"], [0.2222222222222222, \"#7201a8\"], [0.3333333333333333, \"#9c179e\"], [0.4444444444444444, \"#bd3786\"], [0.5555555555555556, \"#d8576b\"], [0.6666666666666666, \"#ed7953\"], [0.7777777777777778, \"#fb9f3a\"], [0.8888888888888888, \"#fdca26\"], [1.0, \"#f0f921\"]], \"type\": \"heatmapgl\"}], \"histogram\": [{\"marker\": {\"colorbar\": {\"outlinewidth\": 0, \"ticks\": \"\"}}, \"type\": \"histogram\"}], \"histogram2d\": [{\"colorbar\": {\"outlinewidth\": 0, \"ticks\": \"\"}, \"colorscale\": [[0.0, \"#0d0887\"], [0.1111111111111111, \"#46039f\"], [0.2222222222222222, \"#7201a8\"], [0.3333333333333333, \"#9c179e\"], [0.4444444444444444, \"#bd3786\"], [0.5555555555555556, \"#d8576b\"], [0.6666666666666666, \"#ed7953\"], [0.7777777777777778, \"#fb9f3a\"], [0.8888888888888888, \"#fdca26\"], [1.0, \"#f0f921\"]], \"type\": \"histogram2d\"}], \"histogram2dcontour\": [{\"colorbar\": {\"outlinewidth\": 0, \"ticks\": \"\"}, \"colorscale\": [[0.0, \"#0d0887\"], [0.1111111111111111, \"#46039f\"], [0.2222222222222222, \"#7201a8\"], [0.3333333333333333, \"#9c179e\"], [0.4444444444444444, \"#bd3786\"], [0.5555555555555556, \"#d8576b\"], [0.6666666666666666, \"#ed7953\"], [0.7777777777777778, \"#fb9f3a\"], [0.8888888888888888, \"#fdca26\"], [1.0, \"#f0f921\"]], \"type\": \"histogram2dcontour\"}], \"mesh3d\": [{\"colorbar\": {\"outlinewidth\": 0, \"ticks\": \"\"}, \"type\": \"mesh3d\"}], \"parcoords\": [{\"line\": {\"colorbar\": {\"outlinewidth\": 0, \"ticks\": \"\"}}, \"type\": \"parcoords\"}], \"pie\": [{\"automargin\": true, \"type\": \"pie\"}], \"scatter\": [{\"marker\": {\"colorbar\": {\"outlinewidth\": 0, \"ticks\": \"\"}}, \"type\": \"scatter\"}], \"scatter3d\": [{\"line\": {\"colorbar\": {\"outlinewidth\": 0, \"ticks\": \"\"}}, \"marker\": {\"colorbar\": {\"outlinewidth\": 0, \"ticks\": \"\"}}, \"type\": \"scatter3d\"}], \"scattercarpet\": [{\"marker\": {\"colorbar\": {\"outlinewidth\": 0, \"ticks\": \"\"}}, \"type\": \"scattercarpet\"}], \"scattergeo\": [{\"marker\": {\"colorbar\": {\"outlinewidth\": 0, \"ticks\": \"\"}}, \"type\": \"scattergeo\"}], \"scattergl\": [{\"marker\": {\"colorbar\": {\"outlinewidth\": 0, \"ticks\": \"\"}}, \"type\": \"scattergl\"}], \"scattermapbox\": [{\"marker\": {\"colorbar\": {\"outlinewidth\": 0, \"ticks\": \"\"}}, \"type\": \"scattermapbox\"}], \"scatterpolar\": [{\"marker\": {\"colorbar\": {\"outlinewidth\": 0, \"ticks\": \"\"}}, \"type\": \"scatterpolar\"}], \"scatterpolargl\": [{\"marker\": {\"colorbar\": {\"outlinewidth\": 0, \"ticks\": \"\"}}, \"type\": \"scatterpolargl\"}], \"scatterternary\": [{\"marker\": {\"colorbar\": {\"outlinewidth\": 0, \"ticks\": \"\"}}, \"type\": \"scatterternary\"}], \"surface\": [{\"colorbar\": {\"outlinewidth\": 0, \"ticks\": \"\"}, \"colorscale\": [[0.0, \"#0d0887\"], [0.1111111111111111, \"#46039f\"], [0.2222222222222222, \"#7201a8\"], [0.3333333333333333, \"#9c179e\"], [0.4444444444444444, \"#bd3786\"], [0.5555555555555556, \"#d8576b\"], [0.6666666666666666, \"#ed7953\"], [0.7777777777777778, \"#fb9f3a\"], [0.8888888888888888, \"#fdca26\"], [1.0, \"#f0f921\"]], \"type\": \"surface\"}], \"table\": [{\"cells\": {\"fill\": {\"color\": \"#EBF0F8\"}, \"line\": {\"color\": \"white\"}}, \"header\": {\"fill\": {\"color\": \"#C8D4E3\"}, \"line\": {\"color\": \"white\"}}, \"type\": \"table\"}]}, \"layout\": {\"annotationdefaults\": {\"arrowcolor\": \"#2a3f5f\", \"arrowhead\": 0, \"arrowwidth\": 1}, \"coloraxis\": {\"colorbar\": {\"outlinewidth\": 0, \"ticks\": \"\"}}, \"colorscale\": {\"diverging\": [[0, \"#8e0152\"], [0.1, \"#c51b7d\"], [0.2, \"#de77ae\"], [0.3, \"#f1b6da\"], [0.4, \"#fde0ef\"], [0.5, \"#f7f7f7\"], [0.6, \"#e6f5d0\"], [0.7, \"#b8e186\"], [0.8, \"#7fbc41\"], [0.9, \"#4d9221\"], [1, \"#276419\"]], \"sequential\": [[0.0, \"#0d0887\"], [0.1111111111111111, \"#46039f\"], [0.2222222222222222, \"#7201a8\"], [0.3333333333333333, \"#9c179e\"], [0.4444444444444444, \"#bd3786\"], [0.5555555555555556, \"#d8576b\"], [0.6666666666666666, \"#ed7953\"], [0.7777777777777778, \"#fb9f3a\"], [0.8888888888888888, \"#fdca26\"], [1.0, \"#f0f921\"]], \"sequentialminus\": [[0.0, \"#0d0887\"], [0.1111111111111111, \"#46039f\"], [0.2222222222222222, \"#7201a8\"], [0.3333333333333333, \"#9c179e\"], [0.4444444444444444, \"#bd3786\"], [0.5555555555555556, \"#d8576b\"], [0.6666666666666666, \"#ed7953\"], [0.7777777777777778, \"#fb9f3a\"], [0.8888888888888888, \"#fdca26\"], [1.0, \"#f0f921\"]]}, \"colorway\": [\"#636efa\", \"#EF553B\", \"#00cc96\", \"#ab63fa\", \"#FFA15A\", \"#19d3f3\", \"#FF6692\", \"#B6E880\", \"#FF97FF\", \"#FECB52\"], \"font\": {\"color\": \"#2a3f5f\"}, \"geo\": {\"bgcolor\": \"white\", \"lakecolor\": \"white\", \"landcolor\": \"#E5ECF6\", \"showlakes\": true, \"showland\": true, \"subunitcolor\": \"white\"}, \"hoverlabel\": {\"align\": \"left\"}, \"hovermode\": \"closest\", \"mapbox\": {\"style\": \"light\"}, \"paper_bgcolor\": \"white\", \"plot_bgcolor\": \"#E5ECF6\", \"polar\": {\"angularaxis\": {\"gridcolor\": \"white\", \"linecolor\": \"white\", \"ticks\": \"\"}, \"bgcolor\": \"#E5ECF6\", \"radialaxis\": {\"gridcolor\": \"white\", \"linecolor\": \"white\", \"ticks\": \"\"}}, \"scene\": {\"xaxis\": {\"backgroundcolor\": \"#E5ECF6\", \"gridcolor\": \"white\", \"gridwidth\": 2, \"linecolor\": \"white\", \"showbackground\": true, \"ticks\": \"\", \"zerolinecolor\": \"white\"}, \"yaxis\": {\"backgroundcolor\": \"#E5ECF6\", \"gridcolor\": \"white\", \"gridwidth\": 2, \"linecolor\": \"white\", \"showbackground\": true, \"ticks\": \"\", \"zerolinecolor\": \"white\"}, \"zaxis\": {\"backgroundcolor\": \"#E5ECF6\", \"gridcolor\": \"white\", \"gridwidth\": 2, \"linecolor\": \"white\", \"showbackground\": true, \"ticks\": \"\", \"zerolinecolor\": \"white\"}}, \"shapedefaults\": {\"line\": {\"color\": \"#2a3f5f\"}}, \"ternary\": {\"aaxis\": {\"gridcolor\": \"white\", \"linecolor\": \"white\", \"ticks\": \"\"}, \"baxis\": {\"gridcolor\": \"white\", \"linecolor\": \"white\", \"ticks\": \"\"}, \"bgcolor\": \"#E5ECF6\", \"caxis\": {\"gridcolor\": \"white\", \"linecolor\": \"white\", \"ticks\": \"\"}}, \"title\": {\"x\": 0.05}, \"xaxis\": {\"automargin\": true, \"gridcolor\": \"white\", \"linecolor\": \"white\", \"ticks\": \"\", \"title\": {\"standoff\": 15}, \"zerolinecolor\": \"white\", \"zerolinewidth\": 2}, \"yaxis\": {\"automargin\": true, \"gridcolor\": \"white\", \"linecolor\": \"white\", \"ticks\": \"\", \"title\": {\"standoff\": 15}, \"zerolinecolor\": \"white\", \"zerolinewidth\": 2}}}, \"title\": {\"text\": \"Attribute Scores by City\"}},\n",
       "                        {\"responsive\": true}\n",
       "                    ).then(function(){\n",
       "                            \n",
       "var gd = document.getElementById('a1d6d625-f329-4dac-862d-1cae9b081d9d');\n",
       "var x = new MutationObserver(function (mutations, observer) {{\n",
       "        var display = window.getComputedStyle(gd).display;\n",
       "        if (!display || display === 'none') {{\n",
       "            console.log([gd, 'removed!']);\n",
       "            Plotly.purge(gd);\n",
       "            observer.disconnect();\n",
       "        }}\n",
       "}});\n",
       "\n",
       "// Listen for the removal of the full notebook cells\n",
       "var notebookContainer = gd.closest('#notebook-container');\n",
       "if (notebookContainer) {{\n",
       "    x.observe(notebookContainer, {childList: true});\n",
       "}}\n",
       "\n",
       "// Listen for the clearing of the current output cell\n",
       "var outputEl = gd.closest('.output');\n",
       "if (outputEl) {{\n",
       "    x.observe(outputEl, {childList: true});\n",
       "}}\n",
       "\n",
       "                        })\n",
       "                };\n",
       "                });\n",
       "            </script>\n",
       "        </div>"
      ]
     },
     "metadata": {},
     "output_type": "display_data"
    }
   ],
   "source": [
    "attrib_selection = 'Trainable'\n",
    "\n",
    "attributemap = go.Figure([go.Scattermapbox(\n",
    "    lat = combined_attrib_coords[combined_attrib_coords.Attribute == attrib_selection].lat, \n",
    "    lon = combined_attrib_coords[combined_attrib_coords.Attribute == attrib_selection].lon,\n",
    "    hoverinfo= \"text\", \n",
    "    text = ['{} Score: {}'.format(*i) for i in zip(combined_attrib_coords[combined_attrib_coords.Attribute == attrib_selection].City, combined_attrib_coords[combined_attrib_coords.Attribute == attrib_selection].Average.round(decimals= 2))],\n",
    "    mode = 'markers', \n",
    "    marker = dict(\n",
    "        cmin = 0.4,\n",
    "        cmax= 0.6,\n",
    "        size = 20,\n",
    "        opacity = 0.6,\n",
    "        symbol = 'circle',\n",
    "        color = combined_attrib_coords[combined_attrib_coords.Attribute == attrib_selection].Average,\n",
    "        colorscale = 'OrRd',\n",
    "        colorbar_title=\"Score\"))])\n",
    "\n",
    "attributemap.update_layout(\n",
    "    title_text=\"Attribute Scores by City\",\n",
    "    autosize=False,\n",
    "    hovermode='closest',\n",
    "    mapbox=go.layout.Mapbox(\n",
    "        accesstoken=token,\n",
    "        bearing=0,\n",
    "        center=go.layout.mapbox.Center(\n",
    "            lat=10,\n",
    "            lon=-160\n",
    "        ),\n",
    "        pitch=0,\n",
    "        zoom=0.5,\n",
    "        style='light'\n",
    "    ),\n",
    ")\n",
    "\n",
    "\n",
    "attributemap.show()"
   ]
  },
  {
   "cell_type": "code",
   "execution_count": null,
   "metadata": {},
   "outputs": [],
   "source": [
    "combined_attrib_coords.to_csv('../dogdata/combined_attrib_coords.csv')\n",
    "combined_breeds_coords.to_csv('../dogdata/combined_breeds_coords.csv')"
   ]
  },
  {
   "cell_type": "markdown",
   "metadata": {},
   "source": [
    "## Top 5 breeds in each city"
   ]
  },
  {
   "cell_type": "code",
   "execution_count": 95,
   "metadata": {},
   "outputs": [
    {
     "data": {
      "text/html": [
       "<div>\n",
       "<style scoped>\n",
       "    .dataframe tbody tr th:only-of-type {\n",
       "        vertical-align: middle;\n",
       "    }\n",
       "\n",
       "    .dataframe tbody tr th {\n",
       "        vertical-align: top;\n",
       "    }\n",
       "\n",
       "    .dataframe thead th {\n",
       "        text-align: right;\n",
       "    }\n",
       "</style>\n",
       "<table border=\"1\" class=\"dataframe\">\n",
       "  <thead>\n",
       "    <tr style=\"text-align: right;\">\n",
       "      <th></th>\n",
       "      <th>Breed</th>\n",
       "      <th>Count</th>\n",
       "    </tr>\n",
       "    <tr>\n",
       "      <th>City</th>\n",
       "      <th></th>\n",
       "      <th></th>\n",
       "    </tr>\n",
       "  </thead>\n",
       "  <tbody>\n",
       "    <tr>\n",
       "      <th>Adelaide</th>\n",
       "      <td>Maltese</td>\n",
       "      <td>1737.0</td>\n",
       "    </tr>\n",
       "    <tr>\n",
       "      <th>Adelaide</th>\n",
       "      <td>Staffordshire Bull Terrier</td>\n",
       "      <td>1001.0</td>\n",
       "    </tr>\n",
       "    <tr>\n",
       "      <th>Adelaide</th>\n",
       "      <td>Labrador Retriever</td>\n",
       "      <td>942.0</td>\n",
       "    </tr>\n",
       "    <tr>\n",
       "      <th>Adelaide</th>\n",
       "      <td>Jack Russell Terrier</td>\n",
       "      <td>911.0</td>\n",
       "    </tr>\n",
       "    <tr>\n",
       "      <th>Adelaide</th>\n",
       "      <td>Chihuahua</td>\n",
       "      <td>700.0</td>\n",
       "    </tr>\n",
       "    <tr>\n",
       "      <th>Edmonton</th>\n",
       "      <td>Labrador Retriever</td>\n",
       "      <td>5426.0</td>\n",
       "    </tr>\n",
       "    <tr>\n",
       "      <th>Edmonton</th>\n",
       "      <td>Shih Tzu</td>\n",
       "      <td>4749.0</td>\n",
       "    </tr>\n",
       "    <tr>\n",
       "      <th>Edmonton</th>\n",
       "      <td>German Shepherd</td>\n",
       "      <td>3732.0</td>\n",
       "    </tr>\n",
       "    <tr>\n",
       "      <th>Edmonton</th>\n",
       "      <td>Chihuahua</td>\n",
       "      <td>2656.0</td>\n",
       "    </tr>\n",
       "    <tr>\n",
       "      <th>Edmonton</th>\n",
       "      <td>Border Collie</td>\n",
       "      <td>2379.0</td>\n",
       "    </tr>\n",
       "    <tr>\n",
       "      <th>NYC</th>\n",
       "      <td>Yorkshire Terrier</td>\n",
       "      <td>7412.0</td>\n",
       "    </tr>\n",
       "    <tr>\n",
       "      <th>NYC</th>\n",
       "      <td>Shih Tzu</td>\n",
       "      <td>6835.0</td>\n",
       "    </tr>\n",
       "    <tr>\n",
       "      <th>NYC</th>\n",
       "      <td>Chihuahua</td>\n",
       "      <td>5555.0</td>\n",
       "    </tr>\n",
       "    <tr>\n",
       "      <th>NYC</th>\n",
       "      <td>Maltese</td>\n",
       "      <td>4117.0</td>\n",
       "    </tr>\n",
       "    <tr>\n",
       "      <th>NYC</th>\n",
       "      <td>Labrador Retriever</td>\n",
       "      <td>4055.0</td>\n",
       "    </tr>\n",
       "    <tr>\n",
       "      <th>Seattle</th>\n",
       "      <td>Labrador Retriever</td>\n",
       "      <td>2534.0</td>\n",
       "    </tr>\n",
       "    <tr>\n",
       "      <th>Seattle</th>\n",
       "      <td>Golden Retriever</td>\n",
       "      <td>1128.0</td>\n",
       "    </tr>\n",
       "    <tr>\n",
       "      <th>Seattle</th>\n",
       "      <td>Chihuahua</td>\n",
       "      <td>988.0</td>\n",
       "    </tr>\n",
       "    <tr>\n",
       "      <th>Seattle</th>\n",
       "      <td>German Shepherd</td>\n",
       "      <td>549.0</td>\n",
       "    </tr>\n",
       "    <tr>\n",
       "      <th>Seattle</th>\n",
       "      <td>Miniature Poodle</td>\n",
       "      <td>472.0</td>\n",
       "    </tr>\n",
       "  </tbody>\n",
       "</table>\n",
       "</div>"
      ],
      "text/plain": [
       "                               Breed   Count\n",
       "City                                        \n",
       "Adelaide                     Maltese  1737.0\n",
       "Adelaide  Staffordshire Bull Terrier  1001.0\n",
       "Adelaide          Labrador Retriever   942.0\n",
       "Adelaide        Jack Russell Terrier   911.0\n",
       "Adelaide                   Chihuahua   700.0\n",
       "Edmonton          Labrador Retriever  5426.0\n",
       "Edmonton                    Shih Tzu  4749.0\n",
       "Edmonton             German Shepherd  3732.0\n",
       "Edmonton                   Chihuahua  2656.0\n",
       "Edmonton               Border Collie  2379.0\n",
       "NYC                Yorkshire Terrier  7412.0\n",
       "NYC                         Shih Tzu  6835.0\n",
       "NYC                        Chihuahua  5555.0\n",
       "NYC                          Maltese  4117.0\n",
       "NYC               Labrador Retriever  4055.0\n",
       "Seattle           Labrador Retriever  2534.0\n",
       "Seattle             Golden Retriever  1128.0\n",
       "Seattle                    Chihuahua   988.0\n",
       "Seattle              German Shepherd   549.0\n",
       "Seattle             Miniature Poodle   472.0"
      ]
     },
     "execution_count": 95,
     "metadata": {},
     "output_type": "execute_result"
    }
   ],
   "source": [
    "combined_breeds_coords[['City','Breed','Count']].groupby(by='City').apply(lambda x: x.nlargest(5, 'Count')).set_index('City')"
   ]
  },
  {
   "cell_type": "markdown",
   "metadata": {},
   "source": [
    "## East coast vs. West coast"
   ]
  },
  {
   "cell_type": "code",
   "execution_count": 36,
   "metadata": {},
   "outputs": [
    {
     "data": {
      "image/png": "[encoded data removed]",
      "text/plain": [
       "<Figure size 576x432 with 1 Axes>"
      ]
     },
     "metadata": {
      "needs_background": "light"
     },
     "output_type": "display_data"
    }
   ],
   "source": [
    "x = np.arange(len(nyc_mean.index))  # the label locations\n",
    "width = 0.35  # the width of the bars\n",
    "\n",
    "fig, ax = plt.subplots()\n",
    "fig.set_size_inches(8, 6)\n",
    "rects1 = ax.bar(x - width/2, nyc_mean, width, label='New York')\n",
    "rects1 = ax.bar(x + width/2, seattle_mean, width, label='Seattle')\n",
    "\n",
    "# Add some text for labels, title and custom x-axis tick labels, etc.\n",
    "ax.set_ylabel('Scores')\n",
    "ax.set_title('East Coast vs. West Coast')\n",
    "ax.set_xticks(x)\n",
    "ax.set_xticklabels(nyc_mean.index)\n",
    "ax.legend(loc='lower left', bbox_to_anchor= (1.05, .85), ncol=1, \n",
    "            borderaxespad=0, frameon=False)"
   ]
  },
  {
   "cell_type": "markdown",
   "metadata": {},
   "source": [
    "## Ancestral origin"
   ]
  },
  {
   "cell_type": "code",
   "execution_count": 96,
   "metadata": {},
   "outputs": [
    {
     "name": "stdout",
     "output_type": "stream",
     "text": [
      "\n",
      "UK and Ireland Mean\n",
      "          Obedient  Calm  Trainable  Sociable  Bold\n",
      "Origin                                             \n",
      "England       0.51  0.70        0.4      0.65   0.7\n",
      "Ireland       0.62  0.75        0.5      0.62   0.5\n",
      "Scotland      0.59  0.80        0.6      0.80   0.8\n",
      "Wales         0.59  0.00        1.0      0.00   0.0\n",
      "\n",
      "UK and Ireland Standard Deviation\n",
      "          Obedient  Calm  Trainable  Sociable  Bold\n",
      "Origin                                             \n",
      "England       0.21  0.48       0.32      0.47  0.42\n",
      "Ireland       0.15  0.50       0.41      0.48  0.58\n",
      "Scotland      0.25  0.45       0.22      0.45  0.45\n",
      "Wales         0.24   NaN        NaN       NaN   NaN\n",
      "\n",
      "UK and Ireland Count\n",
      "          Obedient  Calm  Trainable  Sociable  Bold\n",
      "Origin                                             \n",
      "England         19    10         10        10    10\n",
      "Ireland          6     4          4         4     4\n",
      "Scotland        10     5          5         5     5\n",
      "Wales            4     1          1         1     1\n"
     ]
    },
    {
     "data": {
      "image/png": "[encoded data removed]",
      "text/plain": [
       "<Figure size 432x288 with 1 Axes>"
      ]
     },
     "metadata": {
      "needs_background": "light"
     },
     "output_type": "display_data"
    }
   ],
   "source": [
    "ancestral = wiki[['Breed', 'Origin']]\n",
    "ancestral_uk_ire = ancestral.copy()\n",
    "ancestral_uk_ire.dropna(inplace=True)\n",
    "ancestral_uk_ire = ancestral_uk_ire[ancestral_uk_ire['Origin'].isin(['England', 'Scotland', 'Wales', 'Ireland'])]\n",
    "ancestral_uk_ire = ancestral_uk_ire.set_index('Breed').join(attrib, how='inner')\n",
    "ancestral_uk_ire_grp = ancestral_uk_ire.groupby('Origin')\n",
    "ancestral_uk_ire_mean = ancestral_uk_ire_grp.mean()\n",
    "print('\\nUK and Ireland Mean')\n",
    "print(ancestral_uk_ire_grp.mean().round(decimals=2))\n",
    "print('\\nUK and Ireland Standard Deviation')\n",
    "print(ancestral_uk_ire_grp.std().round(decimals=2))\n",
    "print('\\nUK and Ireland Count')\n",
    "\n",
    "print(ancestral_uk_ire_grp.count())\n",
    "\n",
    "# Plot the UK and Ireland data\n",
    "# Remove Wales since it only has one dog for some of the data\n",
    "ancestral_uk_ire_mean.drop('Wales', inplace=True)\n",
    "plot_by_attrib(ancestral_uk_ire_mean, lst, 'UK and Irish Ancestry')\n",
    "\n",
    "# Combining Scotland, Wales, and England as United Kingdom\n",
    "ancestral['Origin'] = ancestral['Origin'].map(lambda x: 'United Kingdom' if x in {'England', 'Wales', 'Scotland'} else x)\n",
    "ancestral_attrib = ancestral.set_index('Breed').join(attrib, how='inner')"
   ]
  },
  {
   "cell_type": "code",
   "execution_count": 98,
   "metadata": {},
   "outputs": [
    {
     "data": {
      "text/html": [
       "<div>\n",
       "<style scoped>\n",
       "    .dataframe tbody tr th:only-of-type {\n",
       "        vertical-align: middle;\n",
       "    }\n",
       "\n",
       "    .dataframe tbody tr th {\n",
       "        vertical-align: top;\n",
       "    }\n",
       "\n",
       "    .dataframe thead th {\n",
       "        text-align: right;\n",
       "    }\n",
       "</style>\n",
       "<table border=\"1\" class=\"dataframe\">\n",
       "  <thead>\n",
       "    <tr style=\"text-align: right;\">\n",
       "      <th></th>\n",
       "      <th>Bold</th>\n",
       "      <th>Calm</th>\n",
       "      <th>Obedient</th>\n",
       "      <th>Origin</th>\n",
       "      <th>Sociable</th>\n",
       "      <th>Trainable</th>\n",
       "    </tr>\n",
       "  </thead>\n",
       "  <tbody>\n",
       "    <tr>\n",
       "      <th>0</th>\n",
       "      <td>1.0</td>\n",
       "      <td>1.0</td>\n",
       "      <td>0.7</td>\n",
       "      <td>United Kingdom</td>\n",
       "      <td>1.0</td>\n",
       "      <td>0.5</td>\n",
       "    </tr>\n",
       "    <tr>\n",
       "      <th>1</th>\n",
       "      <td>0.0</td>\n",
       "      <td>1.0</td>\n",
       "      <td>0.5</td>\n",
       "      <td>United States</td>\n",
       "      <td>0.5</td>\n",
       "      <td>0.0</td>\n",
       "    </tr>\n",
       "    <tr>\n",
       "      <th>2</th>\n",
       "      <td>0.0</td>\n",
       "      <td>0.0</td>\n",
       "      <td>0.7</td>\n",
       "      <td>United States</td>\n",
       "      <td>0.0</td>\n",
       "      <td>1.0</td>\n",
       "    </tr>\n",
       "    <tr>\n",
       "      <th>3</th>\n",
       "      <td>0.0</td>\n",
       "      <td>0.0</td>\n",
       "      <td>0.5</td>\n",
       "      <td>United States</td>\n",
       "      <td>0.0</td>\n",
       "      <td>1.0</td>\n",
       "    </tr>\n",
       "    <tr>\n",
       "      <th>4</th>\n",
       "      <td>1.0</td>\n",
       "      <td>1.0</td>\n",
       "      <td>0.1</td>\n",
       "      <td>United Kingdom</td>\n",
       "      <td>1.0</td>\n",
       "      <td>0.5</td>\n",
       "    </tr>\n",
       "  </tbody>\n",
       "</table>\n",
       "</div>"
      ],
      "text/plain": [
       "   Bold  Calm  Obedient          Origin  Sociable  Trainable\n",
       "0   1.0   1.0       0.7  United Kingdom       1.0        0.5\n",
       "1   0.0   1.0       0.5   United States       0.5        0.0\n",
       "2   0.0   0.0       0.7   United States       0.0        1.0\n",
       "3   0.0   0.0       0.5   United States       0.0        1.0\n",
       "4   1.0   1.0       0.1  United Kingdom       1.0        0.5"
      ]
     },
     "execution_count": 98,
     "metadata": {},
     "output_type": "execute_result"
    }
   ],
   "source": [
    "ancestral_attrib.dropna(inplace=True)\n",
    "ancestral_attrib2 = splitDataFrameList(ancestral_attrib,'Origin', '/')\n",
    "ancestral_attrib2['Origin'] = ancestral_attrib2['Origin'].map(lambda x: 'China' if x == 'Tibet (China)' else x)\n",
    "ancestral_attrib2.head()"
   ]
  },
  {
   "cell_type": "code",
   "execution_count": 63,
   "metadata": {},
   "outputs": [],
   "source": [
    "ancestral_uk = ancestral_attrib2[ancestral_attrib2['Origin'] == 'United Kingdom']\n",
    "ancestral_not_uk = ancestral_attrib2[~(ancestral_attrib2['Origin'] == 'United Kingdom')]\n",
    "ancestral_uk_bold = ancestral_uk['Bold']\n",
    "ancestral_uk_bold.dropna(inplace=True)\n",
    "ancestral_not_uk_bold = ancestral_not_uk['Bold']\n",
    "ancestral_not_uk_bold.dropna(inplace=True)\n",
    "ancestral_uk_obedient = ancestral_uk['Obedient']\n",
    "ancestral_not_uk_obedient = ancestral_not_uk['Obedient']"
   ]
  }
 ],
 "metadata": {
  "kernelspec": {
   "display_name": "Python 3",
   "language": "python",
   "name": "python3"
  },
  "language_info": {
   "codemirror_mode": {
    "name": "ipython",
    "version": 3
   },
   "file_extension": ".py",
   "mimetype": "text/x-python",
   "name": "python",
   "nbconvert_exporter": "python",
   "pygments_lexer": "ipython3",
   "version": "3.7.0"
  }
 },
 "nbformat": 4,
 "nbformat_minor": 2
}
